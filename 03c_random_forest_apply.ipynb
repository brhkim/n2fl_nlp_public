{
 "cells": [
  {
   "cell_type": "markdown",
   "metadata": {
    "id": "XkayfszZ_YLz"
   },
   "source": [
    "# Basic Setup"
   ]
  },
  {
   "cell_type": "code",
   "execution_count": null,
   "metadata": {
    "id": "oAF9pGSJ841T"
   },
   "outputs": [],
   "source": [
    "import pandas as pd\n",
    "import numpy as np\n",
    "import time\n",
    "import seaborn as sns\n",
    "import matplotlib.pyplot as plt\n",
    "import tensorflow as tf\n",
    "import pickle\n",
    "\n",
    "from sklearn import model_selection\n",
    "from sklearn import ensemble\n",
    "from sklearn.model_selection import RandomizedSearchCV\n",
    "from sklearn.metrics import confusion_matrix \n",
    "from sklearn.metrics import accuracy_score \n",
    "from sklearn.metrics import classification_report \n",
    "\n",
    "from sklearn.model_selection import cross_val_score"
   ]
  },
  {
   "cell_type": "markdown",
   "metadata": {
    "id": "Wo8zpXqP_bt3"
   },
   "source": [
    "# Load in Data"
   ]
  },
  {
   "cell_type": "code",
   "execution_count": null,
   "metadata": {},
   "outputs": [],
   "source": [
    "rfc = pickle.load(open(\"../../N2FL NLP/data/03b_rfc.sav\", \"rb\"))"
   ]
  },
  {
   "cell_type": "code",
   "execution_count": null,
   "metadata": {
    "id": "rburcYGd_hSV"
   },
   "outputs": [],
   "source": [
    "data = pd.read_csv(\"../../N2FL NLP/data/03a_sentiment_prep_masked.csv\", sep=\",\", encoding='utf-8').drop(columns=[\"Unnamed: 0\", \"index\"])"
   ]
  },
  {
   "cell_type": "code",
   "execution_count": null,
   "metadata": {
    "colab": {
     "base_uri": "https://localhost:8080/"
    },
    "executionInfo": {
     "elapsed": 2769,
     "status": "ok",
     "timestamp": 1617309079043,
     "user": {
      "displayName": "Brian Kim",
      "photoUrl": "https://lh3.googleusercontent.com/a-/AOh14GheK6fjKCJnJKGaH7uYzy5meG555MjbR-ZMdGLarA=s64",
      "userId": "17231552563920409361"
     },
     "user_tz": 240
    },
    "id": "mlkcN8w7YcAv",
    "outputId": "6aa49bf4-c014-43f6-f4ad-c382bd13f5ba"
   },
   "outputs": [],
   "source": [
    "data.head()"
   ]
  },
  {
   "cell_type": "code",
   "execution_count": null,
   "metadata": {},
   "outputs": [],
   "source": [
    "data.shape"
   ]
  },
  {
   "cell_type": "markdown",
   "metadata": {
    "id": "ZstvvsYFBYXz"
   },
   "source": [
    "# Clean Data for Algorithm"
   ]
  },
  {
   "cell_type": "markdown",
   "metadata": {
    "id": "PKlVuAHwBl8N"
   },
   "source": [
    "### Make dummy variables from predictions"
   ]
  },
  {
   "cell_type": "code",
   "execution_count": null,
   "metadata": {
    "id": "Yhc0i8gC9xXY"
   },
   "outputs": [],
   "source": [
    "data_x = pd.get_dummies(data, prefix=['yelp_', 'xlnet_', 'albert_', 'stanza_', 'bert_', 'twit_', 'imdb_'], columns=['label_predict_yelp', 'label_predict_xlnet', 'label_predict_albert', 'label_predict_stanza', 'label_predict_bert', 'label_predict_twit', 'label_predict_imdb']).drop(columns=[\"text\"])"
   ]
  },
  {
   "cell_type": "markdown",
   "metadata": {
    "id": "VSB25NZyBjM3"
   },
   "source": [
    "### Add additional predictors"
   ]
  },
  {
   "cell_type": "code",
   "execution_count": null,
   "metadata": {},
   "outputs": [],
   "source": [
    "def add_predictors(df):\n",
    "    start_time = time.time()\n",
    "    \n",
    "    tmp = pd.DataFrame(np.sort(df[[\"LABEL_0_yelp\", \"LABEL_1_yelp\", \"LABEL_2_yelp\", \"LABEL_3_yelp\", \"LABEL_4_yelp\"]].values))\n",
    "    df[\"label_prob2_yelp\"] = tmp.iloc[:,-2].values\n",
    "    df[\"label_prob_diff_yelp\"] = df[\"label_prob_yelp\"] - df[\"label_prob2_yelp\"]\n",
    "\n",
    "    df[\"label_prob_diff_xlnet\"] = (df[\"LABEL_0_xlnet\"] - df[\"LABEL_4_xlnet\"]).abs()\n",
    "\n",
    "    df[\"label_prob_diff_albert\"] = (df[\"LABEL_0_albert\"] - df[\"LABEL_4_albert\"]).abs()\n",
    "\n",
    "    tmp = pd.DataFrame(np.sort(df[[\"LABEL_0_bert\", \"LABEL_1_bert\", \"LABEL_2_bert\", \"LABEL_3_bert\", \"LABEL_4_bert\"]].values))\n",
    "    df[\"label_prob2_bert\"] = tmp.iloc[:,-2].values\n",
    "    df[\"label_prob_diff_bert\"] = df[\"label_prob_bert\"] - df[\"label_prob2_bert\"]\n",
    "\n",
    "    tmp = pd.DataFrame(np.sort(df[[\"LABEL_0_twit\", \"LABEL_2_twit\", \"LABEL_4_twit\"]].values))\n",
    "    df[\"label_prob2_twit\"] = tmp.iloc[:,-2].values\n",
    "    df[\"label_prob_diff_twit\"] = df[\"label_prob_twit\"] - df[\"label_prob2_twit\"]\n",
    "    \n",
    "    print(\"--- %s seconds ---\" % (time.time() - start_time))\n",
    "\n",
    "    return df"
   ]
  },
  {
   "cell_type": "code",
   "execution_count": null,
   "metadata": {
    "id": "7073ZOUMBvwF"
   },
   "outputs": [],
   "source": [
    "data_x = add_predictors(data_x)"
   ]
  },
  {
   "cell_type": "code",
   "execution_count": null,
   "metadata": {},
   "outputs": [],
   "source": [
    "data_x.head()"
   ]
  },
  {
   "cell_type": "markdown",
   "metadata": {
    "id": "f1nTX-ZICJLs"
   },
   "source": [
    "# Apply to analytic data"
   ]
  },
  {
   "cell_type": "code",
   "execution_count": null,
   "metadata": {
    "id": "3RViKNC4eQzj"
   },
   "outputs": [],
   "source": [
    "start_time = time.time()\n",
    "rfc_predict_data = rfc.predict(data_x)\n",
    "rfc_predict_data = pd.Series(rfc_predict_data)\n",
    "print(\"--- %s seconds ---\" % (time.time() - start_time))"
   ]
  },
  {
   "cell_type": "code",
   "execution_count": null,
   "metadata": {
    "id": "gZDgjUCzAIxV"
   },
   "outputs": [],
   "source": [
    "start_time = time.time()\n",
    "probabilities = rfc.predict_proba(data_x)\n",
    "print(\"--- %s seconds ---\" % (time.time() - start_time))"
   ]
  },
  {
   "cell_type": "code",
   "execution_count": null,
   "metadata": {
    "id": "IIPrOYBXwcin"
   },
   "outputs": [],
   "source": [
    "predictions = {'merge': rfc_predict_data.index,'label_predict_forest': rfc_predict_data, 'LABEL_0_forest': probabilities[:,0], 'LABEL_1_forest': probabilities[:,1], 'LABEL_2_forest': probabilities[:,2], 'LABEL_3_forest': probabilities[:,3], 'LABEL_4_forest': probabilities[:,4]}"
   ]
  },
  {
   "cell_type": "code",
   "execution_count": null,
   "metadata": {
    "id": "wIgT61myxO6o"
   },
   "outputs": [],
   "source": [
    "predictions = pd.DataFrame(predictions)"
   ]
  },
  {
   "cell_type": "code",
   "execution_count": null,
   "metadata": {
    "id": "Ij7Oq1myxYa8"
   },
   "outputs": [],
   "source": [
    "data_x['merge'] = np.arange(len(data_x))"
   ]
  },
  {
   "cell_type": "code",
   "execution_count": null,
   "metadata": {
    "id": "VfVbt4x9xgd2"
   },
   "outputs": [],
   "source": [
    "data_x['index'] = data_x.index"
   ]
  },
  {
   "cell_type": "code",
   "execution_count": null,
   "metadata": {},
   "outputs": [],
   "source": [
    "data_x['text'] = data['text']"
   ]
  },
  {
   "cell_type": "code",
   "execution_count": null,
   "metadata": {
    "id": "pDdrLfc_j21s"
   },
   "outputs": [],
   "source": [
    "output_prep = pd.merge(data_x, predictions, how=\"left\", on=\"merge\", validate=\"1:1\")"
   ]
  },
  {
   "cell_type": "code",
   "execution_count": null,
   "metadata": {
    "colab": {
     "base_uri": "https://localhost:8080/",
     "height": 659
    },
    "executionInfo": {
     "elapsed": 440,
     "status": "ok",
     "timestamp": 1617314310620,
     "user": {
      "displayName": "Brian Kim",
      "photoUrl": "https://lh3.googleusercontent.com/a-/AOh14GheK6fjKCJnJKGaH7uYzy5meG555MjbR-ZMdGLarA=s64",
      "userId": "17231552563920409361"
     },
     "user_tz": 240
    },
    "id": "1quwju7VfE3Z",
    "outputId": "19041164-dd21-4405-8ef9-8f3d3596adfd"
   },
   "outputs": [],
   "source": [
    "output_prep.head(20)"
   ]
  },
  {
   "cell_type": "code",
   "execution_count": null,
   "metadata": {
    "id": "X6C2DdipeRJU"
   },
   "outputs": [],
   "source": [
    "output_prep.to_csv('../../N2FL NLP/data/03c_forest_output_masked.csv')"
   ]
  }
 ],
 "metadata": {
  "colab": {
   "authorship_tag": "ABX9TyPVgfS72POQRECB1AhUah4Y",
   "collapsed_sections": [],
   "mount_file_id": "1illAG_zPgQbMOhgEheHqy46KyqkCg7M5",
   "name": "03b_random_forest.ipynb",
   "provenance": []
  },
  "kernelspec": {
   "display_name": "Python 3",
   "language": "python",
   "name": "python3"
  },
  "language_info": {
   "codemirror_mode": {
    "name": "ipython",
    "version": 3
   },
   "file_extension": ".py",
   "mimetype": "text/x-python",
   "name": "python",
   "nbconvert_exporter": "python",
   "pygments_lexer": "ipython3",
   "version": "3.8.8"
  }
 },
 "nbformat": 4,
 "nbformat_minor": 4
}
