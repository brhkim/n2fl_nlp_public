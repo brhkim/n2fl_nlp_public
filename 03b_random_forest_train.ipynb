{
 "cells": [
  {
   "cell_type": "markdown",
   "metadata": {
    "id": "XkayfszZ_YLz"
   },
   "source": [
    "# Basic Setup"
   ]
  },
  {
   "cell_type": "code",
   "execution_count": null,
   "metadata": {
    "id": "oAF9pGSJ841T"
   },
   "outputs": [],
   "source": [
    "import pandas as pd\n",
    "import numpy as np\n",
    "import time\n",
    "import seaborn as sns\n",
    "import matplotlib.pyplot as plt\n",
    "import tensorflow as tf\n",
    "import pickle\n",
    "\n",
    "from sklearn import model_selection\n",
    "from sklearn import ensemble\n",
    "from sklearn.model_selection import RandomizedSearchCV\n",
    "from sklearn.metrics import confusion_matrix \n",
    "from sklearn.metrics import accuracy_score \n",
    "from sklearn.metrics import classification_report \n",
    "\n",
    "from sklearn.model_selection import cross_val_score"
   ]
  },
  {
   "cell_type": "markdown",
   "metadata": {
    "id": "Wo8zpXqP_bt3"
   },
   "source": [
    "# Load in Data"
   ]
  },
  {
   "cell_type": "code",
   "execution_count": null,
   "metadata": {
    "id": "BfqlXz-W9KJg"
   },
   "outputs": [],
   "source": [
    "train = pd.read_csv(\"../../N2FL NLP/data/03a_sst5_train.csv\", sep=\",\", encoding='utf-8').drop(columns=[\"Unnamed: 0\", \"text\"])"
   ]
  },
  {
   "cell_type": "code",
   "execution_count": null,
   "metadata": {
    "id": "bGOpfcwo9boR"
   },
   "outputs": [],
   "source": [
    "test = pd.read_csv(\"../../N2FL NLP/data/03a_sst5_test.csv\", sep=\",\", encoding='utf-8').drop(columns=[\"Unnamed: 0\", \"text\"])"
   ]
  },
  {
   "cell_type": "markdown",
   "metadata": {
    "id": "ZstvvsYFBYXz"
   },
   "source": [
    "# Clean Data for Algorithm"
   ]
  },
  {
   "cell_type": "markdown",
   "metadata": {
    "id": "PKlVuAHwBl8N"
   },
   "source": [
    "### Make dummy variables from predictions"
   ]
  },
  {
   "cell_type": "code",
   "execution_count": null,
   "metadata": {
    "id": "X6N4o1lk9w2g"
   },
   "outputs": [],
   "source": [
    "forest_train = pd.get_dummies(train, prefix=['yelp_', 'xlnet_', 'albert_', 'stanza_', 'bert_', 'twit_', 'imdb_'], columns=['label_predict_yelp', 'label_predict_xlnet', 'label_predict_albert', 'label_predict_stanza', 'label_predict_bert', 'label_predict_twit', 'label_predict_imdb'])"
   ]
  },
  {
   "cell_type": "code",
   "execution_count": null,
   "metadata": {
    "id": "z9jkjjVR_HlS"
   },
   "outputs": [],
   "source": [
    "forest_train_x = forest_train.copy().drop(columns=[\"label\"])"
   ]
  },
  {
   "cell_type": "code",
   "execution_count": null,
   "metadata": {
    "id": "VM0oJW4t_Hp9"
   },
   "outputs": [],
   "source": [
    "forest_train_y = forest_train[\"label\"].copy()"
   ]
  },
  {
   "cell_type": "code",
   "execution_count": null,
   "metadata": {
    "id": "NMU9ggGC_QHX"
   },
   "outputs": [],
   "source": [
    "forest_test = pd.get_dummies(test, prefix=['yelp_', 'xlnet_', 'albert_', 'stanza_', 'bert_', 'twit_', 'imdb_'], columns=['label_predict_yelp', 'label_predict_xlnet', 'label_predict_albert', 'label_predict_stanza', 'label_predict_bert', 'label_predict_twit', 'label_predict_imdb'])"
   ]
  },
  {
   "cell_type": "code",
   "execution_count": null,
   "metadata": {
    "id": "SOpGV0Rm_QJt"
   },
   "outputs": [],
   "source": [
    "forest_test_x = forest_test.copy().drop(columns=[\"label\"])"
   ]
  },
  {
   "cell_type": "code",
   "execution_count": null,
   "metadata": {
    "id": "ot3YjAil_QLz"
   },
   "outputs": [],
   "source": [
    "forest_test_y = forest_test[\"label\"].copy()"
   ]
  },
  {
   "cell_type": "markdown",
   "metadata": {
    "id": "VSB25NZyBjM3"
   },
   "source": [
    "### Add additional predictors"
   ]
  },
  {
   "cell_type": "code",
   "execution_count": null,
   "metadata": {
    "id": "qzpSJ7tdG80x"
   },
   "outputs": [],
   "source": [
    "def add_predictors(df):\n",
    "    start_time = time.time()\n",
    "    \n",
    "    tmp = pd.DataFrame(np.sort(df[[\"LABEL_0_yelp\", \"LABEL_1_yelp\", \"LABEL_2_yelp\", \"LABEL_3_yelp\", \"LABEL_4_yelp\"]].values))\n",
    "    df[\"label_prob2_yelp\"] = tmp.iloc[:,-2].values\n",
    "    df[\"label_prob_diff_yelp\"] = df[\"label_prob_yelp\"] - df[\"label_prob2_yelp\"]\n",
    "\n",
    "    df[\"label_prob_diff_xlnet\"] = (df[\"LABEL_0_xlnet\"] - df[\"LABEL_4_xlnet\"]).abs()\n",
    "\n",
    "    df[\"label_prob_diff_albert\"] = (df[\"LABEL_0_albert\"] - df[\"LABEL_4_albert\"]).abs()\n",
    "\n",
    "    tmp = pd.DataFrame(np.sort(df[[\"LABEL_0_bert\", \"LABEL_1_bert\", \"LABEL_2_bert\", \"LABEL_3_bert\", \"LABEL_4_bert\"]].values))\n",
    "    df[\"label_prob2_bert\"] = tmp.iloc[:,-2].values\n",
    "    df[\"label_prob_diff_bert\"] = df[\"label_prob_bert\"] - df[\"label_prob2_bert\"]\n",
    "\n",
    "    tmp = pd.DataFrame(np.sort(df[[\"LABEL_0_twit\", \"LABEL_2_twit\", \"LABEL_4_twit\"]].values))\n",
    "    df[\"label_prob2_twit\"] = tmp.iloc[:,-2].values\n",
    "    df[\"label_prob_diff_twit\"] = df[\"label_prob_twit\"] - df[\"label_prob2_twit\"]\n",
    "    \n",
    "    print(\"--- %s seconds ---\" % (time.time() - start_time))\n",
    "\n",
    "    return df"
   ]
  },
  {
   "cell_type": "code",
   "execution_count": null,
   "metadata": {
    "id": "7073ZOUMBvwF"
   },
   "outputs": [],
   "source": [
    "forest_train_x = add_predictors(forest_train_x)\n",
    "forest_test_x = add_predictors(forest_test_x)"
   ]
  },
  {
   "cell_type": "code",
   "execution_count": null,
   "metadata": {},
   "outputs": [],
   "source": [
    "forest_train_x.head()"
   ]
  },
  {
   "cell_type": "markdown",
   "metadata": {
    "id": "FrbbnUBPBpai"
   },
   "source": [
    "### Make SST2 dataset"
   ]
  },
  {
   "cell_type": "code",
   "execution_count": null,
   "metadata": {
    "id": "Y5HrRFPoKlPI"
   },
   "outputs": [],
   "source": [
    "# Make an SST2 dataset just for validation purposes\n",
    "sst2_train = forest_train.copy()\n",
    "sst2_train.loc[sst2_train.label == \"LABEL_1\", \"label\"] = \"LABEL_0\"\n",
    "sst2_train.loc[sst2_train.label == \"LABEL_3\", \"label\"] = \"LABEL_4\"\n",
    "\n",
    "sst2_train = sst2_train[sst2_train['label']!=\"LABEL_2\"].copy()\n",
    "\n",
    "sst2_train_x = sst2_train.copy().drop(columns=[\"label\"])\n",
    "sst2_train_y = sst2_train[\"label\"].copy()\n",
    "\n",
    "sst2_test = forest_test.copy()\n",
    "sst2_test.loc[sst2_test.label == \"LABEL_1\", \"label\"] = \"LABEL_0\"\n",
    "sst2_test.loc[sst2_test.label == \"LABEL_3\", \"label\"] = \"LABEL_4\"\n",
    "\n",
    "sst2_test = sst2_test[sst2_test['label']!=\"LABEL_2\"].copy()\n",
    "\n",
    "sst2_test_x = sst2_test.copy().drop(columns=[\"label\"])\n",
    "sst2_test_y = sst2_test[\"label\"].copy()"
   ]
  },
  {
   "cell_type": "markdown",
   "metadata": {
    "id": "IYUC8rgWCE6p"
   },
   "source": [
    "# Train the algorithm"
   ]
  },
  {
   "cell_type": "code",
   "execution_count": null,
   "metadata": {
    "colab": {
     "base_uri": "https://localhost:8080/"
    },
    "executionInfo": {
     "elapsed": 259,
     "status": "ok",
     "timestamp": 1617309115875,
     "user": {
      "displayName": "Brian Kim",
      "photoUrl": "https://lh3.googleusercontent.com/a-/AOh14GheK6fjKCJnJKGaH7uYzy5meG555MjbR-ZMdGLarA=s64",
      "userId": "17231552563920409361"
     },
     "user_tz": 240
    },
    "id": "GOyZvmf1FdkX",
    "outputId": "4fcb7ea1-3742-445c-f4e9-a4832381a63b"
   },
   "outputs": [],
   "source": [
    "# Number of trees in random forest\n",
    "n_estimators = [int(x) for x in np.linspace(start = 200, stop = 2000, num = 10)]\n",
    "# Number of features to consider at every split\n",
    "max_features = ['auto', 'sqrt']\n",
    "# Maximum number of levels in tree\n",
    "max_depth = [int(x) for x in np.linspace(10, 110, num = 11)]\n",
    "max_depth.append(None)\n",
    "# Minimum number of samples required to split a node\n",
    "min_samples_split = [2, 5, 10]\n",
    "# Minimum number of samples required at each leaf node\n",
    "min_samples_leaf = [1, 2, 4]\n",
    "# Method of selecting samples for training each tree\n",
    "bootstrap = [True, False]\n",
    "# Create the random grid\n",
    "random_grid = {'n_estimators': n_estimators,\n",
    "               'max_features': max_features,\n",
    "               'max_depth': max_depth,\n",
    "               'min_samples_split': min_samples_split,\n",
    "               'min_samples_leaf': min_samples_leaf,\n",
    "               'bootstrap': bootstrap}\n",
    "print(random_grid)"
   ]
  },
  {
   "cell_type": "code",
   "execution_count": null,
   "metadata": {
    "id": "4jjx9n7qFdtj"
   },
   "outputs": [],
   "source": [
    "# Use the random grid to search for best hyperparameters\n",
    "# First create the base model to tune\n",
    "rf = ensemble.RandomForestClassifier()"
   ]
  },
  {
   "cell_type": "code",
   "execution_count": null,
   "metadata": {
    "id": "4nW3CHP7Fv_H"
   },
   "outputs": [],
   "source": [
    "# Random search of parameters, using 3 fold cross validation, \n",
    "# search across 100 different combinations, and use all available cores\n",
    "rf_random = RandomizedSearchCV(estimator = rf, param_distributions = random_grid, n_iter = 30, cv = 4, verbose=2, random_state=42, n_jobs = -1)"
   ]
  },
  {
   "cell_type": "code",
   "execution_count": null,
   "metadata": {
    "colab": {
     "base_uri": "https://localhost:8080/"
    },
    "executionInfo": {
     "elapsed": 3719146,
     "status": "ok",
     "timestamp": 1617312837911,
     "user": {
      "displayName": "Brian Kim",
      "photoUrl": "https://lh3.googleusercontent.com/a-/AOh14GheK6fjKCJnJKGaH7uYzy5meG555MjbR-ZMdGLarA=s64",
      "userId": "17231552563920409361"
     },
     "user_tz": 240
    },
    "id": "pO1fTT-kFwES",
    "outputId": "fb3bd2f3-06c9-4320-a0cc-92e1c9c9c736"
   },
   "outputs": [],
   "source": [
    "# Fit the random search model\n",
    "rf_random.fit(forest_train_x, forest_train_y)"
   ]
  },
  {
   "cell_type": "code",
   "execution_count": null,
   "metadata": {
    "colab": {
     "base_uri": "https://localhost:8080/"
    },
    "executionInfo": {
     "elapsed": 3715791,
     "status": "ok",
     "timestamp": 1617312837915,
     "user": {
      "displayName": "Brian Kim",
      "photoUrl": "https://lh3.googleusercontent.com/a-/AOh14GheK6fjKCJnJKGaH7uYzy5meG555MjbR-ZMdGLarA=s64",
      "userId": "17231552563920409361"
     },
     "user_tz": 240
    },
    "id": "OteC96gtHIn0",
    "outputId": "dfaff7cd-12dc-432d-988a-05b9a1913ce9"
   },
   "outputs": [],
   "source": [
    "rf_random.best_params_"
   ]
  },
  {
   "cell_type": "code",
   "execution_count": null,
   "metadata": {
    "colab": {
     "base_uri": "https://localhost:8080/"
    },
    "executionInfo": {
     "elapsed": 3729421,
     "status": "ok",
     "timestamp": 1617312852531,
     "user": {
      "displayName": "Brian Kim",
      "photoUrl": "https://lh3.googleusercontent.com/a-/AOh14GheK6fjKCJnJKGaH7uYzy5meG555MjbR-ZMdGLarA=s64",
      "userId": "17231552563920409361"
     },
     "user_tz": 240
    },
    "id": "Eal8-rvnQ9uL",
    "outputId": "ccd6ef29-bc09-47f7-e9e1-7da3f4766356"
   },
   "outputs": [],
   "source": [
    "rfc = ensemble.RandomForestClassifier(bootstrap= True, max_depth= 70, max_features= 'auto', min_samples_leaf= 4, min_samples_split= 2, n_estimators= 1800, random_state=12345)\n",
    "rfc.fit(forest_train_x, forest_train_y)"
   ]
  },
  {
   "cell_type": "code",
   "execution_count": null,
   "metadata": {
    "id": "9OTwgg23RTjs"
   },
   "outputs": [],
   "source": [
    "rfc_predict_train = rfc.predict(forest_train_x)"
   ]
  },
  {
   "cell_type": "code",
   "execution_count": null,
   "metadata": {
    "id": "TZPfu5hsRTqc"
   },
   "outputs": [],
   "source": [
    "rfc_predict_test = rfc.predict(forest_test_x)"
   ]
  },
  {
   "cell_type": "markdown",
   "metadata": {
    "id": "zO7ReWYcCHDX"
   },
   "source": [
    "# Evaluate performance"
   ]
  },
  {
   "cell_type": "markdown",
   "metadata": {
    "id": "rJAOPYqKJs_G"
   },
   "source": [
    "### Basic accuracy checks"
   ]
  },
  {
   "cell_type": "code",
   "execution_count": null,
   "metadata": {
    "id": "PJ0glEY-DBUE"
   },
   "outputs": [],
   "source": [
    "# Function to quickly and visually display the accuracy metrics of the sentiment\n",
    "# analysis algorithm in a confusion matrix and standard measures\n",
    "#\n",
    "# ARGS:\n",
    "# truevals - Dataframe column of true values\n",
    "# predictvals - Dataframe column of predicted values\n",
    "\n",
    "def prediction_test(truevals, predictvals):\n",
    "    sns.set(font_scale=1.2, rc={'figure.figsize':(11.7,8.27)})\n",
    "    cm = confusion_matrix(truevals, predictvals)\n",
    "    ax = plt.subplot()\n",
    "    sns.heatmap(cm, annot=True, ax = ax, cmap='Greens', fmt='g')\n",
    "    ax.set_xlabel('Predicted labels');ax.set_ylabel('True labels')\n",
    "    ax.set_title('Confusion Matrix')\n",
    "\n",
    "    print(classification_report(truevals, predictvals))"
   ]
  },
  {
   "cell_type": "code",
   "execution_count": null,
   "metadata": {
    "colab": {
     "base_uri": "https://localhost:8080/",
     "height": 740
    },
    "executionInfo": {
     "elapsed": 3723894,
     "status": "ok",
     "timestamp": 1617312854460,
     "user": {
      "displayName": "Brian Kim",
      "photoUrl": "https://lh3.googleusercontent.com/a-/AOh14GheK6fjKCJnJKGaH7uYzy5meG555MjbR-ZMdGLarA=s64",
      "userId": "17231552563920409361"
     },
     "user_tz": 240
    },
    "id": "dSncV1-YGTLR",
    "outputId": "dcacb03b-5064-4646-def2-d561dfcf75cf"
   },
   "outputs": [],
   "source": [
    "prediction_test(forest_train_y, rfc_predict_train)\n",
    "plt.savefig('../../N2FL NLP/output/03b_forest_train_accuracy_5class.png')"
   ]
  },
  {
   "cell_type": "code",
   "execution_count": null,
   "metadata": {
    "colab": {
     "base_uri": "https://localhost:8080/",
     "height": 740
    },
    "executionInfo": {
     "elapsed": 3722533,
     "status": "ok",
     "timestamp": 1617312855124,
     "user": {
      "displayName": "Brian Kim",
      "photoUrl": "https://lh3.googleusercontent.com/a-/AOh14GheK6fjKCJnJKGaH7uYzy5meG555MjbR-ZMdGLarA=s64",
      "userId": "17231552563920409361"
     },
     "user_tz": 240
    },
    "id": "eF8mZOkFDFjM",
    "outputId": "47e9e2d4-c19a-480d-de26-9da964d9b38f"
   },
   "outputs": [],
   "source": [
    "prediction_test(forest_test_y, rfc_predict_test)\n",
    "plt.savefig('../../N2FL NLP/output/03b_forest_test_accuracy_5class.png')"
   ]
  },
  {
   "cell_type": "markdown",
   "metadata": {
    "id": "EYc_YHEHJpDf"
   },
   "source": [
    "### Run some quick calculations to see other metrics of accuracy"
   ]
  },
  {
   "cell_type": "code",
   "execution_count": null,
   "metadata": {
    "id": "sCG5aqJ2Fg6E"
   },
   "outputs": [],
   "source": [
    "# test one-off accuracy\n",
    "test = {\"truth\": forest_test_y, \"prediction\": rfc_predict_test}\n",
    "test = pd.DataFrame(test)"
   ]
  },
  {
   "cell_type": "code",
   "execution_count": null,
   "metadata": {
    "id": "SpkvYn-4GwcB"
   },
   "outputs": [],
   "source": [
    "test[\"truth\"] = test[\"truth\"].str.slice(start=6).astype(float)\n",
    "test[\"prediction\"] = test[\"prediction\"].str.slice(start=6).astype(float)"
   ]
  },
  {
   "cell_type": "code",
   "execution_count": null,
   "metadata": {
    "colab": {
     "base_uri": "https://localhost:8080/",
     "height": 195
    },
    "executionInfo": {
     "elapsed": 456,
     "status": "ok",
     "timestamp": 1617312855637,
     "user": {
      "displayName": "Brian Kim",
      "photoUrl": "https://lh3.googleusercontent.com/a-/AOh14GheK6fjKCJnJKGaH7uYzy5meG555MjbR-ZMdGLarA=s64",
      "userId": "17231552563920409361"
     },
     "user_tz": 240
    },
    "id": "VUbTeqAHGZ-U",
    "outputId": "c00830c1-4d4a-4ecc-eaf1-f12300d3eca7"
   },
   "outputs": [],
   "source": [
    "test.head()"
   ]
  },
  {
   "cell_type": "code",
   "execution_count": null,
   "metadata": {
    "id": "YEpzuagSHMJi"
   },
   "outputs": [],
   "source": [
    "test[\"error\"] = abs(test[\"truth\"] - test[\"prediction\"])"
   ]
  },
  {
   "cell_type": "code",
   "execution_count": null,
   "metadata": {
    "colab": {
     "base_uri": "https://localhost:8080/"
    },
    "executionInfo": {
     "elapsed": 576,
     "status": "ok",
     "timestamp": 1617312855774,
     "user": {
      "displayName": "Brian Kim",
      "photoUrl": "https://lh3.googleusercontent.com/a-/AOh14GheK6fjKCJnJKGaH7uYzy5meG555MjbR-ZMdGLarA=s64",
      "userId": "17231552563920409361"
     },
     "user_tz": 240
    },
    "id": "7OWUex3iHese",
    "outputId": "b2eca025-88c8-4723-b208-53610667a787"
   },
   "outputs": [],
   "source": [
    "test[\"error\"][test[\"error\"]<=1].shape[0] / 2210"
   ]
  },
  {
   "cell_type": "code",
   "execution_count": null,
   "metadata": {
    "id": "GtGgx2ePHtxw"
   },
   "outputs": [],
   "source": [
    "test2 = test.copy()"
   ]
  },
  {
   "cell_type": "code",
   "execution_count": null,
   "metadata": {
    "id": "o5PfhiveHxRC"
   },
   "outputs": [],
   "source": [
    "test2[\"truth\"][test2[\"truth\"]==1] = 0\n",
    "test2[\"truth\"][test2[\"truth\"]==3] = 4\n",
    "test2[\"prediction\"][test2[\"prediction\"]==1] = 0\n",
    "test2[\"prediction\"][test2[\"prediction\"]==3] = 4"
   ]
  },
  {
   "cell_type": "code",
   "execution_count": null,
   "metadata": {
    "id": "Ed45Ks5CH_-A"
   },
   "outputs": [],
   "source": [
    "test2[\"error\"] = abs(test2[\"truth\"] - test2[\"prediction\"])"
   ]
  },
  {
   "cell_type": "code",
   "execution_count": null,
   "metadata": {
    "colab": {
     "base_uri": "https://localhost:8080/"
    },
    "executionInfo": {
     "elapsed": 541,
     "status": "ok",
     "timestamp": 1617312855777,
     "user": {
      "displayName": "Brian Kim",
      "photoUrl": "https://lh3.googleusercontent.com/a-/AOh14GheK6fjKCJnJKGaH7uYzy5meG555MjbR-ZMdGLarA=s64",
      "userId": "17231552563920409361"
     },
     "user_tz": 240
    },
    "id": "2WKEGGTlIDC5",
    "outputId": "f8b2d7b6-705c-4b43-c0d6-10892b80a5b7"
   },
   "outputs": [],
   "source": [
    "test2[\"error\"][test2[\"error\"]==0].shape[0] / 2210"
   ]
  },
  {
   "cell_type": "code",
   "execution_count": null,
   "metadata": {
    "colab": {
     "base_uri": "https://localhost:8080/",
     "height": 706
    },
    "executionInfo": {
     "elapsed": 1171,
     "status": "ok",
     "timestamp": 1617312856416,
     "user": {
      "displayName": "Brian Kim",
      "photoUrl": "https://lh3.googleusercontent.com/a-/AOh14GheK6fjKCJnJKGaH7uYzy5meG555MjbR-ZMdGLarA=s64",
      "userId": "17231552563920409361"
     },
     "user_tz": 240
    },
    "id": "RPSNMNPbKOEn",
    "outputId": "20bedeb7-e946-441d-83d6-d3d7dd490623"
   },
   "outputs": [],
   "source": [
    "prediction_test(test2[\"truth\"], test2[\"prediction\"])\n",
    "plt.savefig('../../N2FL NLP/output/03b_forest_test_accuracy_3class.png')"
   ]
  },
  {
   "cell_type": "markdown",
   "metadata": {
    "id": "bGAC9wQnLobr"
   },
   "source": [
    "### Output the model for use in next script"
   ]
  },
  {
   "cell_type": "code",
   "execution_count": null,
   "metadata": {},
   "outputs": [],
   "source": [
    "pickle.dump(rfc, open(\"../../N2FL NLP/data/rfc.sav\", \"wb\"))"
   ]
  }
 ],
 "metadata": {
  "colab": {
   "authorship_tag": "ABX9TyPVgfS72POQRECB1AhUah4Y",
   "collapsed_sections": [],
   "mount_file_id": "1illAG_zPgQbMOhgEheHqy46KyqkCg7M5",
   "name": "03b_random_forest.ipynb",
   "provenance": []
  },
  "kernelspec": {
   "display_name": "Python 3",
   "language": "python",
   "name": "python3"
  },
  "language_info": {
   "codemirror_mode": {
    "name": "ipython",
    "version": 3
   },
   "file_extension": ".py",
   "mimetype": "text/x-python",
   "name": "python",
   "nbconvert_exporter": "python",
   "pygments_lexer": "ipython3",
   "version": "3.8.8"
  }
 },
 "nbformat": 4,
 "nbformat_minor": 4
}
