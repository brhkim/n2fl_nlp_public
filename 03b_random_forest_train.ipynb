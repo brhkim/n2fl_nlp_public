{
 "cells": [
  {
   "cell_type": "markdown",
   "metadata": {
    "id": "XkayfszZ_YLz"
   },
   "source": [
    "# Basic Setup"
   ]
  },
  {
   "cell_type": "code",
   "execution_count": 3,
   "metadata": {
    "id": "oAF9pGSJ841T"
   },
   "outputs": [],
   "source": [
    "import pandas as pd\n",
    "import numpy as np\n",
    "import time\n",
    "import seaborn as sns\n",
    "import matplotlib.pyplot as plt\n",
    "import tensorflow as tf\n",
    "import pickle\n",
    "\n",
    "from sklearn import model_selection\n",
    "from sklearn import ensemble\n",
    "from sklearn.model_selection import RandomizedSearchCV\n",
    "from sklearn.metrics import confusion_matrix \n",
    "from sklearn.metrics import accuracy_score \n",
    "from sklearn.metrics import classification_report \n",
    "\n",
    "from sklearn.model_selection import cross_val_score"
   ]
  },
  {
   "cell_type": "markdown",
   "metadata": {
    "id": "Wo8zpXqP_bt3"
   },
   "source": [
    "# Load in Data"
   ]
  },
  {
   "cell_type": "code",
   "execution_count": 4,
   "metadata": {
    "id": "BfqlXz-W9KJg"
   },
   "outputs": [],
   "source": [
    "train = pd.read_csv(\"../../N2FL NLP/data/03a_sst5_train.csv\", sep=\",\", encoding='utf-8').drop(columns=[\"Unnamed: 0\", \"text\"])"
   ]
  },
  {
   "cell_type": "code",
   "execution_count": 5,
   "metadata": {
    "id": "bGOpfcwo9boR"
   },
   "outputs": [],
   "source": [
    "test = pd.read_csv(\"../../N2FL NLP/data/03a_sst5_test.csv\", sep=\",\", encoding='utf-8').drop(columns=[\"Unnamed: 0\", \"text\"])"
   ]
  },
  {
   "cell_type": "markdown",
   "metadata": {
    "id": "ZstvvsYFBYXz"
   },
   "source": [
    "# Clean Data for Algorithm"
   ]
  },
  {
   "cell_type": "markdown",
   "metadata": {
    "id": "PKlVuAHwBl8N"
   },
   "source": [
    "### Make dummy variables from predictions"
   ]
  },
  {
   "cell_type": "code",
   "execution_count": 6,
   "metadata": {
    "id": "X6N4o1lk9w2g"
   },
   "outputs": [],
   "source": [
    "forest_train = pd.get_dummies(train, prefix=['yelp_', 'xlnet_', 'albert_', 'stanza_', 'bert_', 'twit_', 'imdb_'], columns=['label_predict_yelp', 'label_predict_xlnet', 'label_predict_albert', 'label_predict_stanza', 'label_predict_bert', 'label_predict_twit', 'label_predict_imdb'])"
   ]
  },
  {
   "cell_type": "code",
   "execution_count": 7,
   "metadata": {
    "id": "z9jkjjVR_HlS"
   },
   "outputs": [],
   "source": [
    "forest_train_x = forest_train.copy().drop(columns=[\"label\"])"
   ]
  },
  {
   "cell_type": "code",
   "execution_count": 8,
   "metadata": {
    "id": "VM0oJW4t_Hp9"
   },
   "outputs": [],
   "source": [
    "forest_train_y = forest_train[\"label\"].copy()"
   ]
  },
  {
   "cell_type": "code",
   "execution_count": 9,
   "metadata": {
    "id": "NMU9ggGC_QHX"
   },
   "outputs": [],
   "source": [
    "forest_test = pd.get_dummies(test, prefix=['yelp_', 'xlnet_', 'albert_', 'stanza_', 'bert_', 'twit_', 'imdb_'], columns=['label_predict_yelp', 'label_predict_xlnet', 'label_predict_albert', 'label_predict_stanza', 'label_predict_bert', 'label_predict_twit', 'label_predict_imdb'])"
   ]
  },
  {
   "cell_type": "code",
   "execution_count": 10,
   "metadata": {
    "id": "SOpGV0Rm_QJt"
   },
   "outputs": [],
   "source": [
    "forest_test_x = forest_test.copy().drop(columns=[\"label\"])"
   ]
  },
  {
   "cell_type": "code",
   "execution_count": 11,
   "metadata": {
    "id": "ot3YjAil_QLz"
   },
   "outputs": [],
   "source": [
    "forest_test_y = forest_test[\"label\"].copy()"
   ]
  },
  {
   "cell_type": "markdown",
   "metadata": {
    "id": "VSB25NZyBjM3"
   },
   "source": [
    "### Add additional predictors"
   ]
  },
  {
   "cell_type": "code",
   "execution_count": 12,
   "metadata": {
    "id": "qzpSJ7tdG80x"
   },
   "outputs": [],
   "source": [
    "def add_predictors(df):\n",
    "    start_time = time.time()\n",
    "    \n",
    "    tmp = pd.DataFrame(np.sort(df[[\"LABEL_0_yelp\", \"LABEL_1_yelp\", \"LABEL_2_yelp\", \"LABEL_3_yelp\", \"LABEL_4_yelp\"]].values))\n",
    "    df[\"label_prob2_yelp\"] = tmp.iloc[:,-2].values\n",
    "    df[\"label_prob_diff_yelp\"] = df[\"label_prob_yelp\"] - df[\"label_prob2_yelp\"]\n",
    "\n",
    "    df[\"label_prob_diff_xlnet\"] = (df[\"LABEL_0_xlnet\"] - df[\"LABEL_4_xlnet\"]).abs()\n",
    "\n",
    "    df[\"label_prob_diff_albert\"] = (df[\"LABEL_0_albert\"] - df[\"LABEL_4_albert\"]).abs()\n",
    "\n",
    "    tmp = pd.DataFrame(np.sort(df[[\"LABEL_0_bert\", \"LABEL_1_bert\", \"LABEL_2_bert\", \"LABEL_3_bert\", \"LABEL_4_bert\"]].values))\n",
    "    df[\"label_prob2_bert\"] = tmp.iloc[:,-2].values\n",
    "    df[\"label_prob_diff_bert\"] = df[\"label_prob_bert\"] - df[\"label_prob2_bert\"]\n",
    "\n",
    "    tmp = pd.DataFrame(np.sort(df[[\"LABEL_0_twit\", \"LABEL_2_twit\", \"LABEL_4_twit\"]].values))\n",
    "    df[\"label_prob2_twit\"] = tmp.iloc[:,-2].values\n",
    "    df[\"label_prob_diff_twit\"] = df[\"label_prob_twit\"] - df[\"label_prob2_twit\"]\n",
    "    \n",
    "    print(\"--- %s seconds ---\" % (time.time() - start_time))\n",
    "\n",
    "    return df"
   ]
  },
  {
   "cell_type": "code",
   "execution_count": 13,
   "metadata": {
    "id": "7073ZOUMBvwF"
   },
   "outputs": [],
   "source": [
    "forest_train_x = add_predictors(forest_train_x)\n",
    "forest_test_x = add_predictors(forest_test_x)"
   ]
  },
  {
   "cell_type": "code",
   "execution_count": 14,
   "metadata": {},
   "outputs": [
    {
     "data": {
      "text/html": [
       "<div>\n",
       "<style scoped>\n",
       "    .dataframe tbody tr th:only-of-type {\n",
       "        vertical-align: middle;\n",
       "    }\n",
       "\n",
       "    .dataframe tbody tr th {\n",
       "        vertical-align: top;\n",
       "    }\n",
       "\n",
       "    .dataframe thead th {\n",
       "        text-align: right;\n",
       "    }\n",
       "</style>\n",
       "<table border=\"1\" class=\"dataframe\">\n",
       "  <thead>\n",
       "    <tr style=\"text-align: right;\">\n",
       "      <th></th>\n",
       "      <th>LABEL_0_yelp</th>\n",
       "      <th>LABEL_1_yelp</th>\n",
       "      <th>LABEL_2_yelp</th>\n",
       "      <th>LABEL_3_yelp</th>\n",
       "      <th>LABEL_4_yelp</th>\n",
       "      <th>label_prob_yelp</th>\n",
       "      <th>LABEL_0_albert</th>\n",
       "      <th>LABEL_4_albert</th>\n",
       "      <th>label_prob_albert</th>\n",
       "      <th>LABEL_0_xlnet</th>\n",
       "      <th>...</th>\n",
       "      <th>imdb__LABEL_2</th>\n",
       "      <th>imdb__LABEL_4</th>\n",
       "      <th>label_prob2_yelp</th>\n",
       "      <th>label_prob_diff_yelp</th>\n",
       "      <th>label_prob_diff_xlnet</th>\n",
       "      <th>label_prob_diff_albert</th>\n",
       "      <th>label_prob2_bert</th>\n",
       "      <th>label_prob_diff_bert</th>\n",
       "      <th>label_prob2_twit</th>\n",
       "      <th>label_prob_diff_twit</th>\n",
       "    </tr>\n",
       "  </thead>\n",
       "  <tbody>\n",
       "    <tr>\n",
       "      <th>0</th>\n",
       "      <td>0.005416</td>\n",
       "      <td>0.013234</td>\n",
       "      <td>0.092456</td>\n",
       "      <td>0.415810</td>\n",
       "      <td>0.473084</td>\n",
       "      <td>0.473084</td>\n",
       "      <td>0.002828</td>\n",
       "      <td>0.997172</td>\n",
       "      <td>0.997172</td>\n",
       "      <td>0.000453</td>\n",
       "      <td>...</td>\n",
       "      <td>0</td>\n",
       "      <td>1</td>\n",
       "      <td>0.415810</td>\n",
       "      <td>0.057274</td>\n",
       "      <td>0.999094</td>\n",
       "      <td>0.994343</td>\n",
       "      <td>0.248014</td>\n",
       "      <td>0.162073</td>\n",
       "      <td>0.274331</td>\n",
       "      <td>0.443948</td>\n",
       "    </tr>\n",
       "    <tr>\n",
       "      <th>1</th>\n",
       "      <td>0.047023</td>\n",
       "      <td>0.212749</td>\n",
       "      <td>0.519101</td>\n",
       "      <td>0.166509</td>\n",
       "      <td>0.054619</td>\n",
       "      <td>0.519101</td>\n",
       "      <td>0.022022</td>\n",
       "      <td>0.977978</td>\n",
       "      <td>0.977978</td>\n",
       "      <td>0.000806</td>\n",
       "      <td>...</td>\n",
       "      <td>0</td>\n",
       "      <td>1</td>\n",
       "      <td>0.212749</td>\n",
       "      <td>0.306351</td>\n",
       "      <td>0.998388</td>\n",
       "      <td>0.955955</td>\n",
       "      <td>0.376471</td>\n",
       "      <td>0.075275</td>\n",
       "      <td>0.330618</td>\n",
       "      <td>0.313808</td>\n",
       "    </tr>\n",
       "    <tr>\n",
       "      <th>2</th>\n",
       "      <td>0.126932</td>\n",
       "      <td>0.479437</td>\n",
       "      <td>0.331576</td>\n",
       "      <td>0.042302</td>\n",
       "      <td>0.019753</td>\n",
       "      <td>0.479437</td>\n",
       "      <td>0.999752</td>\n",
       "      <td>0.000248</td>\n",
       "      <td>0.999752</td>\n",
       "      <td>0.997277</td>\n",
       "      <td>...</td>\n",
       "      <td>0</td>\n",
       "      <td>0</td>\n",
       "      <td>0.331576</td>\n",
       "      <td>0.147861</td>\n",
       "      <td>0.994554</td>\n",
       "      <td>0.999503</td>\n",
       "      <td>0.207372</td>\n",
       "      <td>0.308389</td>\n",
       "      <td>0.108163</td>\n",
       "      <td>0.771596</td>\n",
       "    </tr>\n",
       "    <tr>\n",
       "      <th>3</th>\n",
       "      <td>0.099800</td>\n",
       "      <td>0.503424</td>\n",
       "      <td>0.377333</td>\n",
       "      <td>0.017810</td>\n",
       "      <td>0.001633</td>\n",
       "      <td>0.503424</td>\n",
       "      <td>0.997203</td>\n",
       "      <td>0.002797</td>\n",
       "      <td>0.997203</td>\n",
       "      <td>0.999637</td>\n",
       "      <td>...</td>\n",
       "      <td>0</td>\n",
       "      <td>0</td>\n",
       "      <td>0.377333</td>\n",
       "      <td>0.126091</td>\n",
       "      <td>0.999273</td>\n",
       "      <td>0.994406</td>\n",
       "      <td>0.286997</td>\n",
       "      <td>0.331204</td>\n",
       "      <td>0.410893</td>\n",
       "      <td>0.146703</td>\n",
       "    </tr>\n",
       "    <tr>\n",
       "      <th>4</th>\n",
       "      <td>0.509382</td>\n",
       "      <td>0.408717</td>\n",
       "      <td>0.076045</td>\n",
       "      <td>0.004448</td>\n",
       "      <td>0.001408</td>\n",
       "      <td>0.509382</td>\n",
       "      <td>0.998594</td>\n",
       "      <td>0.001406</td>\n",
       "      <td>0.998594</td>\n",
       "      <td>0.999353</td>\n",
       "      <td>...</td>\n",
       "      <td>0</td>\n",
       "      <td>0</td>\n",
       "      <td>0.408717</td>\n",
       "      <td>0.100665</td>\n",
       "      <td>0.998706</td>\n",
       "      <td>0.997187</td>\n",
       "      <td>0.259975</td>\n",
       "      <td>0.201901</td>\n",
       "      <td>0.100577</td>\n",
       "      <td>0.788733</td>\n",
       "    </tr>\n",
       "  </tbody>\n",
       "</table>\n",
       "<p>5 rows × 53 columns</p>\n",
       "</div>"
      ],
      "text/plain": [
       "   LABEL_0_yelp  LABEL_1_yelp  LABEL_2_yelp  LABEL_3_yelp  LABEL_4_yelp  \\\n",
       "0      0.005416      0.013234      0.092456      0.415810      0.473084   \n",
       "1      0.047023      0.212749      0.519101      0.166509      0.054619   \n",
       "2      0.126932      0.479437      0.331576      0.042302      0.019753   \n",
       "3      0.099800      0.503424      0.377333      0.017810      0.001633   \n",
       "4      0.509382      0.408717      0.076045      0.004448      0.001408   \n",
       "\n",
       "   label_prob_yelp  LABEL_0_albert  LABEL_4_albert  label_prob_albert  \\\n",
       "0         0.473084        0.002828        0.997172           0.997172   \n",
       "1         0.519101        0.022022        0.977978           0.977978   \n",
       "2         0.479437        0.999752        0.000248           0.999752   \n",
       "3         0.503424        0.997203        0.002797           0.997203   \n",
       "4         0.509382        0.998594        0.001406           0.998594   \n",
       "\n",
       "   LABEL_0_xlnet  ...  imdb__LABEL_2  imdb__LABEL_4  label_prob2_yelp  \\\n",
       "0       0.000453  ...              0              1          0.415810   \n",
       "1       0.000806  ...              0              1          0.212749   \n",
       "2       0.997277  ...              0              0          0.331576   \n",
       "3       0.999637  ...              0              0          0.377333   \n",
       "4       0.999353  ...              0              0          0.408717   \n",
       "\n",
       "   label_prob_diff_yelp  label_prob_diff_xlnet  label_prob_diff_albert  \\\n",
       "0              0.057274               0.999094                0.994343   \n",
       "1              0.306351               0.998388                0.955955   \n",
       "2              0.147861               0.994554                0.999503   \n",
       "3              0.126091               0.999273                0.994406   \n",
       "4              0.100665               0.998706                0.997187   \n",
       "\n",
       "   label_prob2_bert  label_prob_diff_bert  label_prob2_twit  \\\n",
       "0          0.248014              0.162073          0.274331   \n",
       "1          0.376471              0.075275          0.330618   \n",
       "2          0.207372              0.308389          0.108163   \n",
       "3          0.286997              0.331204          0.410893   \n",
       "4          0.259975              0.201901          0.100577   \n",
       "\n",
       "   label_prob_diff_twit  \n",
       "0              0.443948  \n",
       "1              0.313808  \n",
       "2              0.771596  \n",
       "3              0.146703  \n",
       "4              0.788733  \n",
       "\n",
       "[5 rows x 53 columns]"
      ]
     },
     "execution_count": 14,
     "metadata": {},
     "output_type": "execute_result"
    }
   ],
   "source": [
    "forest_train_x.head()"
   ]
  },
  {
   "cell_type": "markdown",
   "metadata": {
    "id": "FrbbnUBPBpai"
   },
   "source": [
    "### Make SST2 dataset"
   ]
  },
  {
   "cell_type": "code",
   "execution_count": 14,
   "metadata": {
    "id": "Y5HrRFPoKlPI"
   },
   "outputs": [],
   "source": [
    "# Make an SST2 dataset just for validation purposes\n",
    "sst2_train = forest_train.copy()\n",
    "sst2_train.loc[sst2_train.label == \"LABEL_1\", \"label\"] = \"LABEL_0\"\n",
    "sst2_train.loc[sst2_train.label == \"LABEL_3\", \"label\"] = \"LABEL_4\"\n",
    "\n",
    "sst2_train = sst2_train[sst2_train['label']!=\"LABEL_2\"].copy()\n",
    "\n",
    "sst2_train_x = sst2_train.copy().drop(columns=[\"label\"])\n",
    "sst2_train_y = sst2_train[\"label\"].copy()\n",
    "\n",
    "sst2_test = forest_test.copy()\n",
    "sst2_test.loc[sst2_test.label == \"LABEL_1\", \"label\"] = \"LABEL_0\"\n",
    "sst2_test.loc[sst2_test.label == \"LABEL_3\", \"label\"] = \"LABEL_4\"\n",
    "\n",
    "sst2_test = sst2_test[sst2_test['label']!=\"LABEL_2\"].copy()\n",
    "\n",
    "sst2_test_x = sst2_test.copy().drop(columns=[\"label\"])\n",
    "sst2_test_y = sst2_test[\"label\"].copy()"
   ]
  },
  {
   "cell_type": "markdown",
   "metadata": {
    "id": "IYUC8rgWCE6p"
   },
   "source": [
    "# Train the algorithm"
   ]
  },
  {
   "cell_type": "code",
   "execution_count": null,
   "metadata": {
    "colab": {
     "base_uri": "https://localhost:8080/"
    },
    "executionInfo": {
     "elapsed": 259,
     "status": "ok",
     "timestamp": 1617309115875,
     "user": {
      "displayName": "Brian Kim",
      "photoUrl": "https://lh3.googleusercontent.com/a-/AOh14GheK6fjKCJnJKGaH7uYzy5meG555MjbR-ZMdGLarA=s64",
      "userId": "17231552563920409361"
     },
     "user_tz": 240
    },
    "id": "GOyZvmf1FdkX",
    "outputId": "4fcb7ea1-3742-445c-f4e9-a4832381a63b"
   },
   "outputs": [
    {
     "name": "stdout",
     "output_type": "stream",
     "text": [
      "{'n_estimators': [200, 400, 600, 800, 1000, 1200, 1400, 1600, 1800, 2000], 'max_features': ['auto', 'sqrt'], 'max_depth': [10, 20, 30, 40, 50, 60, 70, 80, 90, 100, 110, None], 'min_samples_split': [2, 5, 10], 'min_samples_leaf': [1, 2, 4], 'bootstrap': [True, False]}\n"
     ]
    }
   ],
   "source": [
    "# Number of trees in random forest\n",
    "n_estimators = [int(x) for x in np.linspace(start = 200, stop = 2000, num = 10)]\n",
    "# Number of features to consider at every split\n",
    "max_features = ['auto', 'sqrt']\n",
    "# Maximum number of levels in tree\n",
    "max_depth = [int(x) for x in np.linspace(10, 110, num = 11)]\n",
    "max_depth.append(None)\n",
    "# Minimum number of samples required to split a node\n",
    "min_samples_split = [2, 5, 10]\n",
    "# Minimum number of samples required at each leaf node\n",
    "min_samples_leaf = [1, 2, 4]\n",
    "# Method of selecting samples for training each tree\n",
    "bootstrap = [True, False]\n",
    "# Create the random grid\n",
    "random_grid = {'n_estimators': n_estimators,\n",
    "               'max_features': max_features,\n",
    "               'max_depth': max_depth,\n",
    "               'min_samples_split': min_samples_split,\n",
    "               'min_samples_leaf': min_samples_leaf,\n",
    "               'bootstrap': bootstrap}\n",
    "print(random_grid)"
   ]
  },
  {
   "cell_type": "code",
   "execution_count": null,
   "metadata": {
    "id": "4jjx9n7qFdtj"
   },
   "outputs": [],
   "source": [
    "# Use the random grid to search for best hyperparameters\n",
    "# First create the base model to tune\n",
    "rf = ensemble.RandomForestClassifier()"
   ]
  },
  {
   "cell_type": "code",
   "execution_count": null,
   "metadata": {
    "id": "4nW3CHP7Fv_H"
   },
   "outputs": [],
   "source": [
    "# Random search of parameters, using 3 fold cross validation, \n",
    "# search across 100 different combinations, and use all available cores\n",
    "rf_random = RandomizedSearchCV(estimator = rf, param_distributions = random_grid, n_iter = 30, cv = 4, verbose=2, random_state=42, n_jobs = -1)"
   ]
  },
  {
   "cell_type": "code",
   "execution_count": null,
   "metadata": {
    "colab": {
     "base_uri": "https://localhost:8080/"
    },
    "executionInfo": {
     "elapsed": 3719146,
     "status": "ok",
     "timestamp": 1617312837911,
     "user": {
      "displayName": "Brian Kim",
      "photoUrl": "https://lh3.googleusercontent.com/a-/AOh14GheK6fjKCJnJKGaH7uYzy5meG555MjbR-ZMdGLarA=s64",
      "userId": "17231552563920409361"
     },
     "user_tz": 240
    },
    "id": "pO1fTT-kFwES",
    "outputId": "fb3bd2f3-06c9-4320-a0cc-92e1c9c9c736"
   },
   "outputs": [
    {
     "name": "stdout",
     "output_type": "stream",
     "text": [
      "Fitting 4 folds for each of 30 candidates, totalling 120 fits\n"
     ]
    },
    {
     "name": "stderr",
     "output_type": "stream",
     "text": [
      "[Parallel(n_jobs=-1)]: Using backend LokyBackend with 2 concurrent workers.\n",
      "/usr/local/lib/python3.7/dist-packages/joblib/externals/loky/process_executor.py:691: UserWarning: A worker stopped while some jobs were given to the executor. This can be caused by a too short worker timeout or by a memory leak.\n",
      "  \"timeout or by a memory leak.\", UserWarning\n",
      "[Parallel(n_jobs=-1)]: Done  37 tasks      | elapsed: 15.6min\n",
      "[Parallel(n_jobs=-1)]: Done 120 out of 120 | elapsed: 61.3min finished\n"
     ]
    },
    {
     "data": {
      "text/plain": [
       "RandomizedSearchCV(cv=4, error_score=nan,\n",
       "                   estimator=RandomForestClassifier(bootstrap=True,\n",
       "                                                    ccp_alpha=0.0,\n",
       "                                                    class_weight=None,\n",
       "                                                    criterion='gini',\n",
       "                                                    max_depth=None,\n",
       "                                                    max_features='auto',\n",
       "                                                    max_leaf_nodes=None,\n",
       "                                                    max_samples=None,\n",
       "                                                    min_impurity_decrease=0.0,\n",
       "                                                    min_impurity_split=None,\n",
       "                                                    min_samples_leaf=1,\n",
       "                                                    min_samples_split=2,\n",
       "                                                    min_weight_fraction_leaf=0.0,\n",
       "                                                    n_estimators=100,\n",
       "                                                    n_jobs...\n",
       "                   param_distributions={'bootstrap': [True, False],\n",
       "                                        'max_depth': [10, 20, 30, 40, 50, 60,\n",
       "                                                      70, 80, 90, 100, 110,\n",
       "                                                      None],\n",
       "                                        'max_features': ['auto', 'sqrt'],\n",
       "                                        'min_samples_leaf': [1, 2, 4],\n",
       "                                        'min_samples_split': [2, 5, 10],\n",
       "                                        'n_estimators': [200, 400, 600, 800,\n",
       "                                                         1000, 1200, 1400, 1600,\n",
       "                                                         1800, 2000]},\n",
       "                   pre_dispatch='2*n_jobs', random_state=42, refit=True,\n",
       "                   return_train_score=False, scoring=None, verbose=2)"
      ]
     },
     "execution_count": 20,
     "metadata": {
      "tags": []
     },
     "output_type": "execute_result"
    }
   ],
   "source": [
    "# Fit the random search model\n",
    "rf_random.fit(forest_train_x, forest_train_y)"
   ]
  },
  {
   "cell_type": "code",
   "execution_count": null,
   "metadata": {
    "colab": {
     "base_uri": "https://localhost:8080/"
    },
    "executionInfo": {
     "elapsed": 3715791,
     "status": "ok",
     "timestamp": 1617312837915,
     "user": {
      "displayName": "Brian Kim",
      "photoUrl": "https://lh3.googleusercontent.com/a-/AOh14GheK6fjKCJnJKGaH7uYzy5meG555MjbR-ZMdGLarA=s64",
      "userId": "17231552563920409361"
     },
     "user_tz": 240
    },
    "id": "OteC96gtHIn0",
    "outputId": "dfaff7cd-12dc-432d-988a-05b9a1913ce9"
   },
   "outputs": [
    {
     "data": {
      "text/plain": [
       "{'bootstrap': True,\n",
       " 'max_depth': 60,\n",
       " 'max_features': 'auto',\n",
       " 'min_samples_leaf': 4,\n",
       " 'min_samples_split': 5,\n",
       " 'n_estimators': 1200}"
      ]
     },
     "execution_count": 21,
     "metadata": {
      "tags": []
     },
     "output_type": "execute_result"
    }
   ],
   "source": [
    "rf_random.best_params_"
   ]
  },
  {
   "cell_type": "code",
   "execution_count": 15,
   "metadata": {
    "colab": {
     "base_uri": "https://localhost:8080/"
    },
    "executionInfo": {
     "elapsed": 3729421,
     "status": "ok",
     "timestamp": 1617312852531,
     "user": {
      "displayName": "Brian Kim",
      "photoUrl": "https://lh3.googleusercontent.com/a-/AOh14GheK6fjKCJnJKGaH7uYzy5meG555MjbR-ZMdGLarA=s64",
      "userId": "17231552563920409361"
     },
     "user_tz": 240
    },
    "id": "Eal8-rvnQ9uL",
    "outputId": "ccd6ef29-bc09-47f7-e9e1-7da3f4766356"
   },
   "outputs": [
    {
     "data": {
      "text/plain": [
       "RandomForestClassifier(max_depth=10, max_features='sqrt', min_samples_leaf=2,\n",
       "                       min_samples_split=5, n_estimators=500,\n",
       "                       random_state=12345)"
      ]
     },
     "execution_count": 15,
     "metadata": {},
     "output_type": "execute_result"
    }
   ],
   "source": [
    "rfc = ensemble.RandomForestClassifier(bootstrap= True, max_depth= 70, max_features= 'auto', min_samples_leaf= 4, min_samples_split= 2, n_estimators= 1800, random_state=12345)\n",
    "rfc.fit(forest_train_x, forest_train_y)"
   ]
  },
  {
   "cell_type": "code",
   "execution_count": 16,
   "metadata": {
    "id": "9OTwgg23RTjs"
   },
   "outputs": [],
   "source": [
    "rfc_predict_train = rfc.predict(forest_train_x)"
   ]
  },
  {
   "cell_type": "code",
   "execution_count": 17,
   "metadata": {
    "id": "TZPfu5hsRTqc"
   },
   "outputs": [],
   "source": [
    "rfc_predict_test = rfc.predict(forest_test_x)"
   ]
  },
  {
   "cell_type": "markdown",
   "metadata": {
    "id": "zO7ReWYcCHDX"
   },
   "source": [
    "# Evaluate performance"
   ]
  },
  {
   "cell_type": "markdown",
   "metadata": {
    "id": "rJAOPYqKJs_G"
   },
   "source": [
    "### Basic accuracy checks"
   ]
  },
  {
   "cell_type": "code",
   "execution_count": 18,
   "metadata": {
    "id": "PJ0glEY-DBUE"
   },
   "outputs": [],
   "source": [
    "# Function to quickly and visually display the accuracy metrics of the sentiment\n",
    "# analysis algorithm in a confusion matrix and standard measures\n",
    "#\n",
    "# ARGS:\n",
    "# truevals - Dataframe column of true values\n",
    "# predictvals - Dataframe column of predicted values\n",
    "\n",
    "def prediction_test(truevals, predictvals):\n",
    "    sns.set(font_scale=1.2, rc={'figure.figsize':(11.7,8.27)})\n",
    "    cm = confusion_matrix(truevals, predictvals)\n",
    "    ax = plt.subplot()\n",
    "    sns.heatmap(cm, annot=True, ax = ax, cmap='Greens', fmt='g')\n",
    "    ax.set_xlabel('Predicted labels');ax.set_ylabel('True labels')\n",
    "    ax.set_title('Confusion Matrix')\n",
    "\n",
    "    print(classification_report(truevals, predictvals))"
   ]
  },
  {
   "cell_type": "code",
   "execution_count": 19,
   "metadata": {
    "colab": {
     "base_uri": "https://localhost:8080/",
     "height": 740
    },
    "executionInfo": {
     "elapsed": 3723894,
     "status": "ok",
     "timestamp": 1617312854460,
     "user": {
      "displayName": "Brian Kim",
      "photoUrl": "https://lh3.googleusercontent.com/a-/AOh14GheK6fjKCJnJKGaH7uYzy5meG555MjbR-ZMdGLarA=s64",
      "userId": "17231552563920409361"
     },
     "user_tz": 240
    },
    "id": "dSncV1-YGTLR",
    "outputId": "dcacb03b-5064-4646-def2-d561dfcf75cf"
   },
   "outputs": [
    {
     "name": "stdout",
     "output_type": "stream",
     "text": [
      "              precision    recall  f1-score   support\n",
      "\n",
      "     LABEL_0       0.84      0.49      0.62      1090\n",
      "     LABEL_1       0.69      0.94      0.79      2215\n",
      "     LABEL_2       0.86      0.58      0.69      1623\n",
      "     LABEL_3       0.74      0.93      0.83      2319\n",
      "     LABEL_4       0.88      0.61      0.72      1287\n",
      "\n",
      "    accuracy                           0.76      8534\n",
      "   macro avg       0.80      0.71      0.73      8534\n",
      "weighted avg       0.78      0.76      0.75      8534\n",
      "\n"
     ]
    },
    {
     "data": {
      "image/png": "[encoded data removed]",
      "text/plain": [
       "<Figure size 842.4x595.44 with 2 Axes>"
      ]
     },
     "metadata": {},
     "output_type": "display_data"
    }
   ],
   "source": [
    "prediction_test(forest_train_y, rfc_predict_train)\n",
    "plt.savefig('../../N2FL NLP/output/03b_forest_train_accuracy_5class.png')"
   ]
  },
  {
   "cell_type": "code",
   "execution_count": 20,
   "metadata": {
    "colab": {
     "base_uri": "https://localhost:8080/",
     "height": 740
    },
    "executionInfo": {
     "elapsed": 3722533,
     "status": "ok",
     "timestamp": 1617312855124,
     "user": {
      "displayName": "Brian Kim",
      "photoUrl": "https://lh3.googleusercontent.com/a-/AOh14GheK6fjKCJnJKGaH7uYzy5meG555MjbR-ZMdGLarA=s64",
      "userId": "17231552563920409361"
     },
     "user_tz": 240
    },
    "id": "eF8mZOkFDFjM",
    "outputId": "47e9e2d4-c19a-480d-de26-9da964d9b38f"
   },
   "outputs": [
    {
     "name": "stdout",
     "output_type": "stream",
     "text": [
      "              precision    recall  f1-score   support\n",
      "\n",
      "     LABEL_0       0.60      0.29      0.39       279\n",
      "     LABEL_1       0.60      0.67      0.63       633\n",
      "     LABEL_2       0.38      0.49      0.43       389\n",
      "     LABEL_3       0.54      0.67      0.60       510\n",
      "     LABEL_4       0.76      0.44      0.56       399\n",
      "\n",
      "    accuracy                           0.55      2210\n",
      "   macro avg       0.58      0.51      0.52      2210\n",
      "weighted avg       0.58      0.55      0.54      2210\n",
      "\n"
     ]
    },
    {
     "data": {
      "image/png": "[encoded data removed]",
      "text/plain": [
       "<Figure size 842.4x595.44 with 2 Axes>"
      ]
     },
     "metadata": {},
     "output_type": "display_data"
    }
   ],
   "source": [
    "prediction_test(forest_test_y, rfc_predict_test)\n",
    "plt.savefig('../../N2FL NLP/output/03b_forest_test_accuracy_5class.png')"
   ]
  },
  {
   "cell_type": "markdown",
   "metadata": {
    "id": "EYc_YHEHJpDf"
   },
   "source": [
    "### Run some quick calculations to see other metrics of accuracy"
   ]
  },
  {
   "cell_type": "code",
   "execution_count": 21,
   "metadata": {
    "id": "sCG5aqJ2Fg6E"
   },
   "outputs": [],
   "source": [
    "# test one-off accuracy\n",
    "test = {\"truth\": forest_test_y, \"prediction\": rfc_predict_test}\n",
    "test = pd.DataFrame(test)"
   ]
  },
  {
   "cell_type": "code",
   "execution_count": 22,
   "metadata": {
    "id": "SpkvYn-4GwcB"
   },
   "outputs": [],
   "source": [
    "test[\"truth\"] = test[\"truth\"].str.slice(start=6).astype(float)\n",
    "test[\"prediction\"] = test[\"prediction\"].str.slice(start=6).astype(float)"
   ]
  },
  {
   "cell_type": "code",
   "execution_count": 23,
   "metadata": {
    "colab": {
     "base_uri": "https://localhost:8080/",
     "height": 195
    },
    "executionInfo": {
     "elapsed": 456,
     "status": "ok",
     "timestamp": 1617312855637,
     "user": {
      "displayName": "Brian Kim",
      "photoUrl": "https://lh3.googleusercontent.com/a-/AOh14GheK6fjKCJnJKGaH7uYzy5meG555MjbR-ZMdGLarA=s64",
      "userId": "17231552563920409361"
     },
     "user_tz": 240
    },
    "id": "VUbTeqAHGZ-U",
    "outputId": "c00830c1-4d4a-4ecc-eaf1-f12300d3eca7"
   },
   "outputs": [
    {
     "data": {
      "text/html": [
       "<div>\n",
       "<style scoped>\n",
       "    .dataframe tbody tr th:only-of-type {\n",
       "        vertical-align: middle;\n",
       "    }\n",
       "\n",
       "    .dataframe tbody tr th {\n",
       "        vertical-align: top;\n",
       "    }\n",
       "\n",
       "    .dataframe thead th {\n",
       "        text-align: right;\n",
       "    }\n",
       "</style>\n",
       "<table border=\"1\" class=\"dataframe\">\n",
       "  <thead>\n",
       "    <tr style=\"text-align: right;\">\n",
       "      <th></th>\n",
       "      <th>truth</th>\n",
       "      <th>prediction</th>\n",
       "    </tr>\n",
       "  </thead>\n",
       "  <tbody>\n",
       "    <tr>\n",
       "      <th>0</th>\n",
       "      <td>1.0</td>\n",
       "      <td>1.0</td>\n",
       "    </tr>\n",
       "    <tr>\n",
       "      <th>1</th>\n",
       "      <td>0.0</td>\n",
       "      <td>1.0</td>\n",
       "    </tr>\n",
       "    <tr>\n",
       "      <th>2</th>\n",
       "      <td>2.0</td>\n",
       "      <td>1.0</td>\n",
       "    </tr>\n",
       "    <tr>\n",
       "      <th>3</th>\n",
       "      <td>4.0</td>\n",
       "      <td>4.0</td>\n",
       "    </tr>\n",
       "    <tr>\n",
       "      <th>4</th>\n",
       "      <td>0.0</td>\n",
       "      <td>2.0</td>\n",
       "    </tr>\n",
       "  </tbody>\n",
       "</table>\n",
       "</div>"
      ],
      "text/plain": [
       "   truth  prediction\n",
       "0    1.0         1.0\n",
       "1    0.0         1.0\n",
       "2    2.0         1.0\n",
       "3    4.0         4.0\n",
       "4    0.0         2.0"
      ]
     },
     "execution_count": 23,
     "metadata": {},
     "output_type": "execute_result"
    }
   ],
   "source": [
    "test.head()"
   ]
  },
  {
   "cell_type": "code",
   "execution_count": 24,
   "metadata": {
    "id": "YEpzuagSHMJi"
   },
   "outputs": [],
   "source": [
    "test[\"error\"] = abs(test[\"truth\"] - test[\"prediction\"])"
   ]
  },
  {
   "cell_type": "code",
   "execution_count": 25,
   "metadata": {
    "colab": {
     "base_uri": "https://localhost:8080/"
    },
    "executionInfo": {
     "elapsed": 576,
     "status": "ok",
     "timestamp": 1617312855774,
     "user": {
      "displayName": "Brian Kim",
      "photoUrl": "https://lh3.googleusercontent.com/a-/AOh14GheK6fjKCJnJKGaH7uYzy5meG555MjbR-ZMdGLarA=s64",
      "userId": "17231552563920409361"
     },
     "user_tz": 240
    },
    "id": "7OWUex3iHese",
    "outputId": "b2eca025-88c8-4723-b208-53610667a787"
   },
   "outputs": [
    {
     "data": {
      "text/plain": [
       "0.9592760180995475"
      ]
     },
     "execution_count": 25,
     "metadata": {},
     "output_type": "execute_result"
    }
   ],
   "source": [
    "test[\"error\"][test[\"error\"]<=1].shape[0] / 2210"
   ]
  },
  {
   "cell_type": "code",
   "execution_count": 26,
   "metadata": {
    "id": "GtGgx2ePHtxw"
   },
   "outputs": [],
   "source": [
    "test2 = test.copy()"
   ]
  },
  {
   "cell_type": "code",
   "execution_count": 27,
   "metadata": {
    "id": "o5PfhiveHxRC"
   },
   "outputs": [],
   "source": [
    "test2[\"truth\"][test2[\"truth\"]==1] = 0\n",
    "test2[\"truth\"][test2[\"truth\"]==3] = 4\n",
    "test2[\"prediction\"][test2[\"prediction\"]==1] = 0\n",
    "test2[\"prediction\"][test2[\"prediction\"]==3] = 4"
   ]
  },
  {
   "cell_type": "code",
   "execution_count": 28,
   "metadata": {
    "id": "Ed45Ks5CH_-A"
   },
   "outputs": [],
   "source": [
    "test2[\"error\"] = abs(test2[\"truth\"] - test2[\"prediction\"])"
   ]
  },
  {
   "cell_type": "code",
   "execution_count": 29,
   "metadata": {
    "colab": {
     "base_uri": "https://localhost:8080/"
    },
    "executionInfo": {
     "elapsed": 541,
     "status": "ok",
     "timestamp": 1617312855777,
     "user": {
      "displayName": "Brian Kim",
      "photoUrl": "https://lh3.googleusercontent.com/a-/AOh14GheK6fjKCJnJKGaH7uYzy5meG555MjbR-ZMdGLarA=s64",
      "userId": "17231552563920409361"
     },
     "user_tz": 240
    },
    "id": "2WKEGGTlIDC5",
    "outputId": "f8b2d7b6-705c-4b43-c0d6-10892b80a5b7"
   },
   "outputs": [
    {
     "data": {
      "text/plain": [
       "0.7583710407239819"
      ]
     },
     "execution_count": 29,
     "metadata": {},
     "output_type": "execute_result"
    }
   ],
   "source": [
    "test2[\"error\"][test2[\"error\"]==0].shape[0] / 2210"
   ]
  },
  {
   "cell_type": "code",
   "execution_count": 30,
   "metadata": {
    "colab": {
     "base_uri": "https://localhost:8080/",
     "height": 706
    },
    "executionInfo": {
     "elapsed": 1171,
     "status": "ok",
     "timestamp": 1617312856416,
     "user": {
      "displayName": "Brian Kim",
      "photoUrl": "https://lh3.googleusercontent.com/a-/AOh14GheK6fjKCJnJKGaH7uYzy5meG555MjbR-ZMdGLarA=s64",
      "userId": "17231552563920409361"
     },
     "user_tz": 240
    },
    "id": "RPSNMNPbKOEn",
    "outputId": "20bedeb7-e946-441d-83d6-d3d7dd490623"
   },
   "outputs": [
    {
     "name": "stdout",
     "output_type": "stream",
     "text": [
      "              precision    recall  f1-score   support\n",
      "\n",
      "         0.0       0.86      0.79      0.82       912\n",
      "         2.0       0.38      0.49      0.43       389\n",
      "         4.0       0.89      0.84      0.86       909\n",
      "\n",
      "    accuracy                           0.76      2210\n",
      "   macro avg       0.71      0.71      0.70      2210\n",
      "weighted avg       0.78      0.76      0.77      2210\n",
      "\n"
     ]
    },
    {
     "data": {
      "image/png": "[encoded data removed]",
      "text/plain": [
       "<Figure size 842.4x595.44 with 2 Axes>"
      ]
     },
     "metadata": {},
     "output_type": "display_data"
    }
   ],
   "source": [
    "prediction_test(test2[\"truth\"], test2[\"prediction\"])\n",
    "plt.savefig('../../N2FL NLP/output/03b_forest_test_accuracy_3class.png')"
   ]
  },
  {
   "cell_type": "markdown",
   "metadata": {
    "id": "bGAC9wQnLobr"
   },
   "source": [
    "### Output the model for use in next script"
   ]
  },
  {
   "cell_type": "code",
   "execution_count": 31,
   "metadata": {},
   "outputs": [],
   "source": [
    "pickle.dump(rfc, open(\"../../N2FL NLP/data/rfc.sav\", \"wb\"))"
   ]
  },
  {
   "cell_type": "code",
   "execution_count": 32,
   "metadata": {},
   "outputs": [],
   "source": [
    "#testing = pickle.load(open(\"output/rfc.sav\", \"rb\"))"
   ]
  }
 ],
 "metadata": {
  "colab": {
   "authorship_tag": "ABX9TyPVgfS72POQRECB1AhUah4Y",
   "collapsed_sections": [],
   "mount_file_id": "1illAG_zPgQbMOhgEheHqy46KyqkCg7M5",
   "name": "03b_random_forest.ipynb",
   "provenance": []
  },
  "kernelspec": {
   "display_name": "Python 3",
   "language": "python",
   "name": "python3"
  },
  "language_info": {
   "codemirror_mode": {
    "name": "ipython",
    "version": 3
   },
   "file_extension": ".py",
   "mimetype": "text/x-python",
   "name": "python",
   "nbconvert_exporter": "python",
   "pygments_lexer": "ipython3",
   "version": "3.8.8"
  }
 },
 "nbformat": 4,
 "nbformat_minor": 4
}
