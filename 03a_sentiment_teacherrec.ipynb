{
 "cells": [
  {
   "cell_type": "markdown",
   "metadata": {
    "id": "CPs-DM2VCxsi"
   },
   "source": [
    "# Basic Setup\n"
   ]
  },
  {
   "cell_type": "markdown",
   "metadata": {
    "id": "C5ypF5nCMn_s"
   },
   "source": [
    "### Import libraries"
   ]
  },
  {
   "cell_type": "code",
   "execution_count": 1,
   "metadata": {
    "id": "bHVXjMuWBNun"
   },
   "outputs": [
    {
     "name": "stderr",
     "output_type": "stream",
     "text": [
      "C:\\Users\\brhki\\Anaconda3\\lib\\site-packages\\torchaudio\\backend\\utils.py:67: UserWarning: No audio backend is available.\n",
      "  warnings.warn('No audio backend is available.')\n"
     ]
    }
   ],
   "source": [
    "import os\n",
    "import pandas as pd\n",
    "import numpy as np\n",
    "import time\n",
    "import seaborn as sns\n",
    "import matplotlib.pyplot as plt\n",
    "import tensorflow as tf\n",
    "\n",
    "from sklearn import model_selection\n",
    "from sklearn import ensemble\n",
    "from sklearn.model_selection import RandomizedSearchCV\n",
    "from sklearn.metrics import confusion_matrix \n",
    "from sklearn.metrics import accuracy_score \n",
    "from sklearn.metrics import classification_report \n",
    "\n",
    "from sklearn.model_selection import cross_val_score\n",
    "\n",
    "from transformers import AutoTokenizer, AutoModelForSequenceClassification, pipeline, AutoModelForSeq2SeqLM\n",
    "# likely will also require installation of the sentencepiece library\n",
    "\n",
    "import stanza\n",
    "# Will require downloading their English pre-trained models using the below command:\n",
    "# stanza.download('en')"
   ]
  },
  {
   "cell_type": "code",
   "execution_count": 1,
   "metadata": {
    "scrolled": true
   },
   "outputs": [
    {
     "ename": "ModuleNotFoundError",
     "evalue": "No module named 'pytorch'",
     "output_type": "error",
     "traceback": [
      "\u001b[1;31m---------------------------------------------------------------------------\u001b[0m",
      "\u001b[1;31mModuleNotFoundError\u001b[0m                       Traceback (most recent call last)",
      "\u001b[1;32m<ipython-input-1-d35c46f8d1a2>\u001b[0m in \u001b[0;36m<module>\u001b[1;34m\u001b[0m\n\u001b[1;32m----> 1\u001b[1;33m \u001b[1;32mimport\u001b[0m \u001b[0mpytorch\u001b[0m\u001b[1;33m\u001b[0m\u001b[1;33m\u001b[0m\u001b[0m\n\u001b[0m",
      "\u001b[1;31mModuleNotFoundError\u001b[0m: No module named 'pytorch'"
     ]
    }
   ],
   "source": [
    "import pytorch"
   ]
  },
  {
   "cell_type": "markdown",
   "metadata": {
    "id": "pL3AHq99MuD7"
   },
   "source": [
    "### Check that GPU loaded correctly"
   ]
  },
  {
   "cell_type": "code",
   "execution_count": 2,
   "metadata": {
    "colab": {
     "base_uri": "https://localhost:8080/"
    },
    "executionInfo": {
     "elapsed": 16672,
     "status": "ok",
     "timestamp": 1617289224468,
     "user": {
      "displayName": "Brian Kim",
      "photoUrl": "https://lh3.googleusercontent.com/a-/AOh14GheK6fjKCJnJKGaH7uYzy5meG555MjbR-ZMdGLarA=s64",
      "userId": "17231552563920409361"
     },
     "user_tz": 240
    },
    "id": "np7bvcrXO_xT",
    "outputId": "a466cce0-eb36-423e-8834-e967bdd4e6f1"
   },
   "outputs": [
    {
     "name": "stdout",
     "output_type": "stream",
     "text": [
      "Found GPU at: /device:GPU:0\n"
     ]
    }
   ],
   "source": [
    "device_name = tf.test.gpu_device_name()\n",
    "if device_name != '/device:GPU:0':\n",
    "    raise SystemError('GPU device not found')\n",
    "print('Found GPU at: {}'.format(device_name))"
   ]
  },
  {
   "cell_type": "markdown",
   "metadata": {
    "id": "Dc08_JPJC9vi"
   },
   "source": [
    "# Begin creating NLP sentiment analysis pipeline"
   ]
  },
  {
   "cell_type": "markdown",
   "metadata": {
    "id": "g8PJXSYYM8E0"
   },
   "source": [
    "### Define various sentiment analysis models"
   ]
  },
  {
   "cell_type": "code",
   "execution_count": 4,
   "metadata": {
    "id": "i5rUbkY9-act"
   },
   "outputs": [],
   "source": [
    "# https://huggingface.co/gilf/english-yelp-sentiment\n",
    "yelp_all = pipeline(task=\"sentiment-analysis\", model = AutoModelForSequenceClassification.from_pretrained(\"gilf/english-yelp-sentiment\"), tokenizer = AutoTokenizer.from_pretrained(\"gilf/english-yelp-sentiment\"), device = 0, return_all_scores=True)"
   ]
  },
  {
   "cell_type": "code",
   "execution_count": 5,
   "metadata": {
    "id": "duxlk-V7M7gu"
   },
   "outputs": [
    {
     "data": {
      "application/vnd.jupyter.widget-view+json": {
       "model_id": "5ae919495abb4d7a94c20da36595f1ef",
       "version_major": 2,
       "version_minor": 0
      },
      "text/plain": [
       "Downloading:   0%|          | 0.00/953 [00:00<?, ?B/s]"
      ]
     },
     "metadata": {},
     "output_type": "display_data"
    },
    {
     "data": {
      "application/vnd.jupyter.widget-view+json": {
       "model_id": "6c599873dd574b34b767b127af75777d",
       "version_major": 2,
       "version_minor": 0
      },
      "text/plain": [
       "Downloading:   0%|          | 0.00/669M [00:00<?, ?B/s]"
      ]
     },
     "metadata": {},
     "output_type": "display_data"
    },
    {
     "data": {
      "application/vnd.jupyter.widget-view+json": {
       "model_id": "f416cd23276a473abee63a60f3692c3d",
       "version_major": 2,
       "version_minor": 0
      },
      "text/plain": [
       "Downloading:   0%|          | 0.00/39.0 [00:00<?, ?B/s]"
      ]
     },
     "metadata": {},
     "output_type": "display_data"
    },
    {
     "data": {
      "application/vnd.jupyter.widget-view+json": {
       "model_id": "f8a0e8c14ab5400a8ece74cbb873c5bf",
       "version_major": 2,
       "version_minor": 0
      },
      "text/plain": [
       "Downloading:   0%|          | 0.00/872k [00:00<?, ?B/s]"
      ]
     },
     "metadata": {},
     "output_type": "display_data"
    },
    {
     "data": {
      "application/vnd.jupyter.widget-view+json": {
       "model_id": "82b27b549a504042ae3500876e5d5ed5",
       "version_major": 2,
       "version_minor": 0
      },
      "text/plain": [
       "Downloading:   0%|          | 0.00/112 [00:00<?, ?B/s]"
      ]
     },
     "metadata": {},
     "output_type": "display_data"
    }
   ],
   "source": [
    "# https://huggingface.co/nlptown/bert-base-multilingual-uncased-sentiment\n",
    "bert_all = pipeline(task=\"sentiment-analysis\", model = AutoModelForSequenceClassification.from_pretrained(\"nlptown/bert-base-multilingual-uncased-sentiment\"), tokenizer = AutoTokenizer.from_pretrained(\"nlptown/bert-base-multilingual-uncased-sentiment\"), device = 0, return_all_scores=True)"
   ]
  },
  {
   "cell_type": "code",
   "execution_count": 101,
   "metadata": {
    "id": "poDFtdOBQR6m"
   },
   "outputs": [],
   "source": [
    "# https://huggingface.co/cardiffnlp/twitter-roberta-base-sentiment\n",
    "twit_all = pipeline(task=\"sentiment-analysis\", model = AutoModelForSequenceClassification.from_pretrained(\"cardiffnlp/twitter-roberta-base-sentiment\"), tokenizer = AutoTokenizer.from_pretrained(\"cardiffnlp/twitter-roberta-base-sentiment\", model_max_length=500, truncation=True), device = 0, return_all_scores=True)"
   ]
  },
  {
   "cell_type": "code",
   "execution_count": 7,
   "metadata": {
    "id": "s3w9HFjEKTfc"
   },
   "outputs": [
    {
     "data": {
      "application/vnd.jupyter.widget-view+json": {
       "model_id": "f744bc7c484646d3898504b7a523360d",
       "version_major": 2,
       "version_minor": 0
      },
      "text/plain": [
       "Downloading:   0%|          | 0.00/805 [00:00<?, ?B/s]"
      ]
     },
     "metadata": {},
     "output_type": "display_data"
    },
    {
     "data": {
      "application/vnd.jupyter.widget-view+json": {
       "model_id": "5102eafec72041d6a8e244ad12bf882e",
       "version_major": 2,
       "version_minor": 0
      },
      "text/plain": [
       "Downloading:   0%|          | 0.00/469M [00:00<?, ?B/s]"
      ]
     },
     "metadata": {},
     "output_type": "display_data"
    },
    {
     "data": {
      "application/vnd.jupyter.widget-view+json": {
       "model_id": "e97e2e3518584ca0b44fa9163dca9e43",
       "version_major": 2,
       "version_minor": 0
      },
      "text/plain": [
       "Downloading:   0%|          | 0.00/2.00 [00:00<?, ?B/s]"
      ]
     },
     "metadata": {},
     "output_type": "display_data"
    },
    {
     "data": {
      "application/vnd.jupyter.widget-view+json": {
       "model_id": "844fed86e48d4a59b4e76d74c1e0159a",
       "version_major": 2,
       "version_minor": 0
      },
      "text/plain": [
       "Downloading:   0%|          | 0.00/798k [00:00<?, ?B/s]"
      ]
     },
     "metadata": {},
     "output_type": "display_data"
    },
    {
     "data": {
      "application/vnd.jupyter.widget-view+json": {
       "model_id": "fca9192ac9a7453c9015851cc1d4c8e3",
       "version_major": 2,
       "version_minor": 0
      },
      "text/plain": [
       "Downloading:   0%|          | 0.00/202 [00:00<?, ?B/s]"
      ]
     },
     "metadata": {},
     "output_type": "display_data"
    }
   ],
   "source": [
    "# https://huggingface.co/textattack/xlnet-large-cased-SST-2\n",
    "xlnet_all = pipeline(task=\"sentiment-analysis\", model = AutoModelForSequenceClassification.from_pretrained(\"textattack/xlnet-base-cased-SST-2\"), tokenizer = AutoTokenizer.from_pretrained(\"textattack/xlnet-base-cased-SST-2\"), device = 0, return_all_scores=True)"
   ]
  },
  {
   "cell_type": "code",
   "execution_count": 8,
   "metadata": {
    "id": "Yf9VxWNvS3RU"
   },
   "outputs": [
    {
     "data": {
      "application/vnd.jupyter.widget-view+json": {
       "model_id": "94affeeb6ec44747ae0f04eddeeaec4e",
       "version_major": 2,
       "version_minor": 0
      },
      "text/plain": [
       "Downloading:   0%|          | 0.00/1.21k [00:00<?, ?B/s]"
      ]
     },
     "metadata": {},
     "output_type": "display_data"
    },
    {
     "data": {
      "application/vnd.jupyter.widget-view+json": {
       "model_id": "cf777d84a3e04be58f333a3a117bd89d",
       "version_major": 2,
       "version_minor": 0
      },
      "text/plain": [
       "Downloading:   0%|          | 0.00/892M [00:00<?, ?B/s]"
      ]
     },
     "metadata": {},
     "output_type": "display_data"
    },
    {
     "data": {
      "application/vnd.jupyter.widget-view+json": {
       "model_id": "e39c9333d4e744098f7fc1331d8bca35",
       "version_major": 2,
       "version_minor": 0
      },
      "text/plain": [
       "Downloading:   0%|          | 0.00/25.0 [00:00<?, ?B/s]"
      ]
     },
     "metadata": {},
     "output_type": "display_data"
    },
    {
     "data": {
      "application/vnd.jupyter.widget-view+json": {
       "model_id": "01c27d72d92e48fe8f3c6555612497d5",
       "version_major": 2,
       "version_minor": 0
      },
      "text/plain": [
       "Downloading:   0%|          | 0.00/792k [00:00<?, ?B/s]"
      ]
     },
     "metadata": {},
     "output_type": "display_data"
    },
    {
     "data": {
      "application/vnd.jupyter.widget-view+json": {
       "model_id": "c233d1cdb8f44d3fa41a7b3b9248ef36",
       "version_major": 2,
       "version_minor": 0
      },
      "text/plain": [
       "Downloading:   0%|          | 0.00/1.79k [00:00<?, ?B/s]"
      ]
     },
     "metadata": {},
     "output_type": "display_data"
    }
   ],
   "source": [
    "# https://huggingface.co/mrm8488/t5-base-finetuned-imdb-sentiment\n",
    "imdb_all = pipeline(task=\"text2text-generation\", model = AutoModelForSeq2SeqLM.from_pretrained(\"mrm8488/t5-base-finetuned-imdb-sentiment\"), tokenizer = AutoTokenizer.from_pretrained(\"mrm8488/t5-base-finetuned-imdb-sentiment\"), device = 0)"
   ]
  },
  {
   "cell_type": "code",
   "execution_count": 9,
   "metadata": {
    "id": "bipDPf1EKTFl"
   },
   "outputs": [
    {
     "data": {
      "application/vnd.jupyter.widget-view+json": {
       "model_id": "14a529f23ab84cab9610509a0ad68219",
       "version_major": 2,
       "version_minor": 0
      },
      "text/plain": [
       "Downloading:   0%|          | 0.00/732 [00:00<?, ?B/s]"
      ]
     },
     "metadata": {},
     "output_type": "display_data"
    },
    {
     "data": {
      "application/vnd.jupyter.widget-view+json": {
       "model_id": "a3d8c923850a456697887bc464e24735",
       "version_major": 2,
       "version_minor": 0
      },
      "text/plain": [
       "Downloading:   0%|          | 0.00/46.7M [00:00<?, ?B/s]"
      ]
     },
     "metadata": {},
     "output_type": "display_data"
    },
    {
     "data": {
      "application/vnd.jupyter.widget-view+json": {
       "model_id": "32089c06264d4961951c25b539872766",
       "version_major": 2,
       "version_minor": 0
      },
      "text/plain": [
       "Downloading:   0%|          | 0.00/25.0 [00:00<?, ?B/s]"
      ]
     },
     "metadata": {},
     "output_type": "display_data"
    },
    {
     "data": {
      "application/vnd.jupyter.widget-view+json": {
       "model_id": "62b5e1a6c07e4c69a8253901b06ed393",
       "version_major": 2,
       "version_minor": 0
      },
      "text/plain": [
       "Downloading:   0%|          | 0.00/760k [00:00<?, ?B/s]"
      ]
     },
     "metadata": {},
     "output_type": "display_data"
    },
    {
     "data": {
      "application/vnd.jupyter.widget-view+json": {
       "model_id": "7100b3d8365e4120a29de838e0090a07",
       "version_major": 2,
       "version_minor": 0
      },
      "text/plain": [
       "Downloading:   0%|          | 0.00/156 [00:00<?, ?B/s]"
      ]
     },
     "metadata": {},
     "output_type": "display_data"
    }
   ],
   "source": [
    "# https://huggingface.co/textattack/albert-base-v2-SST-2\n",
    "albert_all = pipeline(task=\"sentiment-analysis\", model = AutoModelForSequenceClassification.from_pretrained(\"textattack/albert-base-v2-SST-2\"), tokenizer = AutoTokenizer.from_pretrained(\"textattack/albert-base-v2-SST-2\", use_fast=False), device = 0, return_all_scores=True)"
   ]
  },
  {
   "cell_type": "code",
   "execution_count": 10,
   "metadata": {
    "colab": {
     "base_uri": "https://localhost:8080/"
    },
    "executionInfo": {
     "elapsed": 46668,
     "status": "ok",
     "timestamp": 1617289255463,
     "user": {
      "displayName": "Brian Kim",
      "photoUrl": "https://lh3.googleusercontent.com/a-/AOh14GheK6fjKCJnJKGaH7uYzy5meG555MjbR-ZMdGLarA=s64",
      "userId": "17231552563920409361"
     },
     "user_tz": 240
    },
    "id": "fvi9LllTWATZ",
    "outputId": "8ef1240e-9175-4ac9-90b3-59592b29d601"
   },
   "outputs": [
    {
     "name": "stderr",
     "output_type": "stream",
     "text": [
      "2021-07-17 11:48:47 INFO: Loading these models for language: en (English):\n",
      "========================\n",
      "| Processor | Package  |\n",
      "------------------------\n",
      "| tokenize  | combined |\n",
      "| sentiment | sstplus  |\n",
      "========================\n",
      "\n",
      "2021-07-17 11:48:47 INFO: Use device: gpu\n",
      "2021-07-17 11:48:47 INFO: Loading: tokenize\n",
      "2021-07-17 11:48:48 INFO: Loading: sentiment\n",
      "2021-07-17 11:48:48 INFO: Done loading processors!\n"
     ]
    }
   ],
   "source": [
    "stanza_top = stanza.Pipeline(lang='en', processors='tokenize,sentiment')"
   ]
  },
  {
   "cell_type": "markdown",
   "metadata": {
    "id": "9zxMGwutbcNY"
   },
   "source": [
    "### Define pipeline for running sentiment analysis and charting output"
   ]
  },
  {
   "cell_type": "code",
   "execution_count": 11,
   "metadata": {
    "id": "0p02ZeFxJCJO"
   },
   "outputs": [],
   "source": [
    "# Function to run the sentiment analysis algorithm on a specific string of text\n",
    "# and input the results into a tidy series\n",
    "#\n",
    "# ARGS:\n",
    "# text - String of text to be analyzed\n",
    "# model - one of \"yelp\", \"bert\", \"twit\", \"xlnet\", \"albert\", or \"stanza\"\n",
    "\n",
    "def save_sentiment(text, model):\n",
    "    # Run analyses and save results\n",
    "    if model==\"yelp\":\n",
    "        temp_all = yelp_all(text)\n",
    "\n",
    "        # Output results into a dataframe\n",
    "        d = pd.Series({'LABEL_0':temp_all[0][0][\"score\"], 'LABEL_1': temp_all[0][1][\"score\"], 'LABEL_2': temp_all[0][2][\"score\"], 'LABEL_3': temp_all[0][3][\"score\"], 'LABEL_4': temp_all[0][4][\"score\"]})\n",
    "        d2 = pd.Series({'label_predict': d.idxmax(), 'label_prob': d.max()})\n",
    "        d = d.append(d2)\n",
    "    \n",
    "    elif model==\"bert\":\n",
    "        temp_all = bert_all(text)\n",
    "\n",
    "        # Output results into a dataframe\n",
    "        d = pd.Series({'LABEL_0':temp_all[0][0][\"score\"], 'LABEL_1': temp_all[0][1][\"score\"], 'LABEL_2': temp_all[0][2][\"score\"], 'LABEL_3': temp_all[0][3][\"score\"], 'LABEL_4': temp_all[0][4][\"score\"]})\n",
    "        d2 = pd.Series({'label_predict': d.idxmax(), 'label_prob': d.max()})\n",
    "        d = d.append(d2)\n",
    "\n",
    "    elif model==\"twit\":\n",
    "        temp_all = twit_all(text)\n",
    "\n",
    "        # Output results into a dataframe\n",
    "        d = pd.Series({'LABEL_0':temp_all[0][0][\"score\"], 'LABEL_2': temp_all[0][1][\"score\"], 'LABEL_4': temp_all[0][2][\"score\"]})\n",
    "        d2 = pd.Series({'label_predict': d.idxmax(), 'label_prob': d.max()})\n",
    "        d = d.append(d2)\n",
    "\n",
    "    elif model==\"xlnet\":\n",
    "        temp_all = xlnet_all(text)\n",
    "\n",
    "        # Output results into a dataframe\n",
    "        d = pd.Series({'LABEL_0':temp_all[0][0][\"score\"], 'LABEL_4': temp_all[0][1][\"score\"]})\n",
    "        d2 = pd.Series({'label_predict': d.idxmax(), 'label_prob': d.max()})\n",
    "        d = d.append(d2)\n",
    "\n",
    "    elif model==\"imdb\":\n",
    "        temp_all = imdb_all(text)\n",
    "\n",
    "        # Output results into a dataframe\n",
    "        if temp_all[0][\"generated_text\"]==\"negative\":\n",
    "            d = pd.Series({'label_predict': \"LABEL_0\"})\n",
    "        elif temp_all[0][\"generated_text\"]==\"positive\":\n",
    "            d = pd.Series({'label_predict': \"LABEL_4\"})\n",
    "        else:\n",
    "            d = pd.Series({'label_predict': \"LABEL_2\"})\n",
    "\n",
    "    elif model==\"albert\":\n",
    "        temp_all = albert_all(text)\n",
    "\n",
    "        # Output results into a dataframe\n",
    "        d = pd.Series({'LABEL_0':temp_all[0][0][\"score\"], 'LABEL_4': temp_all[0][1][\"score\"]})\n",
    "        d2 = pd.Series({'label_predict': d.idxmax(), 'label_prob': d.max()})\n",
    "        d = d.append(d2)\n",
    "    \n",
    "    elif model==\"stanza\":\n",
    "        temp = stanza_top(text)\n",
    "        for i, sentence in enumerate(temp.sentences):\n",
    "            if sentence.sentiment==0:\n",
    "                d = pd.Series({'label_predict': \"LABEL_0\"})\n",
    "            elif sentence.sentiment==1:\n",
    "                d = pd.Series({'label_predict': \"LABEL_2\"})\n",
    "            elif sentence.sentiment==2:\n",
    "                d = pd.Series({'label_predict': \"LABEL_4\"})\n",
    "\n",
    "    # Print it\n",
    "    return d\n",
    "  "
   ]
  },
  {
   "cell_type": "code",
   "execution_count": 12,
   "metadata": {},
   "outputs": [],
   "source": [
    "def get_sentiment(dataset, text_column, model):\n",
    "    start_time = time.time()\n",
    "\n",
    "    temp = dataset[text_column].apply(save_sentiment, model=model)\n",
    "    print(\"--- %s seconds ---\" % (time.time() - start_time))\n",
    "    temp = pd.concat([dataset, temp], axis=1)\n",
    "    return temp"
   ]
  },
  {
   "cell_type": "code",
   "execution_count": 13,
   "metadata": {
    "id": "o4wylvyfRAxI"
   },
   "outputs": [],
   "source": [
    "# Function to quickly and visually display the accuracy metrics of the sentiment\n",
    "# analysis algorithm in a confusion matrix and standard measures\n",
    "#\n",
    "# ARGS:\n",
    "# truevals - Dataframe column of true values\n",
    "# predictvals - Dataframe column of predicted values\n",
    "\n",
    "def prediction_test(truevals, predictvals):\n",
    "    sns.set(font_scale=1.2, rc={'figure.figsize':(11.7,8.27)})\n",
    "    cm = confusion_matrix(truevals, predictvals)\n",
    "    ax = plt.subplot()\n",
    "    sns.heatmap(cm, annot=True, ax = ax, cmap='Greens', fmt='g')\n",
    "    ax.set_xlabel('Predicted labels');ax.set_ylabel('True labels')\n",
    "    ax.set_title('Confusion Matrix')\n",
    "\n",
    "    print(classification_report(truevals, predictvals))"
   ]
  },
  {
   "cell_type": "markdown",
   "metadata": {},
   "source": [
    "# Apply to Stanford Sentiment Treebank and Benchmark"
   ]
  },
  {
   "cell_type": "markdown",
   "metadata": {
    "id": "Xswgb54gDGse"
   },
   "source": [
    "### Load in Stanford Sentiment Treebank to benchmark performance"
   ]
  },
  {
   "cell_type": "code",
   "execution_count": 18,
   "metadata": {
    "colab": {
     "base_uri": "https://localhost:8080/"
    },
    "executionInfo": {
     "elapsed": 91905,
     "status": "ok",
     "timestamp": 1617289300730,
     "user": {
      "displayName": "Brian Kim",
      "photoUrl": "https://lh3.googleusercontent.com/a-/AOh14GheK6fjKCJnJKGaH7uYzy5meG555MjbR-ZMdGLarA=s64",
      "userId": "17231552563920409361"
     },
     "user_tz": 240
    },
    "id": "zVy7unsoAmk0",
    "outputId": "8af23c97-f00a-488c-e000-f65d7f0ac311"
   },
   "outputs": [],
   "source": [
    "sst5_train = pd.read_csv(\"../../N2FL NLP/data/train.tsv\", sep=\"\\t\", encoding='utf-8')\n",
    "# source: https://raw.githubusercontent.com/brhkim/Albert-Sentiment-Analysis/master/data/train.tsv\n",
    "sst5_test = pd.read_csv(\"../../N2FL NLP/data/test.tsv\", sep=\"\\t\", encoding='utf-8')\n",
    "# source: https://raw.githubusercontent.com/brhkim/Albert-Sentiment-Analysis/master/data/test.tsv"
   ]
  },
  {
   "cell_type": "code",
   "execution_count": 19,
   "metadata": {
    "id": "Z0OVxY2-Cu0V"
   },
   "outputs": [],
   "source": [
    "# Basic relabeling to mesh with algorithm output\n",
    "sst5_train.loc[sst5_train.label == \"very neg\", \"label\"] = \"LABEL_0\"\n",
    "sst5_train.loc[sst5_train.label == \"neg\", \"label\"] = \"LABEL_1\"\n",
    "sst5_train.loc[sst5_train.label == \"neu\", \"label\"] = \"LABEL_2\"\n",
    "sst5_train.loc[sst5_train.label == \"pos\", \"label\"] = \"LABEL_3\"\n",
    "sst5_train.loc[sst5_train.label == \"very pos\", \"label\"] = \"LABEL_4\""
   ]
  },
  {
   "cell_type": "code",
   "execution_count": 20,
   "metadata": {
    "id": "JI8WBJx7EHm6"
   },
   "outputs": [],
   "source": [
    "sst5_test.loc[sst5_test.label == \"very neg\", \"label\"] = \"LABEL_0\"\n",
    "sst5_test.loc[sst5_test.label == \"neg\", \"label\"] = \"LABEL_1\"\n",
    "sst5_test.loc[sst5_test.label == \"neu\", \"label\"] = \"LABEL_2\"\n",
    "sst5_test.loc[sst5_test.label == \"pos\", \"label\"] = \"LABEL_3\"\n",
    "sst5_test.loc[sst5_test.label == \"very pos\", \"label\"] = \"LABEL_4\""
   ]
  },
  {
   "cell_type": "code",
   "execution_count": 21,
   "metadata": {
    "colab": {
     "base_uri": "https://localhost:8080/"
    },
    "executionInfo": {
     "elapsed": 91889,
     "status": "ok",
     "timestamp": 1617289300733,
     "user": {
      "displayName": "Brian Kim",
      "photoUrl": "https://lh3.googleusercontent.com/a-/AOh14GheK6fjKCJnJKGaH7uYzy5meG555MjbR-ZMdGLarA=s64",
      "userId": "17231552563920409361"
     },
     "user_tz": 240
    },
    "id": "c85yeyjZDzxa",
    "outputId": "daf9c627-5ae9-48b7-8800-f5e95e0ced9d"
   },
   "outputs": [
    {
     "data": {
      "text/html": [
       "<div>\n",
       "<style scoped>\n",
       "    .dataframe tbody tr th:only-of-type {\n",
       "        vertical-align: middle;\n",
       "    }\n",
       "\n",
       "    .dataframe tbody tr th {\n",
       "        vertical-align: top;\n",
       "    }\n",
       "\n",
       "    .dataframe thead th {\n",
       "        text-align: right;\n",
       "    }\n",
       "</style>\n",
       "<table border=\"1\" class=\"dataframe\">\n",
       "  <thead>\n",
       "    <tr style=\"text-align: right;\">\n",
       "      <th></th>\n",
       "      <th>text</th>\n",
       "      <th>label</th>\n",
       "    </tr>\n",
       "  </thead>\n",
       "  <tbody>\n",
       "    <tr>\n",
       "      <th>1417</th>\n",
       "      <td>I loved looking at this movie .</td>\n",
       "      <td>LABEL_3</td>\n",
       "    </tr>\n",
       "    <tr>\n",
       "      <th>797</th>\n",
       "      <td>Just like the deli sandwich : lots of ham , lo...</td>\n",
       "      <td>LABEL_2</td>\n",
       "    </tr>\n",
       "    <tr>\n",
       "      <th>908</th>\n",
       "      <td>The saturation bombing of Reggio 's images and...</td>\n",
       "      <td>LABEL_1</td>\n",
       "    </tr>\n",
       "    <tr>\n",
       "      <th>815</th>\n",
       "      <td>If this movie were a book , it would be a page...</td>\n",
       "      <td>LABEL_4</td>\n",
       "    </tr>\n",
       "    <tr>\n",
       "      <th>1443</th>\n",
       "      <td>If you liked the 1982 film then , you 'll stil...</td>\n",
       "      <td>LABEL_4</td>\n",
       "    </tr>\n",
       "  </tbody>\n",
       "</table>\n",
       "</div>"
      ],
      "text/plain": [
       "                                                   text    label\n",
       "1417                    I loved looking at this movie .  LABEL_3\n",
       "797   Just like the deli sandwich : lots of ham , lo...  LABEL_2\n",
       "908   The saturation bombing of Reggio 's images and...  LABEL_1\n",
       "815   If this movie were a book , it would be a page...  LABEL_4\n",
       "1443  If you liked the 1982 film then , you 'll stil...  LABEL_4"
      ]
     },
     "execution_count": 21,
     "metadata": {},
     "output_type": "execute_result"
    }
   ],
   "source": [
    "# Preview test dataset\n",
    "sst5_test.sample(5, random_state=1234)"
   ]
  },
  {
   "cell_type": "code",
   "execution_count": 22,
   "metadata": {
    "id": "LYOMniaaYtDC"
   },
   "outputs": [],
   "source": [
    "# Make a 3-class SST dataset\n",
    "sst3_train = sst5_train.copy()\n",
    "sst3_train.loc[sst3_train.label == \"LABEL_1\", \"label\"] = \"LABEL_0\"\n",
    "sst3_train.loc[sst3_train.label == \"LABEL_3\", \"label\"] = \"LABEL_4\"\n",
    "\n",
    "sst3_test = sst5_test.copy()\n",
    "sst3_test.loc[sst3_test.label == \"LABEL_1\", \"label\"] = \"LABEL_0\"\n",
    "sst3_test.loc[sst3_test.label == \"LABEL_3\", \"label\"] = \"LABEL_4\""
   ]
  },
  {
   "cell_type": "code",
   "execution_count": 23,
   "metadata": {
    "colab": {
     "base_uri": "https://localhost:8080/"
    },
    "executionInfo": {
     "elapsed": 91876,
     "status": "ok",
     "timestamp": 1617289300734,
     "user": {
      "displayName": "Brian Kim",
      "photoUrl": "https://lh3.googleusercontent.com/a-/AOh14GheK6fjKCJnJKGaH7uYzy5meG555MjbR-ZMdGLarA=s64",
      "userId": "17231552563920409361"
     },
     "user_tz": 240
    },
    "id": "dPwuYPWsaw6M",
    "outputId": "f4b09079-7ced-4a71-aba2-0c4daf6f92d7"
   },
   "outputs": [
    {
     "data": {
      "text/html": [
       "<div>\n",
       "<style scoped>\n",
       "    .dataframe tbody tr th:only-of-type {\n",
       "        vertical-align: middle;\n",
       "    }\n",
       "\n",
       "    .dataframe tbody tr th {\n",
       "        vertical-align: top;\n",
       "    }\n",
       "\n",
       "    .dataframe thead th {\n",
       "        text-align: right;\n",
       "    }\n",
       "</style>\n",
       "<table border=\"1\" class=\"dataframe\">\n",
       "  <thead>\n",
       "    <tr style=\"text-align: right;\">\n",
       "      <th></th>\n",
       "      <th>text</th>\n",
       "      <th>label</th>\n",
       "    </tr>\n",
       "  </thead>\n",
       "  <tbody>\n",
       "    <tr>\n",
       "      <th>1417</th>\n",
       "      <td>I loved looking at this movie .</td>\n",
       "      <td>LABEL_4</td>\n",
       "    </tr>\n",
       "    <tr>\n",
       "      <th>797</th>\n",
       "      <td>Just like the deli sandwich : lots of ham , lo...</td>\n",
       "      <td>LABEL_2</td>\n",
       "    </tr>\n",
       "    <tr>\n",
       "      <th>908</th>\n",
       "      <td>The saturation bombing of Reggio 's images and...</td>\n",
       "      <td>LABEL_0</td>\n",
       "    </tr>\n",
       "    <tr>\n",
       "      <th>815</th>\n",
       "      <td>If this movie were a book , it would be a page...</td>\n",
       "      <td>LABEL_4</td>\n",
       "    </tr>\n",
       "    <tr>\n",
       "      <th>1443</th>\n",
       "      <td>If you liked the 1982 film then , you 'll stil...</td>\n",
       "      <td>LABEL_4</td>\n",
       "    </tr>\n",
       "  </tbody>\n",
       "</table>\n",
       "</div>"
      ],
      "text/plain": [
       "                                                   text    label\n",
       "1417                    I loved looking at this movie .  LABEL_4\n",
       "797   Just like the deli sandwich : lots of ham , lo...  LABEL_2\n",
       "908   The saturation bombing of Reggio 's images and...  LABEL_0\n",
       "815   If this movie were a book , it would be a page...  LABEL_4\n",
       "1443  If you liked the 1982 film then , you 'll stil...  LABEL_4"
      ]
     },
     "execution_count": 23,
     "metadata": {},
     "output_type": "execute_result"
    }
   ],
   "source": [
    "sst3_test.sample(5, random_state=1234)"
   ]
  },
  {
   "cell_type": "code",
   "execution_count": 24,
   "metadata": {
    "id": "SCoGa3_ZY1vu"
   },
   "outputs": [],
   "source": [
    "# Make a 2-class SST dataset\n",
    "sst2_train = sst3_train[sst3_train['label']!=\"LABEL_2\"].copy()\n",
    "sst2_test = sst3_test[sst3_test['label']!=\"LABEL_2\"].copy()"
   ]
  },
  {
   "cell_type": "markdown",
   "metadata": {
    "id": "DS_iZkK4bjgd"
   },
   "source": [
    "# Run and evaluate various sentiment analysis pipelines on SST data"
   ]
  },
  {
   "cell_type": "markdown",
   "metadata": {
    "id": "SjXWDacwboV6"
   },
   "source": [
    "### Yelp BERT model"
   ]
  },
  {
   "cell_type": "code",
   "execution_count": 25,
   "metadata": {
    "colab": {
     "base_uri": "https://localhost:8080/"
    },
    "executionInfo": {
     "elapsed": 379668,
     "status": "ok",
     "timestamp": 1617276424824,
     "user": {
      "displayName": "Brian Kim",
      "photoUrl": "https://lh3.googleusercontent.com/a-/AOh14GheK6fjKCJnJKGaH7uYzy5meG555MjbR-ZMdGLarA=s64",
      "userId": "17231552563920409361"
     },
     "user_tz": 240
    },
    "id": "F9pyhBRkLjmy",
    "outputId": "df1b1e5a-3e02-4c0f-84ff-b1abdbbff4fe"
   },
   "outputs": [
    {
     "name": "stdout",
     "output_type": "stream",
     "text": [
      "--- 18.70186495780945 seconds ---\n"
     ]
    }
   ],
   "source": [
    "yelp_test = get_sentiment(sst5_test, \"text\", \"yelp\")"
   ]
  },
  {
   "cell_type": "code",
   "execution_count": 26,
   "metadata": {
    "colab": {
     "base_uri": "https://localhost:8080/"
    },
    "executionInfo": {
     "elapsed": 379659,
     "status": "ok",
     "timestamp": 1617276424826,
     "user": {
      "displayName": "Brian Kim",
      "photoUrl": "https://lh3.googleusercontent.com/a-/AOh14GheK6fjKCJnJKGaH7uYzy5meG555MjbR-ZMdGLarA=s64",
      "userId": "17231552563920409361"
     },
     "user_tz": 240
    },
    "id": "DOKPJgfxR9ai",
    "outputId": "e25868e0-f6f2-43bb-df19-24effd87abc3"
   },
   "outputs": [
    {
     "data": {
      "text/html": [
       "<div>\n",
       "<style scoped>\n",
       "    .dataframe tbody tr th:only-of-type {\n",
       "        vertical-align: middle;\n",
       "    }\n",
       "\n",
       "    .dataframe tbody tr th {\n",
       "        vertical-align: top;\n",
       "    }\n",
       "\n",
       "    .dataframe thead th {\n",
       "        text-align: right;\n",
       "    }\n",
       "</style>\n",
       "<table border=\"1\" class=\"dataframe\">\n",
       "  <thead>\n",
       "    <tr style=\"text-align: right;\">\n",
       "      <th></th>\n",
       "      <th>text</th>\n",
       "      <th>label</th>\n",
       "      <th>LABEL_0</th>\n",
       "      <th>LABEL_1</th>\n",
       "      <th>LABEL_2</th>\n",
       "      <th>LABEL_3</th>\n",
       "      <th>LABEL_4</th>\n",
       "      <th>label_predict</th>\n",
       "      <th>label_prob</th>\n",
       "    </tr>\n",
       "  </thead>\n",
       "  <tbody>\n",
       "    <tr>\n",
       "      <th>2094</th>\n",
       "      <td>Much-anticipated and ultimately lackluster mov...</td>\n",
       "      <td>LABEL_1</td>\n",
       "      <td>0.044354</td>\n",
       "      <td>0.530681</td>\n",
       "      <td>0.414884</td>\n",
       "      <td>0.009627</td>\n",
       "      <td>0.000453</td>\n",
       "      <td>LABEL_1</td>\n",
       "      <td>0.530681</td>\n",
       "    </tr>\n",
       "    <tr>\n",
       "      <th>1835</th>\n",
       "      <td>A model of what films like this should be like .</td>\n",
       "      <td>LABEL_4</td>\n",
       "      <td>0.343731</td>\n",
       "      <td>0.341812</td>\n",
       "      <td>0.165734</td>\n",
       "      <td>0.068656</td>\n",
       "      <td>0.080068</td>\n",
       "      <td>LABEL_0</td>\n",
       "      <td>0.343731</td>\n",
       "    </tr>\n",
       "    <tr>\n",
       "      <th>613</th>\n",
       "      <td>This cuddly sequel to the 1999 hit is a little...</td>\n",
       "      <td>LABEL_3</td>\n",
       "      <td>0.001998</td>\n",
       "      <td>0.057504</td>\n",
       "      <td>0.665670</td>\n",
       "      <td>0.260657</td>\n",
       "      <td>0.014172</td>\n",
       "      <td>LABEL_2</td>\n",
       "      <td>0.665670</td>\n",
       "    </tr>\n",
       "    <tr>\n",
       "      <th>708</th>\n",
       "      <td>Not even the Hanson Brothers can save it</td>\n",
       "      <td>LABEL_0</td>\n",
       "      <td>0.674523</td>\n",
       "      <td>0.220520</td>\n",
       "      <td>0.058653</td>\n",
       "      <td>0.018783</td>\n",
       "      <td>0.027522</td>\n",
       "      <td>LABEL_0</td>\n",
       "      <td>0.674523</td>\n",
       "    </tr>\n",
       "    <tr>\n",
       "      <th>113</th>\n",
       "      <td>Going to the website may be just as fun ( and ...</td>\n",
       "      <td>LABEL_1</td>\n",
       "      <td>0.297956</td>\n",
       "      <td>0.290639</td>\n",
       "      <td>0.248756</td>\n",
       "      <td>0.094182</td>\n",
       "      <td>0.068468</td>\n",
       "      <td>LABEL_0</td>\n",
       "      <td>0.297956</td>\n",
       "    </tr>\n",
       "  </tbody>\n",
       "</table>\n",
       "</div>"
      ],
      "text/plain": [
       "                                                   text    label   LABEL_0  \\\n",
       "2094  Much-anticipated and ultimately lackluster mov...  LABEL_1  0.044354   \n",
       "1835   A model of what films like this should be like .  LABEL_4  0.343731   \n",
       "613   This cuddly sequel to the 1999 hit is a little...  LABEL_3  0.001998   \n",
       "708            Not even the Hanson Brothers can save it  LABEL_0  0.674523   \n",
       "113   Going to the website may be just as fun ( and ...  LABEL_1  0.297956   \n",
       "\n",
       "       LABEL_1   LABEL_2   LABEL_3   LABEL_4 label_predict  label_prob  \n",
       "2094  0.530681  0.414884  0.009627  0.000453       LABEL_1    0.530681  \n",
       "1835  0.341812  0.165734  0.068656  0.080068       LABEL_0    0.343731  \n",
       "613   0.057504  0.665670  0.260657  0.014172       LABEL_2    0.665670  \n",
       "708   0.220520  0.058653  0.018783  0.027522       LABEL_0    0.674523  \n",
       "113   0.290639  0.248756  0.094182  0.068468       LABEL_0    0.297956  "
      ]
     },
     "execution_count": 26,
     "metadata": {},
     "output_type": "execute_result"
    }
   ],
   "source": [
    "yelp_test.sample(5, random_state=1236)"
   ]
  },
  {
   "cell_type": "code",
   "execution_count": 27,
   "metadata": {
    "colab": {
     "base_uri": "https://localhost:8080/"
    },
    "executionInfo": {
     "elapsed": 381139,
     "status": "ok",
     "timestamp": 1617276426317,
     "user": {
      "displayName": "Brian Kim",
      "photoUrl": "https://lh3.googleusercontent.com/a-/AOh14GheK6fjKCJnJKGaH7uYzy5meG555MjbR-ZMdGLarA=s64",
      "userId": "17231552563920409361"
     },
     "user_tz": 240
    },
    "id": "Od7JEH62SaaR",
    "outputId": "024ae849-e5a1-46df-ab00-e62797cb8471"
   },
   "outputs": [
    {
     "name": "stdout",
     "output_type": "stream",
     "text": [
      "              precision    recall  f1-score   support\n",
      "\n",
      "     LABEL_0       0.30      0.56      0.39       279\n",
      "     LABEL_1       0.51      0.40      0.45       633\n",
      "     LABEL_2       0.27      0.32      0.29       389\n",
      "     LABEL_3       0.44      0.25      0.32       510\n",
      "     LABEL_4       0.50      0.56      0.53       399\n",
      "\n",
      "    accuracy                           0.40      2210\n",
      "   macro avg       0.40      0.42      0.40      2210\n",
      "weighted avg       0.42      0.40      0.40      2210\n",
      "\n"
     ]
    },
    {
     "data": {
      "image/png": "[encoded data removed]",
      "text/plain": [
       "<Figure size 842.4x595.44 with 2 Axes>"
      ]
     },
     "metadata": {},
     "output_type": "display_data"
    }
   ],
   "source": [
    "prediction_test(yelp_test[\"label\"], yelp_test[\"label_predict\"])\n",
    "plt.savefig('../../N2FL NLP/output/03a_yelp_test.png')"
   ]
  },
  {
   "cell_type": "markdown",
   "metadata": {
    "id": "kBNyOenmbt_O"
   },
   "source": [
    "### Stanza Sentiment Analysis CNN"
   ]
  },
  {
   "cell_type": "code",
   "execution_count": 28,
   "metadata": {
    "colab": {
     "base_uri": "https://localhost:8080/"
    },
    "executionInfo": {
     "elapsed": 413510,
     "status": "ok",
     "timestamp": 1617276458700,
     "user": {
      "displayName": "Brian Kim",
      "photoUrl": "https://lh3.googleusercontent.com/a-/AOh14GheK6fjKCJnJKGaH7uYzy5meG555MjbR-ZMdGLarA=s64",
      "userId": "17231552563920409361"
     },
     "user_tz": 240
    },
    "id": "FGtHIoYEWQXo",
    "outputId": "3df63ebe-3549-4470-8cdd-b4159147ca35"
   },
   "outputs": [
    {
     "name": "stderr",
     "output_type": "stream",
     "text": [
      "C:\\Users\\brhki\\Anaconda3\\lib\\site-packages\\torch\\nn\\functional.py:652: UserWarning: Named tensors and all their associated APIs are an experimental feature and subject to change. Please do not use them for anything important until they are released as stable. (Triggered internally at  ..\\c10/core/TensorImpl.h:1156.)\n",
      "  return torch.max_pool1d(input, kernel_size, stride, padding, dilation, ceil_mode)\n"
     ]
    },
    {
     "name": "stdout",
     "output_type": "stream",
     "text": [
      "--- 12.124010562896729 seconds ---\n"
     ]
    }
   ],
   "source": [
    "stanza_test = get_sentiment(sst3_test, \"text\", \"stanza\")"
   ]
  },
  {
   "cell_type": "code",
   "execution_count": 29,
   "metadata": {
    "colab": {
     "base_uri": "https://localhost:8080/"
    },
    "executionInfo": {
     "elapsed": 413501,
     "status": "ok",
     "timestamp": 1617276458701,
     "user": {
      "displayName": "Brian Kim",
      "photoUrl": "https://lh3.googleusercontent.com/a-/AOh14GheK6fjKCJnJKGaH7uYzy5meG555MjbR-ZMdGLarA=s64",
      "userId": "17231552563920409361"
     },
     "user_tz": 240
    },
    "id": "ahs4ZVmtWh86",
    "outputId": "a5f8944a-3457-4c49-8454-0a1c0601bdbf"
   },
   "outputs": [
    {
     "data": {
      "text/html": [
       "<div>\n",
       "<style scoped>\n",
       "    .dataframe tbody tr th:only-of-type {\n",
       "        vertical-align: middle;\n",
       "    }\n",
       "\n",
       "    .dataframe tbody tr th {\n",
       "        vertical-align: top;\n",
       "    }\n",
       "\n",
       "    .dataframe thead th {\n",
       "        text-align: right;\n",
       "    }\n",
       "</style>\n",
       "<table border=\"1\" class=\"dataframe\">\n",
       "  <thead>\n",
       "    <tr style=\"text-align: right;\">\n",
       "      <th></th>\n",
       "      <th>text</th>\n",
       "      <th>label</th>\n",
       "      <th>label_predict</th>\n",
       "    </tr>\n",
       "  </thead>\n",
       "  <tbody>\n",
       "    <tr>\n",
       "      <th>2026</th>\n",
       "      <td>An impressive debut for first-time writer-dire...</td>\n",
       "      <td>LABEL_4</td>\n",
       "      <td>LABEL_4</td>\n",
       "    </tr>\n",
       "    <tr>\n",
       "      <th>277</th>\n",
       "      <td>Herzog is obviously looking for a moral to his...</td>\n",
       "      <td>LABEL_0</td>\n",
       "      <td>LABEL_0</td>\n",
       "    </tr>\n",
       "    <tr>\n",
       "      <th>307</th>\n",
       "      <td>Looks like a high school film project complete...</td>\n",
       "      <td>LABEL_0</td>\n",
       "      <td>LABEL_0</td>\n",
       "    </tr>\n",
       "    <tr>\n",
       "      <th>1423</th>\n",
       "      <td>A pleasant romantic comedy .</td>\n",
       "      <td>LABEL_4</td>\n",
       "      <td>LABEL_4</td>\n",
       "    </tr>\n",
       "    <tr>\n",
       "      <th>116</th>\n",
       "      <td>It 's both a necessary political work and a fa...</td>\n",
       "      <td>LABEL_4</td>\n",
       "      <td>LABEL_4</td>\n",
       "    </tr>\n",
       "  </tbody>\n",
       "</table>\n",
       "</div>"
      ],
      "text/plain": [
       "                                                   text    label label_predict\n",
       "2026  An impressive debut for first-time writer-dire...  LABEL_4       LABEL_4\n",
       "277   Herzog is obviously looking for a moral to his...  LABEL_0       LABEL_0\n",
       "307   Looks like a high school film project complete...  LABEL_0       LABEL_0\n",
       "1423                       A pleasant romantic comedy .  LABEL_4       LABEL_4\n",
       "116   It 's both a necessary political work and a fa...  LABEL_4       LABEL_4"
      ]
     },
     "execution_count": 29,
     "metadata": {},
     "output_type": "execute_result"
    }
   ],
   "source": [
    "stanza_test.sample(5, random_state=1237)"
   ]
  },
  {
   "cell_type": "code",
   "execution_count": 30,
   "metadata": {
    "colab": {
     "base_uri": "https://localhost:8080/"
    },
    "executionInfo": {
     "elapsed": 414297,
     "status": "ok",
     "timestamp": 1617276459509,
     "user": {
      "displayName": "Brian Kim",
      "photoUrl": "https://lh3.googleusercontent.com/a-/AOh14GheK6fjKCJnJKGaH7uYzy5meG555MjbR-ZMdGLarA=s64",
      "userId": "17231552563920409361"
     },
     "user_tz": 240
    },
    "id": "DSLL_u3wXpSy",
    "outputId": "9c4c03d2-79da-426b-dce2-426a0d25232d"
   },
   "outputs": [
    {
     "name": "stdout",
     "output_type": "stream",
     "text": [
      "              precision    recall  f1-score   support\n",
      "\n",
      "     LABEL_0       0.71      0.79      0.75       912\n",
      "     LABEL_2       0.36      0.27      0.31       389\n",
      "     LABEL_4       0.78      0.79      0.79       909\n",
      "\n",
      "    accuracy                           0.70      2210\n",
      "   macro avg       0.62      0.62      0.61      2210\n",
      "weighted avg       0.68      0.70      0.69      2210\n",
      "\n"
     ]
    },
    {
     "data": {
      "image/png": "[encoded data removed]",
      "text/plain": [
       "<Figure size 842.4x595.44 with 2 Axes>"
      ]
     },
     "metadata": {},
     "output_type": "display_data"
    }
   ],
   "source": [
    "prediction_test(stanza_test[\"label\"], stanza_test[\"label_predict\"])\n",
    "plt.savefig('../../N2FL NLP/output/03a_stanza_test.png')"
   ]
  },
  {
   "cell_type": "markdown",
   "metadata": {
    "id": "VEENVefKhB5N"
   },
   "source": [
    "### TextAttack Albert Model"
   ]
  },
  {
   "cell_type": "code",
   "execution_count": 31,
   "metadata": {
    "colab": {
     "base_uri": "https://localhost:8080/"
    },
    "executionInfo": {
     "elapsed": 479223,
     "status": "ok",
     "timestamp": 1617276524447,
     "user": {
      "displayName": "Brian Kim",
      "photoUrl": "https://lh3.googleusercontent.com/a-/AOh14GheK6fjKCJnJKGaH7uYzy5meG555MjbR-ZMdGLarA=s64",
      "userId": "17231552563920409361"
     },
     "user_tz": 240
    },
    "id": "M9vjzoOZhH_s",
    "outputId": "566c86a1-c2ff-4889-892b-d5005b53614c"
   },
   "outputs": [
    {
     "name": "stdout",
     "output_type": "stream",
     "text": [
      "--- 17.370097160339355 seconds ---\n"
     ]
    }
   ],
   "source": [
    "albert_test = get_sentiment(sst2_test, \"text\", \"albert\")"
   ]
  },
  {
   "cell_type": "code",
   "execution_count": 32,
   "metadata": {
    "colab": {
     "base_uri": "https://localhost:8080/"
    },
    "executionInfo": {
     "elapsed": 479216,
     "status": "ok",
     "timestamp": 1617276524449,
     "user": {
      "displayName": "Brian Kim",
      "photoUrl": "https://lh3.googleusercontent.com/a-/AOh14GheK6fjKCJnJKGaH7uYzy5meG555MjbR-ZMdGLarA=s64",
      "userId": "17231552563920409361"
     },
     "user_tz": 240
    },
    "id": "UAWC7TJRhP5K",
    "outputId": "df0f03db-27bb-4f0d-a407-7b02cee4356e"
   },
   "outputs": [
    {
     "data": {
      "text/html": [
       "<div>\n",
       "<style scoped>\n",
       "    .dataframe tbody tr th:only-of-type {\n",
       "        vertical-align: middle;\n",
       "    }\n",
       "\n",
       "    .dataframe tbody tr th {\n",
       "        vertical-align: top;\n",
       "    }\n",
       "\n",
       "    .dataframe thead th {\n",
       "        text-align: right;\n",
       "    }\n",
       "</style>\n",
       "<table border=\"1\" class=\"dataframe\">\n",
       "  <thead>\n",
       "    <tr style=\"text-align: right;\">\n",
       "      <th></th>\n",
       "      <th>text</th>\n",
       "      <th>label</th>\n",
       "      <th>LABEL_0</th>\n",
       "      <th>LABEL_4</th>\n",
       "      <th>label_predict</th>\n",
       "      <th>label_prob</th>\n",
       "    </tr>\n",
       "  </thead>\n",
       "  <tbody>\n",
       "    <tr>\n",
       "      <th>0</th>\n",
       "      <td>Maybe I found the proceedings a little bit too...</td>\n",
       "      <td>LABEL_0</td>\n",
       "      <td>0.994027</td>\n",
       "      <td>0.005973</td>\n",
       "      <td>LABEL_0</td>\n",
       "      <td>0.994027</td>\n",
       "    </tr>\n",
       "    <tr>\n",
       "      <th>1</th>\n",
       "      <td>As with too many studio pics , plot mechanics ...</td>\n",
       "      <td>LABEL_0</td>\n",
       "      <td>0.982890</td>\n",
       "      <td>0.017110</td>\n",
       "      <td>LABEL_0</td>\n",
       "      <td>0.982890</td>\n",
       "    </tr>\n",
       "    <tr>\n",
       "      <th>3</th>\n",
       "      <td>Cute , funny , heartwarming digitally animated...</td>\n",
       "      <td>LABEL_4</td>\n",
       "      <td>0.000394</td>\n",
       "      <td>0.999606</td>\n",
       "      <td>LABEL_4</td>\n",
       "      <td>0.999606</td>\n",
       "    </tr>\n",
       "    <tr>\n",
       "      <th>4</th>\n",
       "      <td>So what is the point ?</td>\n",
       "      <td>LABEL_0</td>\n",
       "      <td>0.908975</td>\n",
       "      <td>0.091025</td>\n",
       "      <td>LABEL_0</td>\n",
       "      <td>0.908975</td>\n",
       "    </tr>\n",
       "    <tr>\n",
       "      <th>5</th>\n",
       "      <td>While this film is not in the least surprising...</td>\n",
       "      <td>LABEL_4</td>\n",
       "      <td>0.004962</td>\n",
       "      <td>0.995039</td>\n",
       "      <td>LABEL_4</td>\n",
       "      <td>0.995039</td>\n",
       "    </tr>\n",
       "  </tbody>\n",
       "</table>\n",
       "</div>"
      ],
      "text/plain": [
       "                                                text    label   LABEL_0  \\\n",
       "0  Maybe I found the proceedings a little bit too...  LABEL_0  0.994027   \n",
       "1  As with too many studio pics , plot mechanics ...  LABEL_0  0.982890   \n",
       "3  Cute , funny , heartwarming digitally animated...  LABEL_4  0.000394   \n",
       "4                             So what is the point ?  LABEL_0  0.908975   \n",
       "5  While this film is not in the least surprising...  LABEL_4  0.004962   \n",
       "\n",
       "    LABEL_4 label_predict  label_prob  \n",
       "0  0.005973       LABEL_0    0.994027  \n",
       "1  0.017110       LABEL_0    0.982890  \n",
       "3  0.999606       LABEL_4    0.999606  \n",
       "4  0.091025       LABEL_0    0.908975  \n",
       "5  0.995039       LABEL_4    0.995039  "
      ]
     },
     "execution_count": 32,
     "metadata": {},
     "output_type": "execute_result"
    }
   ],
   "source": [
    "albert_test.head()"
   ]
  },
  {
   "cell_type": "code",
   "execution_count": 33,
   "metadata": {
    "colab": {
     "base_uri": "https://localhost:8080/"
    },
    "executionInfo": {
     "elapsed": 480500,
     "status": "ok",
     "timestamp": 1617276525745,
     "user": {
      "displayName": "Brian Kim",
      "photoUrl": "https://lh3.googleusercontent.com/a-/AOh14GheK6fjKCJnJKGaH7uYzy5meG555MjbR-ZMdGLarA=s64",
      "userId": "17231552563920409361"
     },
     "user_tz": 240
    },
    "id": "wECAKU-4hisd",
    "outputId": "a68e8a73-857a-4c3d-ac4a-a871b83a34d5"
   },
   "outputs": [
    {
     "name": "stdout",
     "output_type": "stream",
     "text": [
      "              precision    recall  f1-score   support\n",
      "\n",
      "     LABEL_0       0.91      0.93      0.92       912\n",
      "     LABEL_4       0.93      0.90      0.92       909\n",
      "\n",
      "    accuracy                           0.92      1821\n",
      "   macro avg       0.92      0.92      0.92      1821\n",
      "weighted avg       0.92      0.92      0.92      1821\n",
      "\n"
     ]
    },
    {
     "data": {
      "image/png": "[encoded data removed]",
      "text/plain": [
       "<Figure size 842.4x595.44 with 2 Axes>"
      ]
     },
     "metadata": {},
     "output_type": "display_data"
    }
   ],
   "source": [
    "prediction_test(albert_test[\"label\"], albert_test[\"label_predict\"])\n",
    "plt.savefig('../../N2FL NLP/output/03a_albert_test.png')"
   ]
  },
  {
   "cell_type": "markdown",
   "metadata": {
    "id": "ovtvQPDeQB0i"
   },
   "source": [
    "### TextAttack XLNet Model"
   ]
  },
  {
   "cell_type": "code",
   "execution_count": 34,
   "metadata": {
    "colab": {
     "base_uri": "https://localhost:8080/"
    },
    "executionInfo": {
     "elapsed": 553055,
     "status": "ok",
     "timestamp": 1617276598310,
     "user": {
      "displayName": "Brian Kim",
      "photoUrl": "https://lh3.googleusercontent.com/a-/AOh14GheK6fjKCJnJKGaH7uYzy5meG555MjbR-ZMdGLarA=s64",
      "userId": "17231552563920409361"
     },
     "user_tz": 240
    },
    "id": "vY4YHuiWQO3N",
    "outputId": "8468ed1b-0edb-4383-94e5-36f7755771df"
   },
   "outputs": [
    {
     "name": "stdout",
     "output_type": "stream",
     "text": [
      "--- 26.991369009017944 seconds ---\n"
     ]
    }
   ],
   "source": [
    "xlnet_test = get_sentiment(sst2_test, \"text\", \"xlnet\")"
   ]
  },
  {
   "cell_type": "code",
   "execution_count": 35,
   "metadata": {
    "colab": {
     "base_uri": "https://localhost:8080/"
    },
    "executionInfo": {
     "elapsed": 553047,
     "status": "ok",
     "timestamp": 1617276598312,
     "user": {
      "displayName": "Brian Kim",
      "photoUrl": "https://lh3.googleusercontent.com/a-/AOh14GheK6fjKCJnJKGaH7uYzy5meG555MjbR-ZMdGLarA=s64",
      "userId": "17231552563920409361"
     },
     "user_tz": 240
    },
    "id": "HpsU-zk_QR1T",
    "outputId": "3d2f5073-7ae7-4c20-aa8f-92dc50be274a"
   },
   "outputs": [
    {
     "data": {
      "text/html": [
       "<div>\n",
       "<style scoped>\n",
       "    .dataframe tbody tr th:only-of-type {\n",
       "        vertical-align: middle;\n",
       "    }\n",
       "\n",
       "    .dataframe tbody tr th {\n",
       "        vertical-align: top;\n",
       "    }\n",
       "\n",
       "    .dataframe thead th {\n",
       "        text-align: right;\n",
       "    }\n",
       "</style>\n",
       "<table border=\"1\" class=\"dataframe\">\n",
       "  <thead>\n",
       "    <tr style=\"text-align: right;\">\n",
       "      <th></th>\n",
       "      <th>text</th>\n",
       "      <th>label</th>\n",
       "      <th>LABEL_0</th>\n",
       "      <th>LABEL_4</th>\n",
       "      <th>label_predict</th>\n",
       "      <th>label_prob</th>\n",
       "    </tr>\n",
       "  </thead>\n",
       "  <tbody>\n",
       "    <tr>\n",
       "      <th>0</th>\n",
       "      <td>Maybe I found the proceedings a little bit too...</td>\n",
       "      <td>LABEL_0</td>\n",
       "      <td>0.999385</td>\n",
       "      <td>0.000615</td>\n",
       "      <td>LABEL_0</td>\n",
       "      <td>0.999385</td>\n",
       "    </tr>\n",
       "    <tr>\n",
       "      <th>1</th>\n",
       "      <td>As with too many studio pics , plot mechanics ...</td>\n",
       "      <td>LABEL_0</td>\n",
       "      <td>0.995378</td>\n",
       "      <td>0.004622</td>\n",
       "      <td>LABEL_0</td>\n",
       "      <td>0.995378</td>\n",
       "    </tr>\n",
       "    <tr>\n",
       "      <th>3</th>\n",
       "      <td>Cute , funny , heartwarming digitally animated...</td>\n",
       "      <td>LABEL_4</td>\n",
       "      <td>0.000146</td>\n",
       "      <td>0.999854</td>\n",
       "      <td>LABEL_4</td>\n",
       "      <td>0.999854</td>\n",
       "    </tr>\n",
       "    <tr>\n",
       "      <th>4</th>\n",
       "      <td>So what is the point ?</td>\n",
       "      <td>LABEL_0</td>\n",
       "      <td>0.998688</td>\n",
       "      <td>0.001312</td>\n",
       "      <td>LABEL_0</td>\n",
       "      <td>0.998688</td>\n",
       "    </tr>\n",
       "    <tr>\n",
       "      <th>5</th>\n",
       "      <td>While this film is not in the least surprising...</td>\n",
       "      <td>LABEL_4</td>\n",
       "      <td>0.000351</td>\n",
       "      <td>0.999649</td>\n",
       "      <td>LABEL_4</td>\n",
       "      <td>0.999649</td>\n",
       "    </tr>\n",
       "  </tbody>\n",
       "</table>\n",
       "</div>"
      ],
      "text/plain": [
       "                                                text    label   LABEL_0  \\\n",
       "0  Maybe I found the proceedings a little bit too...  LABEL_0  0.999385   \n",
       "1  As with too many studio pics , plot mechanics ...  LABEL_0  0.995378   \n",
       "3  Cute , funny , heartwarming digitally animated...  LABEL_4  0.000146   \n",
       "4                             So what is the point ?  LABEL_0  0.998688   \n",
       "5  While this film is not in the least surprising...  LABEL_4  0.000351   \n",
       "\n",
       "    LABEL_4 label_predict  label_prob  \n",
       "0  0.000615       LABEL_0    0.999385  \n",
       "1  0.004622       LABEL_0    0.995378  \n",
       "3  0.999854       LABEL_4    0.999854  \n",
       "4  0.001312       LABEL_0    0.998688  \n",
       "5  0.999649       LABEL_4    0.999649  "
      ]
     },
     "execution_count": 35,
     "metadata": {},
     "output_type": "execute_result"
    }
   ],
   "source": [
    "xlnet_test.head()"
   ]
  },
  {
   "cell_type": "code",
   "execution_count": 36,
   "metadata": {
    "colab": {
     "base_uri": "https://localhost:8080/"
    },
    "executionInfo": {
     "elapsed": 554421,
     "status": "ok",
     "timestamp": 1617276599697,
     "user": {
      "displayName": "Brian Kim",
      "photoUrl": "https://lh3.googleusercontent.com/a-/AOh14GheK6fjKCJnJKGaH7uYzy5meG555MjbR-ZMdGLarA=s64",
      "userId": "17231552563920409361"
     },
     "user_tz": 240
    },
    "id": "Zug0g17QQTA3",
    "outputId": "b0e0ccc6-9202-4da9-88e6-26087c665578"
   },
   "outputs": [
    {
     "name": "stdout",
     "output_type": "stream",
     "text": [
      "              precision    recall  f1-score   support\n",
      "\n",
      "     LABEL_0       0.96      0.92      0.94       912\n",
      "     LABEL_4       0.92      0.96      0.94       909\n",
      "\n",
      "    accuracy                           0.94      1821\n",
      "   macro avg       0.94      0.94      0.94      1821\n",
      "weighted avg       0.94      0.94      0.94      1821\n",
      "\n"
     ]
    },
    {
     "data": {
      "image/png": "[encoded data removed]",
      "text/plain": [
       "<Figure size 842.4x595.44 with 2 Axes>"
      ]
     },
     "metadata": {},
     "output_type": "display_data"
    }
   ],
   "source": [
    "prediction_test(xlnet_test[\"label\"], xlnet_test[\"label_predict\"])\n",
    "plt.savefig('../../N2FL NLP/output/03a_xlnet_test.png')"
   ]
  },
  {
   "cell_type": "markdown",
   "metadata": {
    "id": "jaAUXnHEackP"
   },
   "source": [
    "### Multilingual Bert"
   ]
  },
  {
   "cell_type": "code",
   "execution_count": 37,
   "metadata": {
    "colab": {
     "base_uri": "https://localhost:8080/"
    },
    "executionInfo": {
     "elapsed": 620403,
     "status": "ok",
     "timestamp": 1617276665689,
     "user": {
      "displayName": "Brian Kim",
      "photoUrl": "https://lh3.googleusercontent.com/a-/AOh14GheK6fjKCJnJKGaH7uYzy5meG555MjbR-ZMdGLarA=s64",
      "userId": "17231552563920409361"
     },
     "user_tz": 240
    },
    "id": "0QXtO5KvaZZZ",
    "outputId": "8720edf8-a698-47c1-ef90-ace18fcd0703"
   },
   "outputs": [
    {
     "name": "stdout",
     "output_type": "stream",
     "text": [
      "--- 18.359389305114746 seconds ---\n"
     ]
    }
   ],
   "source": [
    "bert_test = get_sentiment(sst5_test, \"text\", \"bert\")"
   ]
  },
  {
   "cell_type": "code",
   "execution_count": 38,
   "metadata": {
    "colab": {
     "base_uri": "https://localhost:8080/"
    },
    "executionInfo": {
     "elapsed": 620396,
     "status": "ok",
     "timestamp": 1617276665691,
     "user": {
      "displayName": "Brian Kim",
      "photoUrl": "https://lh3.googleusercontent.com/a-/AOh14GheK6fjKCJnJKGaH7uYzy5meG555MjbR-ZMdGLarA=s64",
      "userId": "17231552563920409361"
     },
     "user_tz": 240
    },
    "id": "boSNPvHhaZlJ",
    "outputId": "3aaeb19f-3537-4c1d-f9a8-33c1388324a4"
   },
   "outputs": [
    {
     "data": {
      "text/html": [
       "<div>\n",
       "<style scoped>\n",
       "    .dataframe tbody tr th:only-of-type {\n",
       "        vertical-align: middle;\n",
       "    }\n",
       "\n",
       "    .dataframe tbody tr th {\n",
       "        vertical-align: top;\n",
       "    }\n",
       "\n",
       "    .dataframe thead th {\n",
       "        text-align: right;\n",
       "    }\n",
       "</style>\n",
       "<table border=\"1\" class=\"dataframe\">\n",
       "  <thead>\n",
       "    <tr style=\"text-align: right;\">\n",
       "      <th></th>\n",
       "      <th>text</th>\n",
       "      <th>label</th>\n",
       "      <th>LABEL_0</th>\n",
       "      <th>LABEL_1</th>\n",
       "      <th>LABEL_2</th>\n",
       "      <th>LABEL_3</th>\n",
       "      <th>LABEL_4</th>\n",
       "      <th>label_predict</th>\n",
       "      <th>label_prob</th>\n",
       "    </tr>\n",
       "  </thead>\n",
       "  <tbody>\n",
       "    <tr>\n",
       "      <th>0</th>\n",
       "      <td>Maybe I found the proceedings a little bit too...</td>\n",
       "      <td>LABEL_1</td>\n",
       "      <td>0.018266</td>\n",
       "      <td>0.199258</td>\n",
       "      <td>0.692711</td>\n",
       "      <td>0.084829</td>\n",
       "      <td>0.004935</td>\n",
       "      <td>LABEL_2</td>\n",
       "      <td>0.692711</td>\n",
       "    </tr>\n",
       "    <tr>\n",
       "      <th>1</th>\n",
       "      <td>As with too many studio pics , plot mechanics ...</td>\n",
       "      <td>LABEL_0</td>\n",
       "      <td>0.019846</td>\n",
       "      <td>0.148343</td>\n",
       "      <td>0.468962</td>\n",
       "      <td>0.290217</td>\n",
       "      <td>0.072632</td>\n",
       "      <td>LABEL_2</td>\n",
       "      <td>0.468962</td>\n",
       "    </tr>\n",
       "    <tr>\n",
       "      <th>2</th>\n",
       "      <td>Beers , who , when she 's given the right line...</td>\n",
       "      <td>LABEL_2</td>\n",
       "      <td>0.089036</td>\n",
       "      <td>0.364925</td>\n",
       "      <td>0.450885</td>\n",
       "      <td>0.087195</td>\n",
       "      <td>0.007959</td>\n",
       "      <td>LABEL_2</td>\n",
       "      <td>0.450885</td>\n",
       "    </tr>\n",
       "    <tr>\n",
       "      <th>3</th>\n",
       "      <td>Cute , funny , heartwarming digitally animated...</td>\n",
       "      <td>LABEL_4</td>\n",
       "      <td>0.002127</td>\n",
       "      <td>0.005679</td>\n",
       "      <td>0.078588</td>\n",
       "      <td>0.591100</td>\n",
       "      <td>0.322506</td>\n",
       "      <td>LABEL_3</td>\n",
       "      <td>0.591100</td>\n",
       "    </tr>\n",
       "    <tr>\n",
       "      <th>4</th>\n",
       "      <td>So what is the point ?</td>\n",
       "      <td>LABEL_0</td>\n",
       "      <td>0.187678</td>\n",
       "      <td>0.259849</td>\n",
       "      <td>0.380600</td>\n",
       "      <td>0.120298</td>\n",
       "      <td>0.051575</td>\n",
       "      <td>LABEL_2</td>\n",
       "      <td>0.380600</td>\n",
       "    </tr>\n",
       "  </tbody>\n",
       "</table>\n",
       "</div>"
      ],
      "text/plain": [
       "                                                text    label   LABEL_0  \\\n",
       "0  Maybe I found the proceedings a little bit too...  LABEL_1  0.018266   \n",
       "1  As with too many studio pics , plot mechanics ...  LABEL_0  0.019846   \n",
       "2  Beers , who , when she 's given the right line...  LABEL_2  0.089036   \n",
       "3  Cute , funny , heartwarming digitally animated...  LABEL_4  0.002127   \n",
       "4                             So what is the point ?  LABEL_0  0.187678   \n",
       "\n",
       "    LABEL_1   LABEL_2   LABEL_3   LABEL_4 label_predict  label_prob  \n",
       "0  0.199258  0.692711  0.084829  0.004935       LABEL_2    0.692711  \n",
       "1  0.148343  0.468962  0.290217  0.072632       LABEL_2    0.468962  \n",
       "2  0.364925  0.450885  0.087195  0.007959       LABEL_2    0.450885  \n",
       "3  0.005679  0.078588  0.591100  0.322506       LABEL_3    0.591100  \n",
       "4  0.259849  0.380600  0.120298  0.051575       LABEL_2    0.380600  "
      ]
     },
     "execution_count": 38,
     "metadata": {},
     "output_type": "execute_result"
    }
   ],
   "source": [
    "bert_test.head()"
   ]
  },
  {
   "cell_type": "code",
   "execution_count": 39,
   "metadata": {
    "colab": {
     "base_uri": "https://localhost:8080/"
    },
    "executionInfo": {
     "elapsed": 621691,
     "status": "ok",
     "timestamp": 1617276666997,
     "user": {
      "displayName": "Brian Kim",
      "photoUrl": "https://lh3.googleusercontent.com/a-/AOh14GheK6fjKCJnJKGaH7uYzy5meG555MjbR-ZMdGLarA=s64",
      "userId": "17231552563920409361"
     },
     "user_tz": 240
    },
    "id": "Lvr_lEqxaZsV",
    "outputId": "4d96f4ac-a1cb-410f-c276-0ad44dfcb90e"
   },
   "outputs": [
    {
     "name": "stdout",
     "output_type": "stream",
     "text": [
      "              precision    recall  f1-score   support\n",
      "\n",
      "     LABEL_0       0.39      0.40      0.39       279\n",
      "     LABEL_1       0.57      0.38      0.45       633\n",
      "     LABEL_2       0.28      0.37      0.32       389\n",
      "     LABEL_3       0.44      0.45      0.44       510\n",
      "     LABEL_4       0.45      0.54      0.49       399\n",
      "\n",
      "    accuracy                           0.42      2210\n",
      "   macro avg       0.43      0.43      0.42      2210\n",
      "weighted avg       0.45      0.42      0.43      2210\n",
      "\n"
     ]
    },
    {
     "data": {
      "image/png": "[encoded data removed]",
      "text/plain": [
       "<Figure size 842.4x595.44 with 2 Axes>"
      ]
     },
     "metadata": {},
     "output_type": "display_data"
    }
   ],
   "source": [
    "prediction_test(bert_test[\"label\"], bert_test[\"label_predict\"])\n",
    "plt.savefig('../../N2FL NLP/output/03a_bert_test.png')"
   ]
  },
  {
   "cell_type": "markdown",
   "metadata": {
    "id": "pWYlGqcHainw"
   },
   "source": [
    "### Twitter Roberta"
   ]
  },
  {
   "cell_type": "code",
   "execution_count": 40,
   "metadata": {
    "colab": {
     "base_uri": "https://localhost:8080/"
    },
    "executionInfo": {
     "elapsed": 688410,
     "status": "ok",
     "timestamp": 1617276733726,
     "user": {
      "displayName": "Brian Kim",
      "photoUrl": "https://lh3.googleusercontent.com/a-/AOh14GheK6fjKCJnJKGaH7uYzy5meG555MjbR-ZMdGLarA=s64",
      "userId": "17231552563920409361"
     },
     "user_tz": 240
    },
    "id": "gh_togIkapTK",
    "outputId": "7b7517b2-de9e-423f-bde9-752dd094e950"
   },
   "outputs": [
    {
     "name": "stdout",
     "output_type": "stream",
     "text": [
      "--- 18.674803018569946 seconds ---\n"
     ]
    }
   ],
   "source": [
    "twit_test = get_sentiment(sst3_test, \"text\", \"twit\")"
   ]
  },
  {
   "cell_type": "code",
   "execution_count": 41,
   "metadata": {
    "colab": {
     "base_uri": "https://localhost:8080/"
    },
    "executionInfo": {
     "elapsed": 688403,
     "status": "ok",
     "timestamp": 1617276733728,
     "user": {
      "displayName": "Brian Kim",
      "photoUrl": "https://lh3.googleusercontent.com/a-/AOh14GheK6fjKCJnJKGaH7uYzy5meG555MjbR-ZMdGLarA=s64",
      "userId": "17231552563920409361"
     },
     "user_tz": 240
    },
    "id": "sikQioWkapal",
    "outputId": "b56ae2f3-d953-4a67-e22e-2a9743279f84"
   },
   "outputs": [
    {
     "data": {
      "text/html": [
       "<div>\n",
       "<style scoped>\n",
       "    .dataframe tbody tr th:only-of-type {\n",
       "        vertical-align: middle;\n",
       "    }\n",
       "\n",
       "    .dataframe tbody tr th {\n",
       "        vertical-align: top;\n",
       "    }\n",
       "\n",
       "    .dataframe thead th {\n",
       "        text-align: right;\n",
       "    }\n",
       "</style>\n",
       "<table border=\"1\" class=\"dataframe\">\n",
       "  <thead>\n",
       "    <tr style=\"text-align: right;\">\n",
       "      <th></th>\n",
       "      <th>text</th>\n",
       "      <th>label</th>\n",
       "      <th>LABEL_0</th>\n",
       "      <th>LABEL_2</th>\n",
       "      <th>LABEL_4</th>\n",
       "      <th>label_predict</th>\n",
       "      <th>label_prob</th>\n",
       "    </tr>\n",
       "  </thead>\n",
       "  <tbody>\n",
       "    <tr>\n",
       "      <th>0</th>\n",
       "      <td>Maybe I found the proceedings a little bit too...</td>\n",
       "      <td>LABEL_0</td>\n",
       "      <td>0.616782</td>\n",
       "      <td>0.363378</td>\n",
       "      <td>0.019840</td>\n",
       "      <td>LABEL_0</td>\n",
       "      <td>0.616782</td>\n",
       "    </tr>\n",
       "    <tr>\n",
       "      <th>1</th>\n",
       "      <td>As with too many studio pics , plot mechanics ...</td>\n",
       "      <td>LABEL_0</td>\n",
       "      <td>0.615623</td>\n",
       "      <td>0.349694</td>\n",
       "      <td>0.034683</td>\n",
       "      <td>LABEL_0</td>\n",
       "      <td>0.615623</td>\n",
       "    </tr>\n",
       "    <tr>\n",
       "      <th>2</th>\n",
       "      <td>Beers , who , when she 's given the right line...</td>\n",
       "      <td>LABEL_2</td>\n",
       "      <td>0.588146</td>\n",
       "      <td>0.376454</td>\n",
       "      <td>0.035400</td>\n",
       "      <td>LABEL_0</td>\n",
       "      <td>0.588146</td>\n",
       "    </tr>\n",
       "    <tr>\n",
       "      <th>3</th>\n",
       "      <td>Cute , funny , heartwarming digitally animated...</td>\n",
       "      <td>LABEL_4</td>\n",
       "      <td>0.001602</td>\n",
       "      <td>0.024440</td>\n",
       "      <td>0.973958</td>\n",
       "      <td>LABEL_4</td>\n",
       "      <td>0.973958</td>\n",
       "    </tr>\n",
       "    <tr>\n",
       "      <th>4</th>\n",
       "      <td>So what is the point ?</td>\n",
       "      <td>LABEL_0</td>\n",
       "      <td>0.222961</td>\n",
       "      <td>0.730845</td>\n",
       "      <td>0.046194</td>\n",
       "      <td>LABEL_2</td>\n",
       "      <td>0.730845</td>\n",
       "    </tr>\n",
       "  </tbody>\n",
       "</table>\n",
       "</div>"
      ],
      "text/plain": [
       "                                                text    label   LABEL_0  \\\n",
       "0  Maybe I found the proceedings a little bit too...  LABEL_0  0.616782   \n",
       "1  As with too many studio pics , plot mechanics ...  LABEL_0  0.615623   \n",
       "2  Beers , who , when she 's given the right line...  LABEL_2  0.588146   \n",
       "3  Cute , funny , heartwarming digitally animated...  LABEL_4  0.001602   \n",
       "4                             So what is the point ?  LABEL_0  0.222961   \n",
       "\n",
       "    LABEL_2   LABEL_4 label_predict  label_prob  \n",
       "0  0.363378  0.019840       LABEL_0    0.616782  \n",
       "1  0.349694  0.034683       LABEL_0    0.615623  \n",
       "2  0.376454  0.035400       LABEL_0    0.588146  \n",
       "3  0.024440  0.973958       LABEL_4    0.973958  \n",
       "4  0.730845  0.046194       LABEL_2    0.730845  "
      ]
     },
     "execution_count": 41,
     "metadata": {},
     "output_type": "execute_result"
    }
   ],
   "source": [
    "twit_test.head()"
   ]
  },
  {
   "cell_type": "code",
   "execution_count": 42,
   "metadata": {
    "colab": {
     "base_uri": "https://localhost:8080/"
    },
    "executionInfo": {
     "elapsed": 689435,
     "status": "ok",
     "timestamp": 1617276734770,
     "user": {
      "displayName": "Brian Kim",
      "photoUrl": "https://lh3.googleusercontent.com/a-/AOh14GheK6fjKCJnJKGaH7uYzy5meG555MjbR-ZMdGLarA=s64",
      "userId": "17231552563920409361"
     },
     "user_tz": 240
    },
    "id": "SyxRYiZXapgr",
    "outputId": "b3c25dd7-0b95-400d-9d45-cce9a5a6fdc9"
   },
   "outputs": [
    {
     "name": "stdout",
     "output_type": "stream",
     "text": [
      "              precision    recall  f1-score   support\n",
      "\n",
      "     LABEL_0       0.80      0.66      0.72       912\n",
      "     LABEL_2       0.29      0.55      0.38       389\n",
      "     LABEL_4       0.85      0.67      0.75       909\n",
      "\n",
      "    accuracy                           0.65      2210\n",
      "   macro avg       0.65      0.63      0.62      2210\n",
      "weighted avg       0.73      0.65      0.67      2210\n",
      "\n"
     ]
    },
    {
     "data": {
      "image/png": "[encoded data removed]",
      "text/plain": [
       "<Figure size 842.4x595.44 with 2 Axes>"
      ]
     },
     "metadata": {},
     "output_type": "display_data"
    }
   ],
   "source": [
    "prediction_test(twit_test[\"label\"], twit_test[\"label_predict\"])\n",
    "plt.savefig('../../N2FL NLP/output/03a_twit_test.png')"
   ]
  },
  {
   "cell_type": "markdown",
   "metadata": {
    "id": "DaxCOrdiakbR"
   },
   "source": [
    "### T5 IMDB"
   ]
  },
  {
   "cell_type": "code",
   "execution_count": 43,
   "metadata": {
    "colab": {
     "base_uri": "https://localhost:8080/"
    },
    "executionInfo": {
     "elapsed": 795759,
     "status": "ok",
     "timestamp": 1617276841107,
     "user": {
      "displayName": "Brian Kim",
      "photoUrl": "https://lh3.googleusercontent.com/a-/AOh14GheK6fjKCJnJKGaH7uYzy5meG555MjbR-ZMdGLarA=s64",
      "userId": "17231552563920409361"
     },
     "user_tz": 240
    },
    "id": "HekZLtWNaZzh",
    "outputId": "84a152ef-1cf6-46ad-dbab-8a0a1ee8c070"
   },
   "outputs": [
    {
     "name": "stdout",
     "output_type": "stream",
     "text": [
      "--- 54.483091831207275 seconds ---\n"
     ]
    }
   ],
   "source": [
    "imdb_test = get_sentiment(sst2_test, \"text\", \"imdb\")"
   ]
  },
  {
   "cell_type": "code",
   "execution_count": 44,
   "metadata": {
    "colab": {
     "base_uri": "https://localhost:8080/"
    },
    "executionInfo": {
     "elapsed": 795751,
     "status": "ok",
     "timestamp": 1617276841108,
     "user": {
      "displayName": "Brian Kim",
      "photoUrl": "https://lh3.googleusercontent.com/a-/AOh14GheK6fjKCJnJKGaH7uYzy5meG555MjbR-ZMdGLarA=s64",
      "userId": "17231552563920409361"
     },
     "user_tz": 240
    },
    "id": "RqBsbF0eaZ5W",
    "outputId": "8bd0f571-b7bd-4e9c-e1d1-5875c78bc405"
   },
   "outputs": [
    {
     "data": {
      "text/html": [
       "<div>\n",
       "<style scoped>\n",
       "    .dataframe tbody tr th:only-of-type {\n",
       "        vertical-align: middle;\n",
       "    }\n",
       "\n",
       "    .dataframe tbody tr th {\n",
       "        vertical-align: top;\n",
       "    }\n",
       "\n",
       "    .dataframe thead th {\n",
       "        text-align: right;\n",
       "    }\n",
       "</style>\n",
       "<table border=\"1\" class=\"dataframe\">\n",
       "  <thead>\n",
       "    <tr style=\"text-align: right;\">\n",
       "      <th></th>\n",
       "      <th>text</th>\n",
       "      <th>label</th>\n",
       "      <th>label_predict</th>\n",
       "    </tr>\n",
       "  </thead>\n",
       "  <tbody>\n",
       "    <tr>\n",
       "      <th>0</th>\n",
       "      <td>Maybe I found the proceedings a little bit too...</td>\n",
       "      <td>LABEL_0</td>\n",
       "      <td>LABEL_0</td>\n",
       "    </tr>\n",
       "    <tr>\n",
       "      <th>1</th>\n",
       "      <td>As with too many studio pics , plot mechanics ...</td>\n",
       "      <td>LABEL_0</td>\n",
       "      <td>LABEL_0</td>\n",
       "    </tr>\n",
       "    <tr>\n",
       "      <th>3</th>\n",
       "      <td>Cute , funny , heartwarming digitally animated...</td>\n",
       "      <td>LABEL_4</td>\n",
       "      <td>LABEL_4</td>\n",
       "    </tr>\n",
       "    <tr>\n",
       "      <th>4</th>\n",
       "      <td>So what is the point ?</td>\n",
       "      <td>LABEL_0</td>\n",
       "      <td>LABEL_0</td>\n",
       "    </tr>\n",
       "    <tr>\n",
       "      <th>5</th>\n",
       "      <td>While this film is not in the least surprising...</td>\n",
       "      <td>LABEL_4</td>\n",
       "      <td>LABEL_4</td>\n",
       "    </tr>\n",
       "  </tbody>\n",
       "</table>\n",
       "</div>"
      ],
      "text/plain": [
       "                                                text    label label_predict\n",
       "0  Maybe I found the proceedings a little bit too...  LABEL_0       LABEL_0\n",
       "1  As with too many studio pics , plot mechanics ...  LABEL_0       LABEL_0\n",
       "3  Cute , funny , heartwarming digitally animated...  LABEL_4       LABEL_4\n",
       "4                             So what is the point ?  LABEL_0       LABEL_0\n",
       "5  While this film is not in the least surprising...  LABEL_4       LABEL_4"
      ]
     },
     "execution_count": 44,
     "metadata": {},
     "output_type": "execute_result"
    }
   ],
   "source": [
    "imdb_test.head()"
   ]
  },
  {
   "cell_type": "code",
   "execution_count": 45,
   "metadata": {
    "colab": {
     "base_uri": "https://localhost:8080/"
    },
    "executionInfo": {
     "elapsed": 795741,
     "status": "ok",
     "timestamp": 1617276841109,
     "user": {
      "displayName": "Brian Kim",
      "photoUrl": "https://lh3.googleusercontent.com/a-/AOh14GheK6fjKCJnJKGaH7uYzy5meG555MjbR-ZMdGLarA=s64",
      "userId": "17231552563920409361"
     },
     "user_tz": 240
    },
    "id": "VGx_n57m75JU",
    "outputId": "6248a6a1-4178-4e4a-f335-95e9cd891702"
   },
   "outputs": [
    {
     "data": {
      "text/html": [
       "<div>\n",
       "<style scoped>\n",
       "    .dataframe tbody tr th:only-of-type {\n",
       "        vertical-align: middle;\n",
       "    }\n",
       "\n",
       "    .dataframe tbody tr th {\n",
       "        vertical-align: top;\n",
       "    }\n",
       "\n",
       "    .dataframe thead th {\n",
       "        text-align: right;\n",
       "    }\n",
       "</style>\n",
       "<table border=\"1\" class=\"dataframe\">\n",
       "  <thead>\n",
       "    <tr style=\"text-align: right;\">\n",
       "      <th></th>\n",
       "      <th>text</th>\n",
       "      <th>label</th>\n",
       "      <th>label_predict</th>\n",
       "    </tr>\n",
       "  </thead>\n",
       "  <tbody>\n",
       "    <tr>\n",
       "      <th>43</th>\n",
       "      <td>No. .</td>\n",
       "      <td>LABEL_0</td>\n",
       "      <td>LABEL_2</td>\n",
       "    </tr>\n",
       "  </tbody>\n",
       "</table>\n",
       "</div>"
      ],
      "text/plain": [
       "     text    label label_predict\n",
       "43  No. .  LABEL_0       LABEL_2"
      ]
     },
     "execution_count": 45,
     "metadata": {},
     "output_type": "execute_result"
    }
   ],
   "source": [
    "imdb_test[imdb_test[\"label_predict\"]==\"LABEL_2\"]"
   ]
  },
  {
   "cell_type": "code",
   "execution_count": 46,
   "metadata": {
    "colab": {
     "base_uri": "https://localhost:8080/"
    },
    "executionInfo": {
     "elapsed": 797006,
     "status": "ok",
     "timestamp": 1617276842385,
     "user": {
      "displayName": "Brian Kim",
      "photoUrl": "https://lh3.googleusercontent.com/a-/AOh14GheK6fjKCJnJKGaH7uYzy5meG555MjbR-ZMdGLarA=s64",
      "userId": "17231552563920409361"
     },
     "user_tz": 240
    },
    "id": "FwigM4V3aZ_N",
    "outputId": "c972dad2-7919-4023-e505-6024805e2df2"
   },
   "outputs": [
    {
     "name": "stdout",
     "output_type": "stream",
     "text": [
      "              precision    recall  f1-score   support\n",
      "\n",
      "     LABEL_0       0.96      0.85      0.90       912\n",
      "     LABEL_2       0.00      0.00      0.00         0\n",
      "     LABEL_4       0.86      0.96      0.91       909\n",
      "\n",
      "    accuracy                           0.90      1821\n",
      "   macro avg       0.61      0.60      0.60      1821\n",
      "weighted avg       0.91      0.90      0.90      1821\n",
      "\n"
     ]
    },
    {
     "name": "stderr",
     "output_type": "stream",
     "text": [
      "C:\\Users\\brhki\\Anaconda3\\lib\\site-packages\\sklearn\\metrics\\_classification.py:1245: UndefinedMetricWarning: Recall and F-score are ill-defined and being set to 0.0 in labels with no true samples. Use `zero_division` parameter to control this behavior.\n",
      "  _warn_prf(average, modifier, msg_start, len(result))\n",
      "C:\\Users\\brhki\\Anaconda3\\lib\\site-packages\\sklearn\\metrics\\_classification.py:1245: UndefinedMetricWarning: Recall and F-score are ill-defined and being set to 0.0 in labels with no true samples. Use `zero_division` parameter to control this behavior.\n",
      "  _warn_prf(average, modifier, msg_start, len(result))\n",
      "C:\\Users\\brhki\\Anaconda3\\lib\\site-packages\\sklearn\\metrics\\_classification.py:1245: UndefinedMetricWarning: Recall and F-score are ill-defined and being set to 0.0 in labels with no true samples. Use `zero_division` parameter to control this behavior.\n",
      "  _warn_prf(average, modifier, msg_start, len(result))\n"
     ]
    },
    {
     "data": {
      "image/png": "[encoded data removed]",
      "text/plain": [
       "<Figure size 842.4x595.44 with 2 Axes>"
      ]
     },
     "metadata": {},
     "output_type": "display_data"
    }
   ],
   "source": [
    "prediction_test(imdb_test[\"label\"], imdb_test[\"label_predict\"])\n",
    "plt.savefig('../../N2FL NLP/output/03a_imdb_test.png')"
   ]
  },
  {
   "cell_type": "markdown",
   "metadata": {
    "id": "Ga0uqquFqjhm"
   },
   "source": [
    "# Create datasets for training the ensemble classifier"
   ]
  },
  {
   "cell_type": "markdown",
   "metadata": {
    "id": "A29cBQ85z0z5"
   },
   "source": [
    "### Create training data"
   ]
  },
  {
   "cell_type": "code",
   "execution_count": 47,
   "metadata": {
    "colab": {
     "base_uri": "https://localhost:8080/"
    },
    "executionInfo": {
     "elapsed": 1051805,
     "status": "ok",
     "timestamp": 1617277097195,
     "user": {
      "displayName": "Brian Kim",
      "photoUrl": "https://lh3.googleusercontent.com/a-/AOh14GheK6fjKCJnJKGaH7uYzy5meG555MjbR-ZMdGLarA=s64",
      "userId": "17231552563920409361"
     },
     "user_tz": 240
    },
    "id": "D8s4cREfnWnC",
    "outputId": "56cc5793-7409-4aa7-92f3-be873c51c90f"
   },
   "outputs": [
    {
     "name": "stdout",
     "output_type": "stream",
     "text": [
      "--- 72.19711542129517 seconds ---\n"
     ]
    }
   ],
   "source": [
    "yelp_train = get_sentiment(sst5_train, \"text\", \"yelp\").drop(columns=[\"text\", \"label\"]).add_suffix(\"_yelp\")"
   ]
  },
  {
   "cell_type": "code",
   "execution_count": 49,
   "metadata": {
    "colab": {
     "base_uri": "https://localhost:8080/"
    },
    "executionInfo": {
     "elapsed": 1685972,
     "status": "ok",
     "timestamp": 1617277731378,
     "user": {
      "displayName": "Brian Kim",
      "photoUrl": "https://lh3.googleusercontent.com/a-/AOh14GheK6fjKCJnJKGaH7uYzy5meG555MjbR-ZMdGLarA=s64",
      "userId": "17231552563920409361"
     },
     "user_tz": 240
    },
    "id": "6Jh5YDd3ndDf",
    "outputId": "e413b105-8042-4c69-fef0-a44e4041e48f"
   },
   "outputs": [
    {
     "name": "stdout",
     "output_type": "stream",
     "text": [
      "--- 126.10802626609802 seconds ---\n"
     ]
    }
   ],
   "source": [
    "xlnet_train = get_sentiment(sst5_train, \"text\", \"xlnet\").drop(columns=[\"text\", \"label\"]).add_suffix(\"_xlnet\")"
   ]
  },
  {
   "cell_type": "code",
   "execution_count": 48,
   "metadata": {
    "colab": {
     "base_uri": "https://localhost:8080/"
    },
    "executionInfo": {
     "elapsed": 1352077,
     "status": "ok",
     "timestamp": 1617277397475,
     "user": {
      "displayName": "Brian Kim",
      "photoUrl": "https://lh3.googleusercontent.com/a-/AOh14GheK6fjKCJnJKGaH7uYzy5meG555MjbR-ZMdGLarA=s64",
      "userId": "17231552563920409361"
     },
     "user_tz": 240
    },
    "id": "nr2IYLrlnc9S",
    "outputId": "2904b110-a1a5-4abd-cb93-0e3d87818ce2"
   },
   "outputs": [
    {
     "name": "stdout",
     "output_type": "stream",
     "text": [
      "--- 81.2988178730011 seconds ---\n"
     ]
    }
   ],
   "source": [
    "albert_train = get_sentiment(sst5_train, \"text\", \"albert\").drop(columns=[\"text\", \"label\"]).add_suffix(\"_albert\")"
   ]
  },
  {
   "cell_type": "code",
   "execution_count": 50,
   "metadata": {
    "colab": {
     "base_uri": "https://localhost:8080/"
    },
    "executionInfo": {
     "elapsed": 1806104,
     "status": "ok",
     "timestamp": 1617277851518,
     "user": {
      "displayName": "Brian Kim",
      "photoUrl": "https://lh3.googleusercontent.com/a-/AOh14GheK6fjKCJnJKGaH7uYzy5meG555MjbR-ZMdGLarA=s64",
      "userId": "17231552563920409361"
     },
     "user_tz": 240
    },
    "id": "ynnl7uO2ndLc",
    "outputId": "63162135-74b4-4c2c-b249-2cf1cbd152f8"
   },
   "outputs": [
    {
     "name": "stdout",
     "output_type": "stream",
     "text": [
      "--- 45.74189591407776 seconds ---\n"
     ]
    }
   ],
   "source": [
    "stanza_train = get_sentiment(sst5_train, \"text\", \"stanza\").drop(columns=[\"text\", \"label\"]).add_suffix(\"_stanza\")"
   ]
  },
  {
   "cell_type": "code",
   "execution_count": 51,
   "metadata": {
    "colab": {
     "base_uri": "https://localhost:8080/"
    },
    "executionInfo": {
     "elapsed": 2061597,
     "status": "ok",
     "timestamp": 1617278107020,
     "user": {
      "displayName": "Brian Kim",
      "photoUrl": "https://lh3.googleusercontent.com/a-/AOh14GheK6fjKCJnJKGaH7uYzy5meG555MjbR-ZMdGLarA=s64",
      "userId": "17231552563920409361"
     },
     "user_tz": 240
    },
    "id": "k7vJ1_kx8nTc",
    "outputId": "913ef039-9365-472d-ed35-935fe4b221c1"
   },
   "outputs": [
    {
     "name": "stdout",
     "output_type": "stream",
     "text": [
      "--- 74.56437921524048 seconds ---\n"
     ]
    }
   ],
   "source": [
    "bert_train = get_sentiment(sst5_train, \"text\", \"bert\").drop(columns=[\"text\", \"label\"]).add_suffix(\"_bert\")"
   ]
  },
  {
   "cell_type": "code",
   "execution_count": 52,
   "metadata": {
    "colab": {
     "base_uri": "https://localhost:8080/"
    },
    "executionInfo": {
     "elapsed": 2315084,
     "status": "ok",
     "timestamp": 1617278360515,
     "user": {
      "displayName": "Brian Kim",
      "photoUrl": "https://lh3.googleusercontent.com/a-/AOh14GheK6fjKCJnJKGaH7uYzy5meG555MjbR-ZMdGLarA=s64",
      "userId": "17231552563920409361"
     },
     "user_tz": 240
    },
    "id": "PGa18JYf8nY5",
    "outputId": "e7340105-7353-4ff9-cc00-a4d7505a5858"
   },
   "outputs": [
    {
     "name": "stdout",
     "output_type": "stream",
     "text": [
      "--- 72.83663725852966 seconds ---\n"
     ]
    }
   ],
   "source": [
    "twit_train = get_sentiment(sst5_train, \"text\", \"twit\").drop(columns=[\"text\", \"label\"]).add_suffix(\"_twit\")"
   ]
  },
  {
   "cell_type": "code",
   "execution_count": 53,
   "metadata": {
    "colab": {
     "base_uri": "https://localhost:8080/"
    },
    "executionInfo": {
     "elapsed": 2816825,
     "status": "ok",
     "timestamp": 1617278862264,
     "user": {
      "displayName": "Brian Kim",
      "photoUrl": "https://lh3.googleusercontent.com/a-/AOh14GheK6fjKCJnJKGaH7uYzy5meG555MjbR-ZMdGLarA=s64",
      "userId": "17231552563920409361"
     },
     "user_tz": 240
    },
    "id": "ccohhpJe8ndp",
    "outputId": "26c0493c-bd8e-4b9a-e8d2-0ca5f75b449d"
   },
   "outputs": [
    {
     "name": "stdout",
     "output_type": "stream",
     "text": [
      "--- 258.688707113266 seconds ---\n"
     ]
    }
   ],
   "source": [
    "imdb_train = get_sentiment(sst5_train, \"text\", \"imdb\").drop(columns=[\"text\", \"label\"]).add_suffix(\"_imdb\")"
   ]
  },
  {
   "cell_type": "markdown",
   "metadata": {
    "id": "y_P4T7QAyQPw"
   },
   "source": [
    "#### Merge datasets together"
   ]
  },
  {
   "cell_type": "code",
   "execution_count": 54,
   "metadata": {
    "id": "II09_d5Wn1SF"
   },
   "outputs": [],
   "source": [
    "forest_train = pd.merge(sst5_train, yelp_train, how=\"inner\", left_index=True, right_index=True, validate=\"1:1\")"
   ]
  },
  {
   "cell_type": "code",
   "execution_count": 56,
   "metadata": {
    "id": "sT3dGz7vozWJ"
   },
   "outputs": [],
   "source": [
    "forest_train = pd.merge(forest_train, xlnet_train, how=\"inner\", left_index=True, right_index=True, validate=\"1:1\")"
   ]
  },
  {
   "cell_type": "code",
   "execution_count": 55,
   "metadata": {
    "id": "gkOz4wH6ozOA"
   },
   "outputs": [],
   "source": [
    "forest_train = pd.merge(forest_train, albert_train, how=\"inner\", left_index=True, right_index=True, validate=\"1:1\")"
   ]
  },
  {
   "cell_type": "code",
   "execution_count": 57,
   "metadata": {
    "id": "WYE6NdOdozTg"
   },
   "outputs": [],
   "source": [
    "forest_train = pd.merge(forest_train, stanza_train, how=\"inner\", left_index=True, right_index=True, validate=\"1:1\")"
   ]
  },
  {
   "cell_type": "code",
   "execution_count": 58,
   "metadata": {
    "id": "adi-xlvF80SI"
   },
   "outputs": [],
   "source": [
    "forest_train = pd.merge(forest_train, bert_train, how=\"inner\", left_index=True, right_index=True, validate=\"1:1\")"
   ]
  },
  {
   "cell_type": "code",
   "execution_count": 59,
   "metadata": {
    "id": "zJcm5zqc80Zq"
   },
   "outputs": [],
   "source": [
    "forest_train = pd.merge(forest_train, twit_train, how=\"inner\", left_index=True, right_index=True, validate=\"1:1\")"
   ]
  },
  {
   "cell_type": "code",
   "execution_count": 60,
   "metadata": {
    "id": "GJkXoqlI80fw"
   },
   "outputs": [],
   "source": [
    "forest_train = pd.merge(forest_train, imdb_train, how=\"inner\", left_index=True, right_index=True, validate=\"1:1\")"
   ]
  },
  {
   "cell_type": "code",
   "execution_count": 61,
   "metadata": {
    "id": "kTfptQj-t2e7"
   },
   "outputs": [],
   "source": [
    "forest_train.to_csv('../../N2FL NLP/data/03a_sst5_train.csv')"
   ]
  },
  {
   "cell_type": "markdown",
   "metadata": {
    "id": "M1ePPkulz3cP"
   },
   "source": [
    "### Create testing data"
   ]
  },
  {
   "cell_type": "code",
   "execution_count": 62,
   "metadata": {
    "colab": {
     "base_uri": "https://localhost:8080/"
    },
    "executionInfo": {
     "elapsed": 2884521,
     "status": "ok",
     "timestamp": 1617278930015,
     "user": {
      "displayName": "Brian Kim",
      "photoUrl": "https://lh3.googleusercontent.com/a-/AOh14GheK6fjKCJnJKGaH7uYzy5meG555MjbR-ZMdGLarA=s64",
      "userId": "17231552563920409361"
     },
     "user_tz": 240
    },
    "id": "1wt4CFWqt-jv",
    "outputId": "e52fa2fc-b291-42ee-ba28-132c2fa1fd0f"
   },
   "outputs": [
    {
     "name": "stdout",
     "output_type": "stream",
     "text": [
      "--- 18.914270639419556 seconds ---\n"
     ]
    }
   ],
   "source": [
    "yelp_test = get_sentiment(sst5_test, \"text\", \"yelp\").drop(columns=[\"text\", \"label\"]).add_suffix(\"_yelp\")"
   ]
  },
  {
   "cell_type": "code",
   "execution_count": 64,
   "metadata": {
    "colab": {
     "base_uri": "https://localhost:8080/"
    },
    "executionInfo": {
     "elapsed": 3049505,
     "status": "ok",
     "timestamp": 1617279095015,
     "user": {
      "displayName": "Brian Kim",
      "photoUrl": "https://lh3.googleusercontent.com/a-/AOh14GheK6fjKCJnJKGaH7uYzy5meG555MjbR-ZMdGLarA=s64",
      "userId": "17231552563920409361"
     },
     "user_tz": 240
    },
    "id": "Zs3VH8zRt-_9",
    "outputId": "cccf9323-a07b-48c1-de2a-cc2ca8681f37"
   },
   "outputs": [
    {
     "name": "stdout",
     "output_type": "stream",
     "text": [
      "--- 31.96621823310852 seconds ---\n"
     ]
    }
   ],
   "source": [
    "xlnet_test = get_sentiment(sst5_test, \"text\", \"xlnet\").drop(columns=[\"text\", \"label\"]).add_suffix(\"_xlnet\")"
   ]
  },
  {
   "cell_type": "code",
   "execution_count": 63,
   "metadata": {
    "colab": {
     "base_uri": "https://localhost:8080/"
    },
    "executionInfo": {
     "elapsed": 2962138,
     "status": "ok",
     "timestamp": 1617279007640,
     "user": {
      "displayName": "Brian Kim",
      "photoUrl": "https://lh3.googleusercontent.com/a-/AOh14GheK6fjKCJnJKGaH7uYzy5meG555MjbR-ZMdGLarA=s64",
      "userId": "17231552563920409361"
     },
     "user_tz": 240
    },
    "id": "oNKn68ALt-4m",
    "outputId": "0e352937-5756-484d-9e0b-74b669c0c566"
   },
   "outputs": [
    {
     "name": "stdout",
     "output_type": "stream",
     "text": [
      "--- 20.813700199127197 seconds ---\n"
     ]
    }
   ],
   "source": [
    "albert_test = get_sentiment(sst5_test, \"text\", \"albert\").drop(columns=[\"text\", \"label\"]).add_suffix(\"_albert\")"
   ]
  },
  {
   "cell_type": "code",
   "execution_count": 65,
   "metadata": {
    "colab": {
     "base_uri": "https://localhost:8080/"
    },
    "executionInfo": {
     "elapsed": 3080564,
     "status": "ok",
     "timestamp": 1617279126082,
     "user": {
      "displayName": "Brian Kim",
      "photoUrl": "https://lh3.googleusercontent.com/a-/AOh14GheK6fjKCJnJKGaH7uYzy5meG555MjbR-ZMdGLarA=s64",
      "userId": "17231552563920409361"
     },
     "user_tz": 240
    },
    "id": "cm2RKEvqt_EB",
    "outputId": "3ba3fd99-a4c6-435e-fb59-70f85632f5e2"
   },
   "outputs": [
    {
     "name": "stdout",
     "output_type": "stream",
     "text": [
      "--- 11.963701486587524 seconds ---\n"
     ]
    }
   ],
   "source": [
    "stanza_test = get_sentiment(sst5_test, \"text\", \"stanza\").drop(columns=[\"text\", \"label\"]).add_suffix(\"_stanza\")"
   ]
  },
  {
   "cell_type": "code",
   "execution_count": 66,
   "metadata": {
    "colab": {
     "base_uri": "https://localhost:8080/"
    },
    "executionInfo": {
     "elapsed": 3147001,
     "status": "ok",
     "timestamp": 1617279192527,
     "user": {
      "displayName": "Brian Kim",
      "photoUrl": "https://lh3.googleusercontent.com/a-/AOh14GheK6fjKCJnJKGaH7uYzy5meG555MjbR-ZMdGLarA=s64",
      "userId": "17231552563920409361"
     },
     "user_tz": 240
    },
    "id": "_8VZWwud85aw",
    "outputId": "e9b39e51-340b-446d-9b7f-90fa45b96ef3"
   },
   "outputs": [
    {
     "name": "stdout",
     "output_type": "stream",
     "text": [
      "--- 18.614203691482544 seconds ---\n"
     ]
    }
   ],
   "source": [
    "bert_test = get_sentiment(sst5_test, \"text\", \"bert\").drop(columns=[\"text\", \"label\"]).add_suffix(\"_bert\")"
   ]
  },
  {
   "cell_type": "code",
   "execution_count": 67,
   "metadata": {
    "colab": {
     "base_uri": "https://localhost:8080/"
    },
    "executionInfo": {
     "elapsed": 3213039,
     "status": "ok",
     "timestamp": 1617279258574,
     "user": {
      "displayName": "Brian Kim",
      "photoUrl": "https://lh3.googleusercontent.com/a-/AOh14GheK6fjKCJnJKGaH7uYzy5meG555MjbR-ZMdGLarA=s64",
      "userId": "17231552563920409361"
     },
     "user_tz": 240
    },
    "id": "39xOa1Kq85eT",
    "outputId": "04e4b74a-dd83-4ec1-fe70-88b9bc1173ed"
   },
   "outputs": [
    {
     "name": "stdout",
     "output_type": "stream",
     "text": [
      "--- 18.673217058181763 seconds ---\n"
     ]
    }
   ],
   "source": [
    "twit_test = get_sentiment(sst5_test, \"text\", \"twit\").drop(columns=[\"text\", \"label\"]).add_suffix(\"_twit\")"
   ]
  },
  {
   "cell_type": "code",
   "execution_count": 68,
   "metadata": {
    "colab": {
     "base_uri": "https://localhost:8080/"
    },
    "executionInfo": {
     "elapsed": 3337967,
     "status": "ok",
     "timestamp": 1617279383510,
     "user": {
      "displayName": "Brian Kim",
      "photoUrl": "https://lh3.googleusercontent.com/a-/AOh14GheK6fjKCJnJKGaH7uYzy5meG555MjbR-ZMdGLarA=s64",
      "userId": "17231552563920409361"
     },
     "user_tz": 240
    },
    "id": "eSZate6M85iU",
    "outputId": "22f4bae9-9990-48b3-e5e5-2d4547826791"
   },
   "outputs": [
    {
     "name": "stdout",
     "output_type": "stream",
     "text": [
      "--- 65.56285190582275 seconds ---\n"
     ]
    }
   ],
   "source": [
    "imdb_test = get_sentiment(sst5_test, \"text\", \"imdb\").drop(columns=[\"text\", \"label\"]).add_suffix(\"_imdb\")"
   ]
  },
  {
   "cell_type": "markdown",
   "metadata": {
    "id": "dg8s0NIuyWbm"
   },
   "source": [
    "#### Merge datasets together"
   ]
  },
  {
   "cell_type": "code",
   "execution_count": 69,
   "metadata": {
    "id": "Z_uwdrVft_HV"
   },
   "outputs": [],
   "source": [
    "forest_test = pd.merge(sst5_test, yelp_test, how=\"inner\", left_index=True, right_index=True, validate=\"1:1\")"
   ]
  },
  {
   "cell_type": "code",
   "execution_count": 71,
   "metadata": {
    "id": "H3WSGKKDuJKa"
   },
   "outputs": [],
   "source": [
    "forest_test = pd.merge(forest_test, xlnet_test, how=\"inner\", left_index=True, right_index=True, validate=\"1:1\")"
   ]
  },
  {
   "cell_type": "code",
   "execution_count": 70,
   "metadata": {
    "id": "t51B1KmnuJH2"
   },
   "outputs": [],
   "source": [
    "forest_test = pd.merge(forest_test, albert_test, how=\"inner\", left_index=True, right_index=True, validate=\"1:1\")"
   ]
  },
  {
   "cell_type": "code",
   "execution_count": 72,
   "metadata": {
    "id": "hImzCn-Rt-9W"
   },
   "outputs": [],
   "source": [
    "forest_test = pd.merge(forest_test, stanza_test, how=\"inner\", left_index=True, right_index=True, validate=\"1:1\")"
   ]
  },
  {
   "cell_type": "code",
   "execution_count": 73,
   "metadata": {
    "id": "oUu_yVvV9Bq6"
   },
   "outputs": [],
   "source": [
    "forest_test = pd.merge(forest_test, bert_test, how=\"inner\", left_index=True, right_index=True, validate=\"1:1\")"
   ]
  },
  {
   "cell_type": "code",
   "execution_count": 74,
   "metadata": {
    "id": "trUGtppl9Buh"
   },
   "outputs": [],
   "source": [
    "forest_test = pd.merge(forest_test, twit_test, how=\"inner\", left_index=True, right_index=True, validate=\"1:1\")"
   ]
  },
  {
   "cell_type": "code",
   "execution_count": 75,
   "metadata": {
    "id": "fi5LUbml9Byb"
   },
   "outputs": [],
   "source": [
    "forest_test = pd.merge(forest_test, imdb_test, how=\"inner\", left_index=True, right_index=True, validate=\"1:1\")"
   ]
  },
  {
   "cell_type": "code",
   "execution_count": 76,
   "metadata": {
    "id": "yQrbWnpsuR1_"
   },
   "outputs": [],
   "source": [
    "forest_test.to_csv('../../N2FL NLP/data/03a_sst5_test.csv')"
   ]
  },
  {
   "cell_type": "markdown",
   "metadata": {
    "id": "Hi21p9V3RIru"
   },
   "source": [
    "# Apply to the analytic dataset"
   ]
  },
  {
   "cell_type": "markdown",
   "metadata": {
    "id": "nmJJkov_f4s_"
   },
   "source": [
    "### Load in and organize the analytic data"
   ]
  },
  {
   "cell_type": "code",
   "execution_count": 77,
   "metadata": {},
   "outputs": [
    {
     "data": {
      "text/plain": [
       "(52458, 2)"
      ]
     },
     "execution_count": 77,
     "metadata": {},
     "output_type": "execute_result"
    }
   ],
   "source": [
    "data = pd.read_stata('../../N2FL NLP/data/02_advisornames_cleaned_unique.dta')\n",
    "data[\"index\"]=data.index\n",
    "data.shape"
   ]
  },
  {
   "cell_type": "code",
   "execution_count": 78,
   "metadata": {},
   "outputs": [
    {
     "data": {
      "text/html": [
       "<div>\n",
       "<style scoped>\n",
       "    .dataframe tbody tr th:only-of-type {\n",
       "        vertical-align: middle;\n",
       "    }\n",
       "\n",
       "    .dataframe tbody tr th {\n",
       "        vertical-align: top;\n",
       "    }\n",
       "\n",
       "    .dataframe thead th {\n",
       "        text-align: right;\n",
       "    }\n",
       "</style>\n",
       "<table border=\"1\" class=\"dataframe\">\n",
       "  <thead>\n",
       "    <tr style=\"text-align: right;\">\n",
       "      <th></th>\n",
       "      <th>text</th>\n",
       "      <th>index</th>\n",
       "    </tr>\n",
       "  </thead>\n",
       "  <tbody>\n",
       "    <tr>\n",
       "      <th>0</th>\n",
       "      <td>Hi, I'm a KCC advisor, &amp; I'm here to support y...</td>\n",
       "      <td>0</td>\n",
       "    </tr>\n",
       "    <tr>\n",
       "      <th>1</th>\n",
       "      <td>Hi. Fafsa.gov is open for the 2018-2019 school...</td>\n",
       "      <td>1</td>\n",
       "    </tr>\n",
       "    <tr>\n",
       "      <th>2</th>\n",
       "      <td>Hi. I'm at Austin Community College &amp; I'm here...</td>\n",
       "      <td>2</td>\n",
       "    </tr>\n",
       "    <tr>\n",
       "      <th>3</th>\n",
       "      <td>Hi. Spring 2019 registration is open. Can I he...</td>\n",
       "      <td>3</td>\n",
       "    </tr>\n",
       "    <tr>\n",
       "      <th>4</th>\n",
       "      <td>Hi. Some students face financial hardships, in...</td>\n",
       "      <td>4</td>\n",
       "    </tr>\n",
       "  </tbody>\n",
       "</table>\n",
       "</div>"
      ],
      "text/plain": [
       "                                                text  index\n",
       "0  Hi, I'm a KCC advisor, & I'm here to support y...      0\n",
       "1  Hi. Fafsa.gov is open for the 2018-2019 school...      1\n",
       "2  Hi. I'm at Austin Community College & I'm here...      2\n",
       "3  Hi. Spring 2019 registration is open. Can I he...      3\n",
       "4  Hi. Some students face financial hardships, in...      4"
      ]
     },
     "execution_count": 78,
     "metadata": {},
     "output_type": "execute_result"
    }
   ],
   "source": [
    "data.head()"
   ]
  },
  {
   "cell_type": "markdown",
   "metadata": {
    "id": "e8gYEEsQf9no"
   },
   "source": [
    "### Apply the Sentiment Analysis algorithms to the analytic data"
   ]
  },
  {
   "cell_type": "code",
   "execution_count": 79,
   "metadata": {
    "colab": {
     "base_uri": "https://localhost:8080/"
    },
    "executionInfo": {
     "elapsed": 899330,
     "status": "ok",
     "timestamp": 1617293376075,
     "user": {
      "displayName": "Brian Kim",
      "photoUrl": "https://lh3.googleusercontent.com/a-/AOh14GheK6fjKCJnJKGaH7uYzy5meG555MjbR-ZMdGLarA=s64",
      "userId": "17231552563920409361"
     },
     "user_tz": 240
    },
    "id": "-01Q4xmDemLO",
    "outputId": "ab188619-cf01-4395-d855-3a008ce9b4a4"
   },
   "outputs": [
    {
     "name": "stdout",
     "output_type": "stream",
     "text": [
      "--- 437.67514634132385 seconds ---\n"
     ]
    }
   ],
   "source": [
    "data_yelp = get_sentiment(data, \"text\", \"yelp\").add_suffix(\"_yelp\")"
   ]
  },
  {
   "cell_type": "code",
   "execution_count": 81,
   "metadata": {
    "colab": {
     "base_uri": "https://localhost:8080/"
    },
    "executionInfo": {
     "elapsed": 3118846,
     "status": "ok",
     "timestamp": 1617295596980,
     "user": {
      "displayName": "Brian Kim",
      "photoUrl": "https://lh3.googleusercontent.com/a-/AOh14GheK6fjKCJnJKGaH7uYzy5meG555MjbR-ZMdGLarA=s64",
      "userId": "17231552563920409361"
     },
     "user_tz": 240
    },
    "id": "AgXcYftzT8Sb",
    "outputId": "d251ec7f-beee-4cf4-9c7c-3d852396aca7"
   },
   "outputs": [
    {
     "name": "stdout",
     "output_type": "stream",
     "text": [
      "--- 747.4564311504364 seconds ---\n"
     ]
    }
   ],
   "source": [
    "data_xlnet = get_sentiment(data, \"text\", \"xlnet\").add_suffix(\"_xlnet\")"
   ]
  },
  {
   "cell_type": "code",
   "execution_count": 80,
   "metadata": {
    "colab": {
     "base_uri": "https://localhost:8080/"
    },
    "executionInfo": {
     "elapsed": 1938835,
     "status": "ok",
     "timestamp": 1617294416331,
     "user": {
      "displayName": "Brian Kim",
      "photoUrl": "https://lh3.googleusercontent.com/a-/AOh14GheK6fjKCJnJKGaH7uYzy5meG555MjbR-ZMdGLarA=s64",
      "userId": "17231552563920409361"
     },
     "user_tz": 240
    },
    "id": "3x9BjgEuT8IU",
    "outputId": "4b00ca68-cb33-4f6b-dd5f-2c838b30896d"
   },
   "outputs": [
    {
     "name": "stdout",
     "output_type": "stream",
     "text": [
      "--- 496.4290454387665 seconds ---\n"
     ]
    }
   ],
   "source": [
    "data_albert = get_sentiment(data, \"text\", \"albert\").add_suffix(\"_albert\")"
   ]
  },
  {
   "cell_type": "code",
   "execution_count": 86,
   "metadata": {
    "id": "_Ldx3dxKUxsX"
   },
   "outputs": [],
   "source": [
    "# Minor cleaning steps because Stanza can't take empty rows\n",
    "stanza_prep = data.copy()\n",
    "stanza_prep[\"str_len\"] = stanza_prep[\"text\"].str.len()\n",
    "stanza_prep = stanza_prep[stanza_prep['str_len'] >= 2].drop(columns=[\"str_len\"])"
   ]
  },
  {
   "cell_type": "code",
   "execution_count": 88,
   "metadata": {
    "colab": {
     "base_uri": "https://localhost:8080/"
    },
    "executionInfo": {
     "elapsed": 3501089,
     "status": "ok",
     "timestamp": 1617295981379,
     "user": {
      "displayName": "Brian Kim",
      "photoUrl": "https://lh3.googleusercontent.com/a-/AOh14GheK6fjKCJnJKGaH7uYzy5meG555MjbR-ZMdGLarA=s64",
      "userId": "17231552563920409361"
     },
     "user_tz": 240
    },
    "id": "A3hkUhPUT8aJ",
    "outputId": "5cb8b019-87e4-417e-be9c-d0918f2bbf91"
   },
   "outputs": [
    {
     "name": "stdout",
     "output_type": "stream",
     "text": [
      "--- 261.8666989803314 seconds ---\n"
     ]
    }
   ],
   "source": [
    "data_stanza = get_sentiment(stanza_prep, \"text\", \"stanza\").add_suffix(\"_stanza\")"
   ]
  },
  {
   "cell_type": "code",
   "execution_count": 89,
   "metadata": {
    "colab": {
     "base_uri": "https://localhost:8080/"
    },
    "executionInfo": {
     "elapsed": 4395224,
     "status": "ok",
     "timestamp": 1617296876549,
     "user": {
      "displayName": "Brian Kim",
      "photoUrl": "https://lh3.googleusercontent.com/a-/AOh14GheK6fjKCJnJKGaH7uYzy5meG555MjbR-ZMdGLarA=s64",
      "userId": "17231552563920409361"
     },
     "user_tz": 240
    },
    "id": "FO47DRPQ9OPW",
    "outputId": "b7757d23-acb8-42b7-ccdd-9b9eb65a2531"
   },
   "outputs": [
    {
     "name": "stdout",
     "output_type": "stream",
     "text": [
      "--- 436.46775245666504 seconds ---\n"
     ]
    }
   ],
   "source": [
    "data_bert = get_sentiment(data, \"text\", \"bert\").add_suffix(\"_bert\")"
   ]
  },
  {
   "cell_type": "code",
   "execution_count": 95,
   "metadata": {},
   "outputs": [],
   "source": [
    "# Minor cleaning steps because there's a max string length\n",
    "twit_prep = data.copy()\n",
    "twit_prep[\"str_len\"] = twit_prep[\"text\"].str.len()\n",
    "twit_prep = twit_prep[twit_prep['str_len'] <= 400].drop(columns=[\"str_len\"])"
   ]
  },
  {
   "cell_type": "code",
   "execution_count": 102,
   "metadata": {
    "colab": {
     "base_uri": "https://localhost:8080/"
    },
    "executionInfo": {
     "elapsed": 5288693,
     "status": "ok",
     "timestamp": 1617297770755,
     "user": {
      "displayName": "Brian Kim",
      "photoUrl": "https://lh3.googleusercontent.com/a-/AOh14GheK6fjKCJnJKGaH7uYzy5meG555MjbR-ZMdGLarA=s64",
      "userId": "17231552563920409361"
     },
     "user_tz": 240
    },
    "id": "oABZdBh69ORx",
    "outputId": "f994cf1a-f01a-4c8c-89a8-37fa7b7d96d6"
   },
   "outputs": [
    {
     "name": "stderr",
     "output_type": "stream",
     "text": [
      "Token indices sequence length is longer than the specified maximum sequence length for this model (668 > 500). Running this sequence through the model will result in indexing errors\n"
     ]
    },
    {
     "ename": "RuntimeError",
     "evalue": "The expanded size of the tensor (668) must match the existing size (514) at non-singleton dimension 1.  Target sizes: [1, 668].  Tensor sizes: [1, 514]",
     "output_type": "error",
     "traceback": [
      "\u001b[1;31m---------------------------------------------------------------------------\u001b[0m",
      "\u001b[1;31mRuntimeError\u001b[0m                              Traceback (most recent call last)",
      "\u001b[1;32m<ipython-input-102-7a1bb753ac78>\u001b[0m in \u001b[0;36m<module>\u001b[1;34m\u001b[0m\n\u001b[1;32m----> 1\u001b[1;33m \u001b[0mdata_twit\u001b[0m \u001b[1;33m=\u001b[0m \u001b[0mget_sentiment\u001b[0m\u001b[1;33m(\u001b[0m\u001b[0mdata\u001b[0m\u001b[1;33m,\u001b[0m \u001b[1;34m\"text\"\u001b[0m\u001b[1;33m,\u001b[0m \u001b[1;34m\"twit\"\u001b[0m\u001b[1;33m)\u001b[0m\u001b[1;33m.\u001b[0m\u001b[0madd_suffix\u001b[0m\u001b[1;33m(\u001b[0m\u001b[1;34m\"_twit\"\u001b[0m\u001b[1;33m)\u001b[0m\u001b[1;33m\u001b[0m\u001b[1;33m\u001b[0m\u001b[0m\n\u001b[0m",
      "\u001b[1;32m<ipython-input-12-8a50e6134b7c>\u001b[0m in \u001b[0;36mget_sentiment\u001b[1;34m(dataset, text_column, model)\u001b[0m\n\u001b[0;32m      2\u001b[0m     \u001b[0mstart_time\u001b[0m \u001b[1;33m=\u001b[0m \u001b[0mtime\u001b[0m\u001b[1;33m.\u001b[0m\u001b[0mtime\u001b[0m\u001b[1;33m(\u001b[0m\u001b[1;33m)\u001b[0m\u001b[1;33m\u001b[0m\u001b[1;33m\u001b[0m\u001b[0m\n\u001b[0;32m      3\u001b[0m \u001b[1;33m\u001b[0m\u001b[0m\n\u001b[1;32m----> 4\u001b[1;33m     \u001b[0mtemp\u001b[0m \u001b[1;33m=\u001b[0m \u001b[0mdataset\u001b[0m\u001b[1;33m[\u001b[0m\u001b[0mtext_column\u001b[0m\u001b[1;33m]\u001b[0m\u001b[1;33m.\u001b[0m\u001b[0mapply\u001b[0m\u001b[1;33m(\u001b[0m\u001b[0msave_sentiment\u001b[0m\u001b[1;33m,\u001b[0m \u001b[0mmodel\u001b[0m\u001b[1;33m=\u001b[0m\u001b[0mmodel\u001b[0m\u001b[1;33m)\u001b[0m\u001b[1;33m\u001b[0m\u001b[1;33m\u001b[0m\u001b[0m\n\u001b[0m\u001b[0;32m      5\u001b[0m     \u001b[0mprint\u001b[0m\u001b[1;33m(\u001b[0m\u001b[1;34m\"--- %s seconds ---\"\u001b[0m \u001b[1;33m%\u001b[0m \u001b[1;33m(\u001b[0m\u001b[0mtime\u001b[0m\u001b[1;33m.\u001b[0m\u001b[0mtime\u001b[0m\u001b[1;33m(\u001b[0m\u001b[1;33m)\u001b[0m \u001b[1;33m-\u001b[0m \u001b[0mstart_time\u001b[0m\u001b[1;33m)\u001b[0m\u001b[1;33m)\u001b[0m\u001b[1;33m\u001b[0m\u001b[1;33m\u001b[0m\u001b[0m\n\u001b[0;32m      6\u001b[0m     \u001b[0mtemp\u001b[0m \u001b[1;33m=\u001b[0m \u001b[0mpd\u001b[0m\u001b[1;33m.\u001b[0m\u001b[0mconcat\u001b[0m\u001b[1;33m(\u001b[0m\u001b[1;33m[\u001b[0m\u001b[0mdataset\u001b[0m\u001b[1;33m,\u001b[0m \u001b[0mtemp\u001b[0m\u001b[1;33m]\u001b[0m\u001b[1;33m,\u001b[0m \u001b[0maxis\u001b[0m\u001b[1;33m=\u001b[0m\u001b[1;36m1\u001b[0m\u001b[1;33m)\u001b[0m\u001b[1;33m\u001b[0m\u001b[1;33m\u001b[0m\u001b[0m\n",
      "\u001b[1;32m~\\Anaconda3\\lib\\site-packages\\pandas\\core\\series.py\u001b[0m in \u001b[0;36mapply\u001b[1;34m(self, func, convert_dtype, args, **kwds)\u001b[0m\n\u001b[0;32m   4136\u001b[0m             \u001b[1;32melse\u001b[0m\u001b[1;33m:\u001b[0m\u001b[1;33m\u001b[0m\u001b[1;33m\u001b[0m\u001b[0m\n\u001b[0;32m   4137\u001b[0m                 \u001b[0mvalues\u001b[0m \u001b[1;33m=\u001b[0m \u001b[0mself\u001b[0m\u001b[1;33m.\u001b[0m\u001b[0mastype\u001b[0m\u001b[1;33m(\u001b[0m\u001b[0mobject\u001b[0m\u001b[1;33m)\u001b[0m\u001b[1;33m.\u001b[0m\u001b[0m_values\u001b[0m\u001b[1;33m\u001b[0m\u001b[1;33m\u001b[0m\u001b[0m\n\u001b[1;32m-> 4138\u001b[1;33m                 \u001b[0mmapped\u001b[0m \u001b[1;33m=\u001b[0m \u001b[0mlib\u001b[0m\u001b[1;33m.\u001b[0m\u001b[0mmap_infer\u001b[0m\u001b[1;33m(\u001b[0m\u001b[0mvalues\u001b[0m\u001b[1;33m,\u001b[0m \u001b[0mf\u001b[0m\u001b[1;33m,\u001b[0m \u001b[0mconvert\u001b[0m\u001b[1;33m=\u001b[0m\u001b[0mconvert_dtype\u001b[0m\u001b[1;33m)\u001b[0m\u001b[1;33m\u001b[0m\u001b[1;33m\u001b[0m\u001b[0m\n\u001b[0m\u001b[0;32m   4139\u001b[0m \u001b[1;33m\u001b[0m\u001b[0m\n\u001b[0;32m   4140\u001b[0m         \u001b[1;32mif\u001b[0m \u001b[0mlen\u001b[0m\u001b[1;33m(\u001b[0m\u001b[0mmapped\u001b[0m\u001b[1;33m)\u001b[0m \u001b[1;32mand\u001b[0m \u001b[0misinstance\u001b[0m\u001b[1;33m(\u001b[0m\u001b[0mmapped\u001b[0m\u001b[1;33m[\u001b[0m\u001b[1;36m0\u001b[0m\u001b[1;33m]\u001b[0m\u001b[1;33m,\u001b[0m \u001b[0mSeries\u001b[0m\u001b[1;33m)\u001b[0m\u001b[1;33m:\u001b[0m\u001b[1;33m\u001b[0m\u001b[1;33m\u001b[0m\u001b[0m\n",
      "\u001b[1;32mpandas\\_libs\\lib.pyx\u001b[0m in \u001b[0;36mpandas._libs.lib.map_infer\u001b[1;34m()\u001b[0m\n",
      "\u001b[1;32m~\\Anaconda3\\lib\\site-packages\\pandas\\core\\series.py\u001b[0m in \u001b[0;36mf\u001b[1;34m(x)\u001b[0m\n\u001b[0;32m   4121\u001b[0m \u001b[1;33m\u001b[0m\u001b[0m\n\u001b[0;32m   4122\u001b[0m             \u001b[1;32mdef\u001b[0m \u001b[0mf\u001b[0m\u001b[1;33m(\u001b[0m\u001b[0mx\u001b[0m\u001b[1;33m)\u001b[0m\u001b[1;33m:\u001b[0m\u001b[1;33m\u001b[0m\u001b[1;33m\u001b[0m\u001b[0m\n\u001b[1;32m-> 4123\u001b[1;33m                 \u001b[1;32mreturn\u001b[0m \u001b[0mfunc\u001b[0m\u001b[1;33m(\u001b[0m\u001b[0mx\u001b[0m\u001b[1;33m,\u001b[0m \u001b[1;33m*\u001b[0m\u001b[0margs\u001b[0m\u001b[1;33m,\u001b[0m \u001b[1;33m**\u001b[0m\u001b[0mkwds\u001b[0m\u001b[1;33m)\u001b[0m\u001b[1;33m\u001b[0m\u001b[1;33m\u001b[0m\u001b[0m\n\u001b[0m\u001b[0;32m   4124\u001b[0m \u001b[1;33m\u001b[0m\u001b[0m\n\u001b[0;32m   4125\u001b[0m         \u001b[1;32melse\u001b[0m\u001b[1;33m:\u001b[0m\u001b[1;33m\u001b[0m\u001b[1;33m\u001b[0m\u001b[0m\n",
      "\u001b[1;32m<ipython-input-11-fcbbbf64a6b8>\u001b[0m in \u001b[0;36msave_sentiment\u001b[1;34m(text, model)\u001b[0m\n\u001b[0;32m     25\u001b[0m \u001b[1;33m\u001b[0m\u001b[0m\n\u001b[0;32m     26\u001b[0m     \u001b[1;32melif\u001b[0m \u001b[0mmodel\u001b[0m\u001b[1;33m==\u001b[0m\u001b[1;34m\"twit\"\u001b[0m\u001b[1;33m:\u001b[0m\u001b[1;33m\u001b[0m\u001b[1;33m\u001b[0m\u001b[0m\n\u001b[1;32m---> 27\u001b[1;33m         \u001b[0mtemp_all\u001b[0m \u001b[1;33m=\u001b[0m \u001b[0mtwit_all\u001b[0m\u001b[1;33m(\u001b[0m\u001b[0mtext\u001b[0m\u001b[1;33m)\u001b[0m\u001b[1;33m\u001b[0m\u001b[1;33m\u001b[0m\u001b[0m\n\u001b[0m\u001b[0;32m     28\u001b[0m \u001b[1;33m\u001b[0m\u001b[0m\n\u001b[0;32m     29\u001b[0m         \u001b[1;31m# Output results into a dataframe\u001b[0m\u001b[1;33m\u001b[0m\u001b[1;33m\u001b[0m\u001b[1;33m\u001b[0m\u001b[0m\n",
      "\u001b[1;32m~\\Anaconda3\\lib\\site-packages\\transformers\\pipelines\\text_classification.py\u001b[0m in \u001b[0;36m__call__\u001b[1;34m(self, *args, **kwargs)\u001b[0m\n\u001b[0;32m     63\u001b[0m             \u001b[0mIf\u001b[0m\u001b[0;31m \u001b[0m\u001b[0;31m`\u001b[0m\u001b[0;31m`\u001b[0m\u001b[0mself\u001b[0m\u001b[1;33m.\u001b[0m\u001b[0mreturn_all_scores\u001b[0m\u001b[1;33m=\u001b[0m\u001b[1;32mTrue\u001b[0m\u001b[0;31m`\u001b[0m\u001b[0;31m`\u001b[0m\u001b[1;33m,\u001b[0m \u001b[0mone\u001b[0m \u001b[0msuch\u001b[0m \u001b[0mdictionary\u001b[0m \u001b[1;32mis\u001b[0m \u001b[0mreturned\u001b[0m \u001b[0mper\u001b[0m \u001b[0mlabel\u001b[0m\u001b[1;33m.\u001b[0m\u001b[1;33m\u001b[0m\u001b[1;33m\u001b[0m\u001b[0m\n\u001b[0;32m     64\u001b[0m         \"\"\"\n\u001b[1;32m---> 65\u001b[1;33m         \u001b[0moutputs\u001b[0m \u001b[1;33m=\u001b[0m \u001b[0msuper\u001b[0m\u001b[1;33m(\u001b[0m\u001b[1;33m)\u001b[0m\u001b[1;33m.\u001b[0m\u001b[0m__call__\u001b[0m\u001b[1;33m(\u001b[0m\u001b[1;33m*\u001b[0m\u001b[0margs\u001b[0m\u001b[1;33m,\u001b[0m \u001b[1;33m**\u001b[0m\u001b[0mkwargs\u001b[0m\u001b[1;33m)\u001b[0m\u001b[1;33m\u001b[0m\u001b[1;33m\u001b[0m\u001b[0m\n\u001b[0m\u001b[0;32m     66\u001b[0m \u001b[1;33m\u001b[0m\u001b[0m\n\u001b[0;32m     67\u001b[0m         \u001b[1;32mif\u001b[0m \u001b[0mself\u001b[0m\u001b[1;33m.\u001b[0m\u001b[0mmodel\u001b[0m\u001b[1;33m.\u001b[0m\u001b[0mconfig\u001b[0m\u001b[1;33m.\u001b[0m\u001b[0mnum_labels\u001b[0m \u001b[1;33m==\u001b[0m \u001b[1;36m1\u001b[0m\u001b[1;33m:\u001b[0m\u001b[1;33m\u001b[0m\u001b[1;33m\u001b[0m\u001b[0m\n",
      "\u001b[1;32m~\\Anaconda3\\lib\\site-packages\\transformers\\pipelines\\base.py\u001b[0m in \u001b[0;36m__call__\u001b[1;34m(self, *args, **kwargs)\u001b[0m\n\u001b[0;32m    759\u001b[0m     \u001b[1;32mdef\u001b[0m \u001b[0m__call__\u001b[0m\u001b[1;33m(\u001b[0m\u001b[0mself\u001b[0m\u001b[1;33m,\u001b[0m \u001b[1;33m*\u001b[0m\u001b[0margs\u001b[0m\u001b[1;33m,\u001b[0m \u001b[1;33m**\u001b[0m\u001b[0mkwargs\u001b[0m\u001b[1;33m)\u001b[0m\u001b[1;33m:\u001b[0m\u001b[1;33m\u001b[0m\u001b[1;33m\u001b[0m\u001b[0m\n\u001b[0;32m    760\u001b[0m         \u001b[0minputs\u001b[0m \u001b[1;33m=\u001b[0m \u001b[0mself\u001b[0m\u001b[1;33m.\u001b[0m\u001b[0m_parse_and_tokenize\u001b[0m\u001b[1;33m(\u001b[0m\u001b[1;33m*\u001b[0m\u001b[0margs\u001b[0m\u001b[1;33m,\u001b[0m \u001b[1;33m**\u001b[0m\u001b[0mkwargs\u001b[0m\u001b[1;33m)\u001b[0m\u001b[1;33m\u001b[0m\u001b[1;33m\u001b[0m\u001b[0m\n\u001b[1;32m--> 761\u001b[1;33m         \u001b[1;32mreturn\u001b[0m \u001b[0mself\u001b[0m\u001b[1;33m.\u001b[0m\u001b[0m_forward\u001b[0m\u001b[1;33m(\u001b[0m\u001b[0minputs\u001b[0m\u001b[1;33m)\u001b[0m\u001b[1;33m\u001b[0m\u001b[1;33m\u001b[0m\u001b[0m\n\u001b[0m\u001b[0;32m    762\u001b[0m \u001b[1;33m\u001b[0m\u001b[0m\n\u001b[0;32m    763\u001b[0m     \u001b[1;32mdef\u001b[0m \u001b[0m_forward\u001b[0m\u001b[1;33m(\u001b[0m\u001b[0mself\u001b[0m\u001b[1;33m,\u001b[0m \u001b[0minputs\u001b[0m\u001b[1;33m,\u001b[0m \u001b[0mreturn_tensors\u001b[0m\u001b[1;33m=\u001b[0m\u001b[1;32mFalse\u001b[0m\u001b[1;33m)\u001b[0m\u001b[1;33m:\u001b[0m\u001b[1;33m\u001b[0m\u001b[1;33m\u001b[0m\u001b[0m\n",
      "\u001b[1;32m~\\Anaconda3\\lib\\site-packages\\transformers\\pipelines\\base.py\u001b[0m in \u001b[0;36m_forward\u001b[1;34m(self, inputs, return_tensors)\u001b[0m\n\u001b[0;32m    780\u001b[0m                 \u001b[1;32mwith\u001b[0m \u001b[0mtorch\u001b[0m\u001b[1;33m.\u001b[0m\u001b[0mno_grad\u001b[0m\u001b[1;33m(\u001b[0m\u001b[1;33m)\u001b[0m\u001b[1;33m:\u001b[0m\u001b[1;33m\u001b[0m\u001b[1;33m\u001b[0m\u001b[0m\n\u001b[0;32m    781\u001b[0m                     \u001b[0minputs\u001b[0m \u001b[1;33m=\u001b[0m \u001b[0mself\u001b[0m\u001b[1;33m.\u001b[0m\u001b[0mensure_tensor_on_device\u001b[0m\u001b[1;33m(\u001b[0m\u001b[1;33m**\u001b[0m\u001b[0minputs\u001b[0m\u001b[1;33m)\u001b[0m\u001b[1;33m\u001b[0m\u001b[1;33m\u001b[0m\u001b[0m\n\u001b[1;32m--> 782\u001b[1;33m                     \u001b[0mpredictions\u001b[0m \u001b[1;33m=\u001b[0m \u001b[0mself\u001b[0m\u001b[1;33m.\u001b[0m\u001b[0mmodel\u001b[0m\u001b[1;33m(\u001b[0m\u001b[1;33m**\u001b[0m\u001b[0minputs\u001b[0m\u001b[1;33m)\u001b[0m\u001b[1;33m[\u001b[0m\u001b[1;36m0\u001b[0m\u001b[1;33m]\u001b[0m\u001b[1;33m.\u001b[0m\u001b[0mcpu\u001b[0m\u001b[1;33m(\u001b[0m\u001b[1;33m)\u001b[0m\u001b[1;33m\u001b[0m\u001b[1;33m\u001b[0m\u001b[0m\n\u001b[0m\u001b[0;32m    783\u001b[0m \u001b[1;33m\u001b[0m\u001b[0m\n\u001b[0;32m    784\u001b[0m         \u001b[1;32mif\u001b[0m \u001b[0mreturn_tensors\u001b[0m\u001b[1;33m:\u001b[0m\u001b[1;33m\u001b[0m\u001b[1;33m\u001b[0m\u001b[0m\n",
      "\u001b[1;32m~\\Anaconda3\\lib\\site-packages\\torch\\nn\\modules\\module.py\u001b[0m in \u001b[0;36m_call_impl\u001b[1;34m(self, *input, **kwargs)\u001b[0m\n\u001b[0;32m   1049\u001b[0m         if not (self._backward_hooks or self._forward_hooks or self._forward_pre_hooks or _global_backward_hooks\n\u001b[0;32m   1050\u001b[0m                 or _global_forward_hooks or _global_forward_pre_hooks):\n\u001b[1;32m-> 1051\u001b[1;33m             \u001b[1;32mreturn\u001b[0m \u001b[0mforward_call\u001b[0m\u001b[1;33m(\u001b[0m\u001b[1;33m*\u001b[0m\u001b[0minput\u001b[0m\u001b[1;33m,\u001b[0m \u001b[1;33m**\u001b[0m\u001b[0mkwargs\u001b[0m\u001b[1;33m)\u001b[0m\u001b[1;33m\u001b[0m\u001b[1;33m\u001b[0m\u001b[0m\n\u001b[0m\u001b[0;32m   1052\u001b[0m         \u001b[1;31m# Do not call functions when jit is used\u001b[0m\u001b[1;33m\u001b[0m\u001b[1;33m\u001b[0m\u001b[1;33m\u001b[0m\u001b[0m\n\u001b[0;32m   1053\u001b[0m         \u001b[0mfull_backward_hooks\u001b[0m\u001b[1;33m,\u001b[0m \u001b[0mnon_full_backward_hooks\u001b[0m \u001b[1;33m=\u001b[0m \u001b[1;33m[\u001b[0m\u001b[1;33m]\u001b[0m\u001b[1;33m,\u001b[0m \u001b[1;33m[\u001b[0m\u001b[1;33m]\u001b[0m\u001b[1;33m\u001b[0m\u001b[1;33m\u001b[0m\u001b[0m\n",
      "\u001b[1;32m~\\Anaconda3\\lib\\site-packages\\transformers\\models\\roberta\\modeling_roberta.py\u001b[0m in \u001b[0;36mforward\u001b[1;34m(self, input_ids, attention_mask, token_type_ids, position_ids, head_mask, inputs_embeds, labels, output_attentions, output_hidden_states, return_dict)\u001b[0m\n\u001b[0;32m   1173\u001b[0m         \u001b[0mreturn_dict\u001b[0m \u001b[1;33m=\u001b[0m \u001b[0mreturn_dict\u001b[0m \u001b[1;32mif\u001b[0m \u001b[0mreturn_dict\u001b[0m \u001b[1;32mis\u001b[0m \u001b[1;32mnot\u001b[0m \u001b[1;32mNone\u001b[0m \u001b[1;32melse\u001b[0m \u001b[0mself\u001b[0m\u001b[1;33m.\u001b[0m\u001b[0mconfig\u001b[0m\u001b[1;33m.\u001b[0m\u001b[0muse_return_dict\u001b[0m\u001b[1;33m\u001b[0m\u001b[1;33m\u001b[0m\u001b[0m\n\u001b[0;32m   1174\u001b[0m \u001b[1;33m\u001b[0m\u001b[0m\n\u001b[1;32m-> 1175\u001b[1;33m         outputs = self.roberta(\n\u001b[0m\u001b[0;32m   1176\u001b[0m             \u001b[0minput_ids\u001b[0m\u001b[1;33m,\u001b[0m\u001b[1;33m\u001b[0m\u001b[1;33m\u001b[0m\u001b[0m\n\u001b[0;32m   1177\u001b[0m             \u001b[0mattention_mask\u001b[0m\u001b[1;33m=\u001b[0m\u001b[0mattention_mask\u001b[0m\u001b[1;33m,\u001b[0m\u001b[1;33m\u001b[0m\u001b[1;33m\u001b[0m\u001b[0m\n",
      "\u001b[1;32m~\\Anaconda3\\lib\\site-packages\\torch\\nn\\modules\\module.py\u001b[0m in \u001b[0;36m_call_impl\u001b[1;34m(self, *input, **kwargs)\u001b[0m\n\u001b[0;32m   1049\u001b[0m         if not (self._backward_hooks or self._forward_hooks or self._forward_pre_hooks or _global_backward_hooks\n\u001b[0;32m   1050\u001b[0m                 or _global_forward_hooks or _global_forward_pre_hooks):\n\u001b[1;32m-> 1051\u001b[1;33m             \u001b[1;32mreturn\u001b[0m \u001b[0mforward_call\u001b[0m\u001b[1;33m(\u001b[0m\u001b[1;33m*\u001b[0m\u001b[0minput\u001b[0m\u001b[1;33m,\u001b[0m \u001b[1;33m**\u001b[0m\u001b[0mkwargs\u001b[0m\u001b[1;33m)\u001b[0m\u001b[1;33m\u001b[0m\u001b[1;33m\u001b[0m\u001b[0m\n\u001b[0m\u001b[0;32m   1052\u001b[0m         \u001b[1;31m# Do not call functions when jit is used\u001b[0m\u001b[1;33m\u001b[0m\u001b[1;33m\u001b[0m\u001b[1;33m\u001b[0m\u001b[0m\n\u001b[0;32m   1053\u001b[0m         \u001b[0mfull_backward_hooks\u001b[0m\u001b[1;33m,\u001b[0m \u001b[0mnon_full_backward_hooks\u001b[0m \u001b[1;33m=\u001b[0m \u001b[1;33m[\u001b[0m\u001b[1;33m]\u001b[0m\u001b[1;33m,\u001b[0m \u001b[1;33m[\u001b[0m\u001b[1;33m]\u001b[0m\u001b[1;33m\u001b[0m\u001b[1;33m\u001b[0m\u001b[0m\n",
      "\u001b[1;32m~\\Anaconda3\\lib\\site-packages\\transformers\\models\\roberta\\modeling_roberta.py\u001b[0m in \u001b[0;36mforward\u001b[1;34m(self, input_ids, attention_mask, token_type_ids, position_ids, head_mask, inputs_embeds, encoder_hidden_states, encoder_attention_mask, past_key_values, use_cache, output_attentions, output_hidden_states, return_dict)\u001b[0m\n\u001b[0;32m    799\u001b[0m             \u001b[1;32mif\u001b[0m \u001b[0mhasattr\u001b[0m\u001b[1;33m(\u001b[0m\u001b[0mself\u001b[0m\u001b[1;33m.\u001b[0m\u001b[0membeddings\u001b[0m\u001b[1;33m,\u001b[0m \u001b[1;34m\"token_type_ids\"\u001b[0m\u001b[1;33m)\u001b[0m\u001b[1;33m:\u001b[0m\u001b[1;33m\u001b[0m\u001b[1;33m\u001b[0m\u001b[0m\n\u001b[0;32m    800\u001b[0m                 \u001b[0mbuffered_token_type_ids\u001b[0m \u001b[1;33m=\u001b[0m \u001b[0mself\u001b[0m\u001b[1;33m.\u001b[0m\u001b[0membeddings\u001b[0m\u001b[1;33m.\u001b[0m\u001b[0mtoken_type_ids\u001b[0m\u001b[1;33m[\u001b[0m\u001b[1;33m:\u001b[0m\u001b[1;33m,\u001b[0m \u001b[1;33m:\u001b[0m\u001b[0mseq_length\u001b[0m\u001b[1;33m]\u001b[0m\u001b[1;33m\u001b[0m\u001b[1;33m\u001b[0m\u001b[0m\n\u001b[1;32m--> 801\u001b[1;33m                 \u001b[0mbuffered_token_type_ids_expanded\u001b[0m \u001b[1;33m=\u001b[0m \u001b[0mbuffered_token_type_ids\u001b[0m\u001b[1;33m.\u001b[0m\u001b[0mexpand\u001b[0m\u001b[1;33m(\u001b[0m\u001b[0mbatch_size\u001b[0m\u001b[1;33m,\u001b[0m \u001b[0mseq_length\u001b[0m\u001b[1;33m)\u001b[0m\u001b[1;33m\u001b[0m\u001b[1;33m\u001b[0m\u001b[0m\n\u001b[0m\u001b[0;32m    802\u001b[0m                 \u001b[0mtoken_type_ids\u001b[0m \u001b[1;33m=\u001b[0m \u001b[0mbuffered_token_type_ids_expanded\u001b[0m\u001b[1;33m\u001b[0m\u001b[1;33m\u001b[0m\u001b[0m\n\u001b[0;32m    803\u001b[0m             \u001b[1;32melse\u001b[0m\u001b[1;33m:\u001b[0m\u001b[1;33m\u001b[0m\u001b[1;33m\u001b[0m\u001b[0m\n",
      "\u001b[1;31mRuntimeError\u001b[0m: The expanded size of the tensor (668) must match the existing size (514) at non-singleton dimension 1.  Target sizes: [1, 668].  Tensor sizes: [1, 514]"
     ]
    }
   ],
   "source": [
    "data_twit = get_sentiment(twit_prep, \"text\", \"twit\").add_suffix(\"_twit\")"
   ]
  },
  {
   "cell_type": "code",
   "execution_count": 106,
   "metadata": {
    "id": "ejSKUl8cAgjy"
   },
   "outputs": [],
   "source": [
    "# Minor cleaning steps because imdb can't take non-ascii characters apparently\n",
    "imdb_prep = data.copy()\n",
    "imdb_prep[\"text\"] = imdb_prep[\"text\"].str.encode(\"ascii\", \"ignore\").str.decode(\"ascii\")"
   ]
  },
  {
   "cell_type": "code",
   "execution_count": 107,
   "metadata": {
    "colab": {
     "base_uri": "https://localhost:8080/"
    },
    "executionInfo": {
     "elapsed": 1802024,
     "status": "ok",
     "timestamp": 1617292310863,
     "user": {
      "displayName": "Brian Kim",
      "photoUrl": "https://lh3.googleusercontent.com/a-/AOh14GheK6fjKCJnJKGaH7uYzy5meG555MjbR-ZMdGLarA=s64",
      "userId": "17231552563920409361"
     },
     "user_tz": 240
    },
    "id": "bK2UywNn9OW7",
    "outputId": "ebac158f-6ead-4f9f-a986-433411a27e28"
   },
   "outputs": [
    {
     "name": "stdout",
     "output_type": "stream",
     "text": [
      "--- 1638.4484975337982 seconds ---\n"
     ]
    }
   ],
   "source": [
    "data_imdb = get_sentiment(imdb_prep, \"text\", \"imdb\").add_suffix(\"_imdb\")"
   ]
  },
  {
   "cell_type": "markdown",
   "metadata": {
    "id": "om_WHybXgCq1"
   },
   "source": [
    "### Join sentiment scores back into the main dataset"
   ]
  },
  {
   "cell_type": "code",
   "execution_count": 112,
   "metadata": {
    "id": "pdcTvgO6gOGa"
   },
   "outputs": [],
   "source": [
    "data_analyze = pd.merge(data, data_yelp, how=\"inner\", left_on=\"index\", right_on=\"index_yelp\", validate=\"1:1\").drop(columns=[\"text_yelp\", \"index_yelp\"])"
   ]
  },
  {
   "cell_type": "code",
   "execution_count": 113,
   "metadata": {
    "id": "tQtQp8nGa34Q"
   },
   "outputs": [],
   "source": [
    "data_analyze = pd.merge(data_analyze, data_xlnet, how=\"inner\", left_on=\"index\", right_on=\"index_xlnet\", validate=\"1:1\").drop(columns=[\"text_xlnet\", \"index_xlnet\"])"
   ]
  },
  {
   "cell_type": "code",
   "execution_count": 114,
   "metadata": {
    "id": "4Ry7ErBya4AW"
   },
   "outputs": [],
   "source": [
    "data_analyze = pd.merge(data_analyze, data_albert, how=\"inner\", left_on=\"index\", right_on=\"index_albert\", validate=\"1:1\").drop(columns=[\"text_albert\", \"index_albert\"])"
   ]
  },
  {
   "cell_type": "code",
   "execution_count": 115,
   "metadata": {
    "id": "TC7AVkdQa4GE"
   },
   "outputs": [],
   "source": [
    "data_analyze = pd.merge(data_analyze, data_stanza, how=\"inner\", left_on=\"index\", right_on=\"index_stanza\", validate=\"1:1\").drop(columns=[\"text_stanza\", \"index_stanza\"])"
   ]
  },
  {
   "cell_type": "code",
   "execution_count": 116,
   "metadata": {
    "id": "G6IXi9Yj9X2_"
   },
   "outputs": [],
   "source": [
    "data_analyze = pd.merge(data_analyze, data_bert, how=\"inner\", left_on=\"index\", right_on=\"index_bert\", validate=\"1:1\").drop(columns=[\"text_bert\", \"index_bert\"])"
   ]
  },
  {
   "cell_type": "code",
   "execution_count": 117,
   "metadata": {
    "id": "DmJTQvYW9X5s"
   },
   "outputs": [],
   "source": [
    "data_analyze = pd.merge(data_analyze, data_twit, how=\"inner\", left_on=\"index\", right_on=\"index_twit\", validate=\"1:1\").drop(columns=[\"text_twit\", \"index_twit\"])"
   ]
  },
  {
   "cell_type": "code",
   "execution_count": 118,
   "metadata": {
    "id": "gsla7bVV9X9-"
   },
   "outputs": [],
   "source": [
    "data_analyze = pd.merge(data_analyze, data_imdb, how=\"inner\", left_on=\"index\", right_on=\"index_imdb\", validate=\"1:1\").drop(columns=[\"text_imdb\", \"index_imdb\"])"
   ]
  },
  {
   "cell_type": "code",
   "execution_count": 119,
   "metadata": {
    "colab": {
     "base_uri": "https://localhost:8080/"
    },
    "executionInfo": {
     "elapsed": 375,
     "status": "ok",
     "timestamp": 1617298943927,
     "user": {
      "displayName": "Brian Kim",
      "photoUrl": "https://lh3.googleusercontent.com/a-/AOh14GheK6fjKCJnJKGaH7uYzy5meG555MjbR-ZMdGLarA=s64",
      "userId": "17231552563920409361"
     },
     "user_tz": 240
    },
    "id": "IdLG10av1CPC",
    "outputId": "cceda3ad-321e-4371-c910-12f0d10da555"
   },
   "outputs": [
    {
     "data": {
      "text/plain": [
       "(52164, 31)"
      ]
     },
     "execution_count": 119,
     "metadata": {},
     "output_type": "execute_result"
    }
   ],
   "source": [
    "data_analyze.shape"
   ]
  },
  {
   "cell_type": "code",
   "execution_count": 120,
   "metadata": {
    "colab": {
     "base_uri": "https://localhost:8080/",
     "height": 1000
    },
    "executionInfo": {
     "elapsed": 424,
     "status": "ok",
     "timestamp": 1617298934465,
     "user": {
      "displayName": "Brian Kim",
      "photoUrl": "https://lh3.googleusercontent.com/a-/AOh14GheK6fjKCJnJKGaH7uYzy5meG555MjbR-ZMdGLarA=s64",
      "userId": "17231552563920409361"
     },
     "user_tz": 240
    },
    "id": "yEuqywx1iK6b",
    "outputId": "7285590b-93e0-482e-9953-9c54e6c92164"
   },
   "outputs": [
    {
     "data": {
      "text/html": [
       "<div>\n",
       "<style scoped>\n",
       "    .dataframe tbody tr th:only-of-type {\n",
       "        vertical-align: middle;\n",
       "    }\n",
       "\n",
       "    .dataframe tbody tr th {\n",
       "        vertical-align: top;\n",
       "    }\n",
       "\n",
       "    .dataframe thead th {\n",
       "        text-align: right;\n",
       "    }\n",
       "</style>\n",
       "<table border=\"1\" class=\"dataframe\">\n",
       "  <thead>\n",
       "    <tr style=\"text-align: right;\">\n",
       "      <th></th>\n",
       "      <th>text</th>\n",
       "      <th>index</th>\n",
       "      <th>LABEL_0_yelp</th>\n",
       "      <th>LABEL_1_yelp</th>\n",
       "      <th>LABEL_2_yelp</th>\n",
       "      <th>LABEL_3_yelp</th>\n",
       "      <th>LABEL_4_yelp</th>\n",
       "      <th>label_predict_yelp</th>\n",
       "      <th>label_prob_yelp</th>\n",
       "      <th>LABEL_0_xlnet</th>\n",
       "      <th>...</th>\n",
       "      <th>LABEL_3_bert</th>\n",
       "      <th>LABEL_4_bert</th>\n",
       "      <th>label_predict_bert</th>\n",
       "      <th>label_prob_bert</th>\n",
       "      <th>LABEL_0_twit</th>\n",
       "      <th>LABEL_2_twit</th>\n",
       "      <th>LABEL_4_twit</th>\n",
       "      <th>label_predict_twit</th>\n",
       "      <th>label_prob_twit</th>\n",
       "      <th>label_predict_imdb</th>\n",
       "    </tr>\n",
       "  </thead>\n",
       "  <tbody>\n",
       "    <tr>\n",
       "      <th>15726</th>\n",
       "      <td>Really all great options! GMU has a Transfer S...</td>\n",
       "      <td>15793</td>\n",
       "      <td>0.002457</td>\n",
       "      <td>0.004904</td>\n",
       "      <td>0.080207</td>\n",
       "      <td>0.546224</td>\n",
       "      <td>0.366208</td>\n",
       "      <td>LABEL_3</td>\n",
       "      <td>0.546224</td>\n",
       "      <td>0.003157</td>\n",
       "      <td>...</td>\n",
       "      <td>0.231343</td>\n",
       "      <td>0.726762</td>\n",
       "      <td>LABEL_4</td>\n",
       "      <td>0.726762</td>\n",
       "      <td>0.001751</td>\n",
       "      <td>0.042814</td>\n",
       "      <td>0.955435</td>\n",
       "      <td>LABEL_4</td>\n",
       "      <td>0.955435</td>\n",
       "      <td>LABEL_4</td>\n",
       "    </tr>\n",
       "    <tr>\n",
       "      <th>28908</th>\n",
       "      <td>Yes. you will complete EMT AAS program in Fall...</td>\n",
       "      <td>29036</td>\n",
       "      <td>0.022288</td>\n",
       "      <td>0.019506</td>\n",
       "      <td>0.073199</td>\n",
       "      <td>0.248149</td>\n",
       "      <td>0.636857</td>\n",
       "      <td>LABEL_4</td>\n",
       "      <td>0.636857</td>\n",
       "      <td>0.017205</td>\n",
       "      <td>...</td>\n",
       "      <td>0.293369</td>\n",
       "      <td>0.355197</td>\n",
       "      <td>LABEL_4</td>\n",
       "      <td>0.355197</td>\n",
       "      <td>0.005365</td>\n",
       "      <td>0.551490</td>\n",
       "      <td>0.443145</td>\n",
       "      <td>LABEL_2</td>\n",
       "      <td>0.551490</td>\n",
       "      <td>LABEL_4</td>\n",
       "    </tr>\n",
       "    <tr>\n",
       "      <th>5648</th>\n",
       "      <td>Yes u can</td>\n",
       "      <td>5692</td>\n",
       "      <td>0.056423</td>\n",
       "      <td>0.058126</td>\n",
       "      <td>0.221824</td>\n",
       "      <td>0.346719</td>\n",
       "      <td>0.316909</td>\n",
       "      <td>LABEL_3</td>\n",
       "      <td>0.346719</td>\n",
       "      <td>0.004031</td>\n",
       "      <td>...</td>\n",
       "      <td>0.239441</td>\n",
       "      <td>0.510596</td>\n",
       "      <td>LABEL_4</td>\n",
       "      <td>0.510596</td>\n",
       "      <td>0.009988</td>\n",
       "      <td>0.218118</td>\n",
       "      <td>0.771895</td>\n",
       "      <td>LABEL_4</td>\n",
       "      <td>0.771895</td>\n",
       "      <td>LABEL_4</td>\n",
       "    </tr>\n",
       "    <tr>\n",
       "      <th>13421</th>\n",
       "      <td>How about next Tuesday (2/13) at 2:00?</td>\n",
       "      <td>13480</td>\n",
       "      <td>0.197279</td>\n",
       "      <td>0.192458</td>\n",
       "      <td>0.353186</td>\n",
       "      <td>0.174817</td>\n",
       "      <td>0.082260</td>\n",
       "      <td>LABEL_2</td>\n",
       "      <td>0.353186</td>\n",
       "      <td>0.700990</td>\n",
       "      <td>...</td>\n",
       "      <td>0.054731</td>\n",
       "      <td>0.039769</td>\n",
       "      <td>LABEL_0</td>\n",
       "      <td>0.485427</td>\n",
       "      <td>0.021914</td>\n",
       "      <td>0.931711</td>\n",
       "      <td>0.046375</td>\n",
       "      <td>LABEL_2</td>\n",
       "      <td>0.931711</td>\n",
       "      <td>LABEL_4</td>\n",
       "    </tr>\n",
       "    <tr>\n",
       "      <th>12395</th>\n",
       "      <td>My name is - I am a Mobile Academic Advisor fo...</td>\n",
       "      <td>12454</td>\n",
       "      <td>0.193696</td>\n",
       "      <td>0.087219</td>\n",
       "      <td>0.173809</td>\n",
       "      <td>0.228734</td>\n",
       "      <td>0.316542</td>\n",
       "      <td>LABEL_4</td>\n",
       "      <td>0.316542</td>\n",
       "      <td>0.030049</td>\n",
       "      <td>...</td>\n",
       "      <td>0.280935</td>\n",
       "      <td>0.472071</td>\n",
       "      <td>LABEL_4</td>\n",
       "      <td>0.472071</td>\n",
       "      <td>0.011784</td>\n",
       "      <td>0.898503</td>\n",
       "      <td>0.089713</td>\n",
       "      <td>LABEL_2</td>\n",
       "      <td>0.898503</td>\n",
       "      <td>LABEL_4</td>\n",
       "    </tr>\n",
       "    <tr>\n",
       "      <th>22398</th>\n",
       "      <td>appointment with any of the advisors available...</td>\n",
       "      <td>22497</td>\n",
       "      <td>0.012195</td>\n",
       "      <td>0.010705</td>\n",
       "      <td>0.047738</td>\n",
       "      <td>0.219233</td>\n",
       "      <td>0.710129</td>\n",
       "      <td>LABEL_4</td>\n",
       "      <td>0.710129</td>\n",
       "      <td>0.001060</td>\n",
       "      <td>...</td>\n",
       "      <td>0.396337</td>\n",
       "      <td>0.480860</td>\n",
       "      <td>LABEL_4</td>\n",
       "      <td>0.480860</td>\n",
       "      <td>0.001491</td>\n",
       "      <td>0.082956</td>\n",
       "      <td>0.915553</td>\n",
       "      <td>LABEL_4</td>\n",
       "      <td>0.915553</td>\n",
       "      <td>LABEL_4</td>\n",
       "    </tr>\n",
       "    <tr>\n",
       "      <th>31964</th>\n",
       "      <td>Oh wow thanks!</td>\n",
       "      <td>32103</td>\n",
       "      <td>0.028997</td>\n",
       "      <td>0.014281</td>\n",
       "      <td>0.033663</td>\n",
       "      <td>0.163731</td>\n",
       "      <td>0.759328</td>\n",
       "      <td>LABEL_4</td>\n",
       "      <td>0.759328</td>\n",
       "      <td>0.000389</td>\n",
       "      <td>...</td>\n",
       "      <td>0.167038</td>\n",
       "      <td>0.755589</td>\n",
       "      <td>LABEL_4</td>\n",
       "      <td>0.755589</td>\n",
       "      <td>0.002601</td>\n",
       "      <td>0.033757</td>\n",
       "      <td>0.963642</td>\n",
       "      <td>LABEL_4</td>\n",
       "      <td>0.963642</td>\n",
       "      <td>LABEL_4</td>\n",
       "    </tr>\n",
       "    <tr>\n",
       "      <th>5860</th>\n",
       "      <td>Ok. That's a lot. How can I get scholarships, ...</td>\n",
       "      <td>5905</td>\n",
       "      <td>0.509104</td>\n",
       "      <td>0.344188</td>\n",
       "      <td>0.123805</td>\n",
       "      <td>0.014865</td>\n",
       "      <td>0.008037</td>\n",
       "      <td>LABEL_0</td>\n",
       "      <td>0.509104</td>\n",
       "      <td>0.997489</td>\n",
       "      <td>...</td>\n",
       "      <td>0.065714</td>\n",
       "      <td>0.005415</td>\n",
       "      <td>LABEL_2</td>\n",
       "      <td>0.775118</td>\n",
       "      <td>0.442557</td>\n",
       "      <td>0.507168</td>\n",
       "      <td>0.050275</td>\n",
       "      <td>LABEL_2</td>\n",
       "      <td>0.507168</td>\n",
       "      <td>LABEL_0</td>\n",
       "    </tr>\n",
       "    <tr>\n",
       "      <th>20562</th>\n",
       "      <td>Let me go talk to Financial Aid and see what t...</td>\n",
       "      <td>20650</td>\n",
       "      <td>0.794355</td>\n",
       "      <td>0.130790</td>\n",
       "      <td>0.060889</td>\n",
       "      <td>0.009323</td>\n",
       "      <td>0.004642</td>\n",
       "      <td>LABEL_0</td>\n",
       "      <td>0.794355</td>\n",
       "      <td>0.034700</td>\n",
       "      <td>...</td>\n",
       "      <td>0.146523</td>\n",
       "      <td>0.335772</td>\n",
       "      <td>LABEL_4</td>\n",
       "      <td>0.335772</td>\n",
       "      <td>0.032476</td>\n",
       "      <td>0.895701</td>\n",
       "      <td>0.071823</td>\n",
       "      <td>LABEL_2</td>\n",
       "      <td>0.895701</td>\n",
       "      <td>LABEL_4</td>\n",
       "    </tr>\n",
       "    <tr>\n",
       "      <th>40024</th>\n",
       "      <td>Thank you I would highly appreciate it because...</td>\n",
       "      <td>40208</td>\n",
       "      <td>0.149719</td>\n",
       "      <td>0.122106</td>\n",
       "      <td>0.167176</td>\n",
       "      <td>0.191398</td>\n",
       "      <td>0.369601</td>\n",
       "      <td>LABEL_4</td>\n",
       "      <td>0.369601</td>\n",
       "      <td>0.004801</td>\n",
       "      <td>...</td>\n",
       "      <td>0.287317</td>\n",
       "      <td>0.280695</td>\n",
       "      <td>LABEL_3</td>\n",
       "      <td>0.287317</td>\n",
       "      <td>0.001174</td>\n",
       "      <td>0.017342</td>\n",
       "      <td>0.981484</td>\n",
       "      <td>LABEL_4</td>\n",
       "      <td>0.981484</td>\n",
       "      <td>LABEL_4</td>\n",
       "    </tr>\n",
       "  </tbody>\n",
       "</table>\n",
       "<p>10 rows × 31 columns</p>\n",
       "</div>"
      ],
      "text/plain": [
       "                                                    text  index  LABEL_0_yelp  \\\n",
       "15726  Really all great options! GMU has a Transfer S...  15793      0.002457   \n",
       "28908  Yes. you will complete EMT AAS program in Fall...  29036      0.022288   \n",
       "5648                                           Yes u can   5692      0.056423   \n",
       "13421             How about next Tuesday (2/13) at 2:00?  13480      0.197279   \n",
       "12395  My name is - I am a Mobile Academic Advisor fo...  12454      0.193696   \n",
       "22398  appointment with any of the advisors available...  22497      0.012195   \n",
       "31964                                     Oh wow thanks!  32103      0.028997   \n",
       "5860   Ok. That's a lot. How can I get scholarships, ...   5905      0.509104   \n",
       "20562  Let me go talk to Financial Aid and see what t...  20650      0.794355   \n",
       "40024  Thank you I would highly appreciate it because...  40208      0.149719   \n",
       "\n",
       "       LABEL_1_yelp  LABEL_2_yelp  LABEL_3_yelp  LABEL_4_yelp  \\\n",
       "15726      0.004904      0.080207      0.546224      0.366208   \n",
       "28908      0.019506      0.073199      0.248149      0.636857   \n",
       "5648       0.058126      0.221824      0.346719      0.316909   \n",
       "13421      0.192458      0.353186      0.174817      0.082260   \n",
       "12395      0.087219      0.173809      0.228734      0.316542   \n",
       "22398      0.010705      0.047738      0.219233      0.710129   \n",
       "31964      0.014281      0.033663      0.163731      0.759328   \n",
       "5860       0.344188      0.123805      0.014865      0.008037   \n",
       "20562      0.130790      0.060889      0.009323      0.004642   \n",
       "40024      0.122106      0.167176      0.191398      0.369601   \n",
       "\n",
       "      label_predict_yelp  label_prob_yelp  LABEL_0_xlnet  ...  LABEL_3_bert  \\\n",
       "15726            LABEL_3         0.546224       0.003157  ...      0.231343   \n",
       "28908            LABEL_4         0.636857       0.017205  ...      0.293369   \n",
       "5648             LABEL_3         0.346719       0.004031  ...      0.239441   \n",
       "13421            LABEL_2         0.353186       0.700990  ...      0.054731   \n",
       "12395            LABEL_4         0.316542       0.030049  ...      0.280935   \n",
       "22398            LABEL_4         0.710129       0.001060  ...      0.396337   \n",
       "31964            LABEL_4         0.759328       0.000389  ...      0.167038   \n",
       "5860             LABEL_0         0.509104       0.997489  ...      0.065714   \n",
       "20562            LABEL_0         0.794355       0.034700  ...      0.146523   \n",
       "40024            LABEL_4         0.369601       0.004801  ...      0.287317   \n",
       "\n",
       "      LABEL_4_bert  label_predict_bert  label_prob_bert  LABEL_0_twit  \\\n",
       "15726     0.726762             LABEL_4         0.726762      0.001751   \n",
       "28908     0.355197             LABEL_4         0.355197      0.005365   \n",
       "5648      0.510596             LABEL_4         0.510596      0.009988   \n",
       "13421     0.039769             LABEL_0         0.485427      0.021914   \n",
       "12395     0.472071             LABEL_4         0.472071      0.011784   \n",
       "22398     0.480860             LABEL_4         0.480860      0.001491   \n",
       "31964     0.755589             LABEL_4         0.755589      0.002601   \n",
       "5860      0.005415             LABEL_2         0.775118      0.442557   \n",
       "20562     0.335772             LABEL_4         0.335772      0.032476   \n",
       "40024     0.280695             LABEL_3         0.287317      0.001174   \n",
       "\n",
       "      LABEL_2_twit  LABEL_4_twit label_predict_twit  label_prob_twit  \\\n",
       "15726     0.042814      0.955435            LABEL_4         0.955435   \n",
       "28908     0.551490      0.443145            LABEL_2         0.551490   \n",
       "5648      0.218118      0.771895            LABEL_4         0.771895   \n",
       "13421     0.931711      0.046375            LABEL_2         0.931711   \n",
       "12395     0.898503      0.089713            LABEL_2         0.898503   \n",
       "22398     0.082956      0.915553            LABEL_4         0.915553   \n",
       "31964     0.033757      0.963642            LABEL_4         0.963642   \n",
       "5860      0.507168      0.050275            LABEL_2         0.507168   \n",
       "20562     0.895701      0.071823            LABEL_2         0.895701   \n",
       "40024     0.017342      0.981484            LABEL_4         0.981484   \n",
       "\n",
       "       label_predict_imdb  \n",
       "15726             LABEL_4  \n",
       "28908             LABEL_4  \n",
       "5648              LABEL_4  \n",
       "13421             LABEL_4  \n",
       "12395             LABEL_4  \n",
       "22398             LABEL_4  \n",
       "31964             LABEL_4  \n",
       "5860              LABEL_0  \n",
       "20562             LABEL_4  \n",
       "40024             LABEL_4  \n",
       "\n",
       "[10 rows x 31 columns]"
      ]
     },
     "execution_count": 120,
     "metadata": {},
     "output_type": "execute_result"
    }
   ],
   "source": [
    "data_analyze.sample(10, random_state=1234)"
   ]
  },
  {
   "cell_type": "markdown",
   "metadata": {
    "id": "ZOiYnW9VgLG8"
   },
   "source": [
    "### Output the dataset"
   ]
  },
  {
   "cell_type": "code",
   "execution_count": 121,
   "metadata": {},
   "outputs": [],
   "source": [
    "filepath = '../../N2FL NLP/data/03a_sentiment_prep_masked.csv'"
   ]
  },
  {
   "cell_type": "code",
   "execution_count": 122,
   "metadata": {},
   "outputs": [],
   "source": [
    "data_analyze.to_csv(filepath)"
   ]
  },
  {
   "cell_type": "code",
   "execution_count": null,
   "metadata": {},
   "outputs": [],
   "source": []
  }
 ],
 "metadata": {
  "accelerator": "GPU",
  "colab": {
   "authorship_tag": "ABX9TyMAuEB3gWvsNBmtDDWB1XwO",
   "collapsed_sections": [],
   "mount_file_id": "1PoEqjCSL3iefMoqJ81U-W8wQhtyQLU3-",
   "name": "03a_sentiment_analysis.ipynb",
   "provenance": []
  },
  "kernelspec": {
   "display_name": "Python 3",
   "language": "python",
   "name": "python3"
  },
  "language_info": {
   "codemirror_mode": {
    "name": "ipython",
    "version": 3
   },
   "file_extension": ".py",
   "mimetype": "text/x-python",
   "name": "python",
   "nbconvert_exporter": "python",
   "pygments_lexer": "ipython3",
   "version": "3.8.8"
  }
 },
 "nbformat": 4,
 "nbformat_minor": 4
}
