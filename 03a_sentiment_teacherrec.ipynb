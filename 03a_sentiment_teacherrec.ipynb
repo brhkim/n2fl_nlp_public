{
 "cells": [
  {
   "cell_type": "markdown",
   "metadata": {
    "id": "CPs-DM2VCxsi"
   },
   "source": [
    "# Basic Setup\n"
   ]
  },
  {
   "cell_type": "markdown",
   "metadata": {
    "id": "C5ypF5nCMn_s"
   },
   "source": [
    "### Import libraries"
   ]
  },
  {
   "cell_type": "code",
   "execution_count": null,
   "metadata": {
    "id": "bHVXjMuWBNun"
   },
   "outputs": [],
   "source": [
    "import os\n",
    "import pandas as pd\n",
    "import numpy as np\n",
    "import time\n",
    "import seaborn as sns\n",
    "import matplotlib.pyplot as plt\n",
    "import tensorflow as tf\n",
    "\n",
    "from sklearn import model_selection\n",
    "from sklearn import ensemble\n",
    "from sklearn.model_selection import RandomizedSearchCV\n",
    "from sklearn.metrics import confusion_matrix \n",
    "from sklearn.metrics import accuracy_score \n",
    "from sklearn.metrics import classification_report \n",
    "\n",
    "from sklearn.model_selection import cross_val_score\n",
    "\n",
    "from transformers import AutoTokenizer, AutoModelForSequenceClassification, pipeline, AutoModelForSeq2SeqLM\n",
    "# likely will also require installation of the sentencepiece library\n",
    "\n",
    "import stanza\n",
    "# Will require downloading their English pre-trained models using the below command:\n",
    "# stanza.download('en')"
   ]
  },
  {
   "cell_type": "code",
   "execution_count": null,
   "metadata": {
    "scrolled": true
   },
   "outputs": [],
   "source": [
    "import pytorch"
   ]
  },
  {
   "cell_type": "markdown",
   "metadata": {
    "id": "pL3AHq99MuD7"
   },
   "source": [
    "### Check that GPU loaded correctly"
   ]
  },
  {
   "cell_type": "code",
   "execution_count": null,
   "metadata": {
    "colab": {
     "base_uri": "https://localhost:8080/"
    },
    "executionInfo": {
     "elapsed": 16672,
     "status": "ok",
     "timestamp": 1617289224468,
     "user": {
      "displayName": "Brian Kim",
      "photoUrl": "https://lh3.googleusercontent.com/a-/AOh14GheK6fjKCJnJKGaH7uYzy5meG555MjbR-ZMdGLarA=s64",
      "userId": "17231552563920409361"
     },
     "user_tz": 240
    },
    "id": "np7bvcrXO_xT",
    "outputId": "a466cce0-eb36-423e-8834-e967bdd4e6f1"
   },
   "outputs": [],
   "source": [
    "device_name = tf.test.gpu_device_name()\n",
    "if device_name != '/device:GPU:0':\n",
    "    raise SystemError('GPU device not found')\n",
    "print('Found GPU at: {}'.format(device_name))"
   ]
  },
  {
   "cell_type": "markdown",
   "metadata": {
    "id": "Dc08_JPJC9vi"
   },
   "source": [
    "# Begin creating NLP sentiment analysis pipeline"
   ]
  },
  {
   "cell_type": "markdown",
   "metadata": {
    "id": "g8PJXSYYM8E0"
   },
   "source": [
    "### Define various sentiment analysis models"
   ]
  },
  {
   "cell_type": "code",
   "execution_count": null,
   "metadata": {
    "id": "i5rUbkY9-act"
   },
   "outputs": [],
   "source": [
    "# https://huggingface.co/gilf/english-yelp-sentiment\n",
    "yelp_all = pipeline(task=\"sentiment-analysis\", model = AutoModelForSequenceClassification.from_pretrained(\"gilf/english-yelp-sentiment\"), tokenizer = AutoTokenizer.from_pretrained(\"gilf/english-yelp-sentiment\"), device = 0, return_all_scores=True)"
   ]
  },
  {
   "cell_type": "code",
   "execution_count": null,
   "metadata": {
    "id": "duxlk-V7M7gu"
   },
   "outputs": [],
   "source": [
    "# https://huggingface.co/nlptown/bert-base-multilingual-uncased-sentiment\n",
    "bert_all = pipeline(task=\"sentiment-analysis\", model = AutoModelForSequenceClassification.from_pretrained(\"nlptown/bert-base-multilingual-uncased-sentiment\"), tokenizer = AutoTokenizer.from_pretrained(\"nlptown/bert-base-multilingual-uncased-sentiment\"), device = 0, return_all_scores=True)"
   ]
  },
  {
   "cell_type": "code",
   "execution_count": null,
   "metadata": {
    "id": "poDFtdOBQR6m"
   },
   "outputs": [],
   "source": [
    "# https://huggingface.co/cardiffnlp/twitter-roberta-base-sentiment\n",
    "twit_all = pipeline(task=\"sentiment-analysis\", model = AutoModelForSequenceClassification.from_pretrained(\"cardiffnlp/twitter-roberta-base-sentiment\"), tokenizer = AutoTokenizer.from_pretrained(\"cardiffnlp/twitter-roberta-base-sentiment\", model_max_length=500, truncation=True), device = 0, return_all_scores=True)"
   ]
  },
  {
   "cell_type": "code",
   "execution_count": null,
   "metadata": {
    "id": "s3w9HFjEKTfc"
   },
   "outputs": [],
   "source": [
    "# https://huggingface.co/textattack/xlnet-large-cased-SST-2\n",
    "xlnet_all = pipeline(task=\"sentiment-analysis\", model = AutoModelForSequenceClassification.from_pretrained(\"textattack/xlnet-base-cased-SST-2\"), tokenizer = AutoTokenizer.from_pretrained(\"textattack/xlnet-base-cased-SST-2\"), device = 0, return_all_scores=True)"
   ]
  },
  {
   "cell_type": "code",
   "execution_count": null,
   "metadata": {
    "id": "Yf9VxWNvS3RU"
   },
   "outputs": [],
   "source": [
    "# https://huggingface.co/mrm8488/t5-base-finetuned-imdb-sentiment\n",
    "imdb_all = pipeline(task=\"text2text-generation\", model = AutoModelForSeq2SeqLM.from_pretrained(\"mrm8488/t5-base-finetuned-imdb-sentiment\"), tokenizer = AutoTokenizer.from_pretrained(\"mrm8488/t5-base-finetuned-imdb-sentiment\"), device = 0)"
   ]
  },
  {
   "cell_type": "code",
   "execution_count": null,
   "metadata": {
    "id": "bipDPf1EKTFl"
   },
   "outputs": [],
   "source": [
    "# https://huggingface.co/textattack/albert-base-v2-SST-2\n",
    "albert_all = pipeline(task=\"sentiment-analysis\", model = AutoModelForSequenceClassification.from_pretrained(\"textattack/albert-base-v2-SST-2\"), tokenizer = AutoTokenizer.from_pretrained(\"textattack/albert-base-v2-SST-2\", use_fast=False), device = 0, return_all_scores=True)"
   ]
  },
  {
   "cell_type": "code",
   "execution_count": null,
   "metadata": {
    "colab": {
     "base_uri": "https://localhost:8080/"
    },
    "executionInfo": {
     "elapsed": 46668,
     "status": "ok",
     "timestamp": 1617289255463,
     "user": {
      "displayName": "Brian Kim",
      "photoUrl": "https://lh3.googleusercontent.com/a-/AOh14GheK6fjKCJnJKGaH7uYzy5meG555MjbR-ZMdGLarA=s64",
      "userId": "17231552563920409361"
     },
     "user_tz": 240
    },
    "id": "fvi9LllTWATZ",
    "outputId": "8ef1240e-9175-4ac9-90b3-59592b29d601"
   },
   "outputs": [],
   "source": [
    "stanza_top = stanza.Pipeline(lang='en', processors='tokenize,sentiment')"
   ]
  },
  {
   "cell_type": "markdown",
   "metadata": {
    "id": "9zxMGwutbcNY"
   },
   "source": [
    "### Define pipeline for running sentiment analysis and charting output"
   ]
  },
  {
   "cell_type": "code",
   "execution_count": null,
   "metadata": {
    "id": "0p02ZeFxJCJO"
   },
   "outputs": [],
   "source": [
    "# Function to run the sentiment analysis algorithm on a specific string of text\n",
    "# and input the results into a tidy series\n",
    "#\n",
    "# ARGS:\n",
    "# text - String of text to be analyzed\n",
    "# model - one of \"yelp\", \"bert\", \"twit\", \"xlnet\", \"albert\", or \"stanza\"\n",
    "\n",
    "def save_sentiment(text, model):\n",
    "    # Run analyses and save results\n",
    "    if model==\"yelp\":\n",
    "        temp_all = yelp_all(text)\n",
    "\n",
    "        # Output results into a dataframe\n",
    "        d = pd.Series({'LABEL_0':temp_all[0][0][\"score\"], 'LABEL_1': temp_all[0][1][\"score\"], 'LABEL_2': temp_all[0][2][\"score\"], 'LABEL_3': temp_all[0][3][\"score\"], 'LABEL_4': temp_all[0][4][\"score\"]})\n",
    "        d2 = pd.Series({'label_predict': d.idxmax(), 'label_prob': d.max()})\n",
    "        d = d.append(d2)\n",
    "    \n",
    "    elif model==\"bert\":\n",
    "        temp_all = bert_all(text)\n",
    "\n",
    "        # Output results into a dataframe\n",
    "        d = pd.Series({'LABEL_0':temp_all[0][0][\"score\"], 'LABEL_1': temp_all[0][1][\"score\"], 'LABEL_2': temp_all[0][2][\"score\"], 'LABEL_3': temp_all[0][3][\"score\"], 'LABEL_4': temp_all[0][4][\"score\"]})\n",
    "        d2 = pd.Series({'label_predict': d.idxmax(), 'label_prob': d.max()})\n",
    "        d = d.append(d2)\n",
    "\n",
    "    elif model==\"twit\":\n",
    "        temp_all = twit_all(text)\n",
    "\n",
    "        # Output results into a dataframe\n",
    "        d = pd.Series({'LABEL_0':temp_all[0][0][\"score\"], 'LABEL_2': temp_all[0][1][\"score\"], 'LABEL_4': temp_all[0][2][\"score\"]})\n",
    "        d2 = pd.Series({'label_predict': d.idxmax(), 'label_prob': d.max()})\n",
    "        d = d.append(d2)\n",
    "\n",
    "    elif model==\"xlnet\":\n",
    "        temp_all = xlnet_all(text)\n",
    "\n",
    "        # Output results into a dataframe\n",
    "        d = pd.Series({'LABEL_0':temp_all[0][0][\"score\"], 'LABEL_4': temp_all[0][1][\"score\"]})\n",
    "        d2 = pd.Series({'label_predict': d.idxmax(), 'label_prob': d.max()})\n",
    "        d = d.append(d2)\n",
    "\n",
    "    elif model==\"imdb\":\n",
    "        temp_all = imdb_all(text)\n",
    "\n",
    "        # Output results into a dataframe\n",
    "        if temp_all[0][\"generated_text\"]==\"negative\":\n",
    "            d = pd.Series({'label_predict': \"LABEL_0\"})\n",
    "        elif temp_all[0][\"generated_text\"]==\"positive\":\n",
    "            d = pd.Series({'label_predict': \"LABEL_4\"})\n",
    "        else:\n",
    "            d = pd.Series({'label_predict': \"LABEL_2\"})\n",
    "\n",
    "    elif model==\"albert\":\n",
    "        temp_all = albert_all(text)\n",
    "\n",
    "        # Output results into a dataframe\n",
    "        d = pd.Series({'LABEL_0':temp_all[0][0][\"score\"], 'LABEL_4': temp_all[0][1][\"score\"]})\n",
    "        d2 = pd.Series({'label_predict': d.idxmax(), 'label_prob': d.max()})\n",
    "        d = d.append(d2)\n",
    "    \n",
    "    elif model==\"stanza\":\n",
    "        temp = stanza_top(text)\n",
    "        for i, sentence in enumerate(temp.sentences):\n",
    "            if sentence.sentiment==0:\n",
    "                d = pd.Series({'label_predict': \"LABEL_0\"})\n",
    "            elif sentence.sentiment==1:\n",
    "                d = pd.Series({'label_predict': \"LABEL_2\"})\n",
    "            elif sentence.sentiment==2:\n",
    "                d = pd.Series({'label_predict': \"LABEL_4\"})\n",
    "\n",
    "    # Print it\n",
    "    return d\n",
    "  "
   ]
  },
  {
   "cell_type": "code",
   "execution_count": null,
   "metadata": {},
   "outputs": [],
   "source": [
    "def get_sentiment(dataset, text_column, model):\n",
    "    start_time = time.time()\n",
    "\n",
    "    temp = dataset[text_column].apply(save_sentiment, model=model)\n",
    "    print(\"--- %s seconds ---\" % (time.time() - start_time))\n",
    "    temp = pd.concat([dataset, temp], axis=1)\n",
    "    return temp"
   ]
  },
  {
   "cell_type": "code",
   "execution_count": null,
   "metadata": {
    "id": "o4wylvyfRAxI"
   },
   "outputs": [],
   "source": [
    "# Function to quickly and visually display the accuracy metrics of the sentiment\n",
    "# analysis algorithm in a confusion matrix and standard measures\n",
    "#\n",
    "# ARGS:\n",
    "# truevals - Dataframe column of true values\n",
    "# predictvals - Dataframe column of predicted values\n",
    "\n",
    "def prediction_test(truevals, predictvals):\n",
    "    sns.set(font_scale=1.2, rc={'figure.figsize':(11.7,8.27)})\n",
    "    cm = confusion_matrix(truevals, predictvals)\n",
    "    ax = plt.subplot()\n",
    "    sns.heatmap(cm, annot=True, ax = ax, cmap='Greens', fmt='g')\n",
    "    ax.set_xlabel('Predicted labels');ax.set_ylabel('True labels')\n",
    "    ax.set_title('Confusion Matrix')\n",
    "\n",
    "    print(classification_report(truevals, predictvals))"
   ]
  },
  {
   "cell_type": "markdown",
   "metadata": {},
   "source": [
    "# Apply to Stanford Sentiment Treebank and Benchmark"
   ]
  },
  {
   "cell_type": "markdown",
   "metadata": {
    "id": "Xswgb54gDGse"
   },
   "source": [
    "### Load in Stanford Sentiment Treebank to benchmark performance"
   ]
  },
  {
   "cell_type": "code",
   "execution_count": null,
   "metadata": {
    "colab": {
     "base_uri": "https://localhost:8080/"
    },
    "executionInfo": {
     "elapsed": 91905,
     "status": "ok",
     "timestamp": 1617289300730,
     "user": {
      "displayName": "Brian Kim",
      "photoUrl": "https://lh3.googleusercontent.com/a-/AOh14GheK6fjKCJnJKGaH7uYzy5meG555MjbR-ZMdGLarA=s64",
      "userId": "17231552563920409361"
     },
     "user_tz": 240
    },
    "id": "zVy7unsoAmk0",
    "outputId": "8af23c97-f00a-488c-e000-f65d7f0ac311"
   },
   "outputs": [],
   "source": [
    "sst5_train = pd.read_csv(\"../../N2FL NLP/data/train.tsv\", sep=\"\\t\", encoding='utf-8')\n",
    "# source: https://raw.githubusercontent.com/brhkim/Albert-Sentiment-Analysis/master/data/train.tsv\n",
    "sst5_test = pd.read_csv(\"../../N2FL NLP/data/test.tsv\", sep=\"\\t\", encoding='utf-8')\n",
    "# source: https://raw.githubusercontent.com/brhkim/Albert-Sentiment-Analysis/master/data/test.tsv"
   ]
  },
  {
   "cell_type": "code",
   "execution_count": null,
   "metadata": {
    "id": "Z0OVxY2-Cu0V"
   },
   "outputs": [],
   "source": [
    "# Basic relabeling to mesh with algorithm output\n",
    "sst5_train.loc[sst5_train.label == \"very neg\", \"label\"] = \"LABEL_0\"\n",
    "sst5_train.loc[sst5_train.label == \"neg\", \"label\"] = \"LABEL_1\"\n",
    "sst5_train.loc[sst5_train.label == \"neu\", \"label\"] = \"LABEL_2\"\n",
    "sst5_train.loc[sst5_train.label == \"pos\", \"label\"] = \"LABEL_3\"\n",
    "sst5_train.loc[sst5_train.label == \"very pos\", \"label\"] = \"LABEL_4\""
   ]
  },
  {
   "cell_type": "code",
   "execution_count": null,
   "metadata": {
    "id": "JI8WBJx7EHm6"
   },
   "outputs": [],
   "source": [
    "sst5_test.loc[sst5_test.label == \"very neg\", \"label\"] = \"LABEL_0\"\n",
    "sst5_test.loc[sst5_test.label == \"neg\", \"label\"] = \"LABEL_1\"\n",
    "sst5_test.loc[sst5_test.label == \"neu\", \"label\"] = \"LABEL_2\"\n",
    "sst5_test.loc[sst5_test.label == \"pos\", \"label\"] = \"LABEL_3\"\n",
    "sst5_test.loc[sst5_test.label == \"very pos\", \"label\"] = \"LABEL_4\""
   ]
  },
  {
   "cell_type": "code",
   "execution_count": null,
   "metadata": {
    "colab": {
     "base_uri": "https://localhost:8080/"
    },
    "executionInfo": {
     "elapsed": 91889,
     "status": "ok",
     "timestamp": 1617289300733,
     "user": {
      "displayName": "Brian Kim",
      "photoUrl": "https://lh3.googleusercontent.com/a-/AOh14GheK6fjKCJnJKGaH7uYzy5meG555MjbR-ZMdGLarA=s64",
      "userId": "17231552563920409361"
     },
     "user_tz": 240
    },
    "id": "c85yeyjZDzxa",
    "outputId": "daf9c627-5ae9-48b7-8800-f5e95e0ced9d"
   },
   "outputs": [],
   "source": [
    "# Preview test dataset\n",
    "sst5_test.sample(5, random_state=1234)"
   ]
  },
  {
   "cell_type": "code",
   "execution_count": null,
   "metadata": {
    "id": "LYOMniaaYtDC"
   },
   "outputs": [],
   "source": [
    "# Make a 3-class SST dataset\n",
    "sst3_train = sst5_train.copy()\n",
    "sst3_train.loc[sst3_train.label == \"LABEL_1\", \"label\"] = \"LABEL_0\"\n",
    "sst3_train.loc[sst3_train.label == \"LABEL_3\", \"label\"] = \"LABEL_4\"\n",
    "\n",
    "sst3_test = sst5_test.copy()\n",
    "sst3_test.loc[sst3_test.label == \"LABEL_1\", \"label\"] = \"LABEL_0\"\n",
    "sst3_test.loc[sst3_test.label == \"LABEL_3\", \"label\"] = \"LABEL_4\""
   ]
  },
  {
   "cell_type": "code",
   "execution_count": null,
   "metadata": {
    "colab": {
     "base_uri": "https://localhost:8080/"
    },
    "executionInfo": {
     "elapsed": 91876,
     "status": "ok",
     "timestamp": 1617289300734,
     "user": {
      "displayName": "Brian Kim",
      "photoUrl": "https://lh3.googleusercontent.com/a-/AOh14GheK6fjKCJnJKGaH7uYzy5meG555MjbR-ZMdGLarA=s64",
      "userId": "17231552563920409361"
     },
     "user_tz": 240
    },
    "id": "dPwuYPWsaw6M",
    "outputId": "f4b09079-7ced-4a71-aba2-0c4daf6f92d7"
   },
   "outputs": [],
   "source": [
    "sst3_test.sample(5, random_state=1234)"
   ]
  },
  {
   "cell_type": "code",
   "execution_count": null,
   "metadata": {
    "id": "SCoGa3_ZY1vu"
   },
   "outputs": [],
   "source": [
    "# Make a 2-class SST dataset\n",
    "sst2_train = sst3_train[sst3_train['label']!=\"LABEL_2\"].copy()\n",
    "sst2_test = sst3_test[sst3_test['label']!=\"LABEL_2\"].copy()"
   ]
  },
  {
   "cell_type": "markdown",
   "metadata": {
    "id": "DS_iZkK4bjgd"
   },
   "source": [
    "# Run and evaluate various sentiment analysis pipelines on SST data"
   ]
  },
  {
   "cell_type": "markdown",
   "metadata": {
    "id": "SjXWDacwboV6"
   },
   "source": [
    "### Yelp BERT model"
   ]
  },
  {
   "cell_type": "code",
   "execution_count": null,
   "metadata": {
    "colab": {
     "base_uri": "https://localhost:8080/"
    },
    "executionInfo": {
     "elapsed": 379668,
     "status": "ok",
     "timestamp": 1617276424824,
     "user": {
      "displayName": "Brian Kim",
      "photoUrl": "https://lh3.googleusercontent.com/a-/AOh14GheK6fjKCJnJKGaH7uYzy5meG555MjbR-ZMdGLarA=s64",
      "userId": "17231552563920409361"
     },
     "user_tz": 240
    },
    "id": "F9pyhBRkLjmy",
    "outputId": "df1b1e5a-3e02-4c0f-84ff-b1abdbbff4fe"
   },
   "outputs": [],
   "source": [
    "yelp_test = get_sentiment(sst5_test, \"text\", \"yelp\")"
   ]
  },
  {
   "cell_type": "code",
   "execution_count": null,
   "metadata": {
    "colab": {
     "base_uri": "https://localhost:8080/"
    },
    "executionInfo": {
     "elapsed": 379659,
     "status": "ok",
     "timestamp": 1617276424826,
     "user": {
      "displayName": "Brian Kim",
      "photoUrl": "https://lh3.googleusercontent.com/a-/AOh14GheK6fjKCJnJKGaH7uYzy5meG555MjbR-ZMdGLarA=s64",
      "userId": "17231552563920409361"
     },
     "user_tz": 240
    },
    "id": "DOKPJgfxR9ai",
    "outputId": "e25868e0-f6f2-43bb-df19-24effd87abc3"
   },
   "outputs": [],
   "source": [
    "yelp_test.sample(5, random_state=1236)"
   ]
  },
  {
   "cell_type": "code",
   "execution_count": null,
   "metadata": {
    "colab": {
     "base_uri": "https://localhost:8080/"
    },
    "executionInfo": {
     "elapsed": 381139,
     "status": "ok",
     "timestamp": 1617276426317,
     "user": {
      "displayName": "Brian Kim",
      "photoUrl": "https://lh3.googleusercontent.com/a-/AOh14GheK6fjKCJnJKGaH7uYzy5meG555MjbR-ZMdGLarA=s64",
      "userId": "17231552563920409361"
     },
     "user_tz": 240
    },
    "id": "Od7JEH62SaaR",
    "outputId": "024ae849-e5a1-46df-ab00-e62797cb8471"
   },
   "outputs": [],
   "source": [
    "prediction_test(yelp_test[\"label\"], yelp_test[\"label_predict\"])\n",
    "plt.savefig('../../N2FL NLP/output/03a_yelp_test.png')"
   ]
  },
  {
   "cell_type": "markdown",
   "metadata": {
    "id": "kBNyOenmbt_O"
   },
   "source": [
    "### Stanza Sentiment Analysis CNN"
   ]
  },
  {
   "cell_type": "code",
   "execution_count": null,
   "metadata": {
    "colab": {
     "base_uri": "https://localhost:8080/"
    },
    "executionInfo": {
     "elapsed": 413510,
     "status": "ok",
     "timestamp": 1617276458700,
     "user": {
      "displayName": "Brian Kim",
      "photoUrl": "https://lh3.googleusercontent.com/a-/AOh14GheK6fjKCJnJKGaH7uYzy5meG555MjbR-ZMdGLarA=s64",
      "userId": "17231552563920409361"
     },
     "user_tz": 240
    },
    "id": "FGtHIoYEWQXo",
    "outputId": "3df63ebe-3549-4470-8cdd-b4159147ca35"
   },
   "outputs": [],
   "source": [
    "stanza_test = get_sentiment(sst3_test, \"text\", \"stanza\")"
   ]
  },
  {
   "cell_type": "code",
   "execution_count": null,
   "metadata": {
    "colab": {
     "base_uri": "https://localhost:8080/"
    },
    "executionInfo": {
     "elapsed": 413501,
     "status": "ok",
     "timestamp": 1617276458701,
     "user": {
      "displayName": "Brian Kim",
      "photoUrl": "https://lh3.googleusercontent.com/a-/AOh14GheK6fjKCJnJKGaH7uYzy5meG555MjbR-ZMdGLarA=s64",
      "userId": "17231552563920409361"
     },
     "user_tz": 240
    },
    "id": "ahs4ZVmtWh86",
    "outputId": "a5f8944a-3457-4c49-8454-0a1c0601bdbf"
   },
   "outputs": [],
   "source": [
    "stanza_test.sample(5, random_state=1237)"
   ]
  },
  {
   "cell_type": "code",
   "execution_count": null,
   "metadata": {
    "colab": {
     "base_uri": "https://localhost:8080/"
    },
    "executionInfo": {
     "elapsed": 414297,
     "status": "ok",
     "timestamp": 1617276459509,
     "user": {
      "displayName": "Brian Kim",
      "photoUrl": "https://lh3.googleusercontent.com/a-/AOh14GheK6fjKCJnJKGaH7uYzy5meG555MjbR-ZMdGLarA=s64",
      "userId": "17231552563920409361"
     },
     "user_tz": 240
    },
    "id": "DSLL_u3wXpSy",
    "outputId": "9c4c03d2-79da-426b-dce2-426a0d25232d"
   },
   "outputs": [],
   "source": [
    "prediction_test(stanza_test[\"label\"], stanza_test[\"label_predict\"])\n",
    "plt.savefig('../../N2FL NLP/output/03a_stanza_test.png')"
   ]
  },
  {
   "cell_type": "markdown",
   "metadata": {
    "id": "VEENVefKhB5N"
   },
   "source": [
    "### TextAttack Albert Model"
   ]
  },
  {
   "cell_type": "code",
   "execution_count": null,
   "metadata": {
    "colab": {
     "base_uri": "https://localhost:8080/"
    },
    "executionInfo": {
     "elapsed": 479223,
     "status": "ok",
     "timestamp": 1617276524447,
     "user": {
      "displayName": "Brian Kim",
      "photoUrl": "https://lh3.googleusercontent.com/a-/AOh14GheK6fjKCJnJKGaH7uYzy5meG555MjbR-ZMdGLarA=s64",
      "userId": "17231552563920409361"
     },
     "user_tz": 240
    },
    "id": "M9vjzoOZhH_s",
    "outputId": "566c86a1-c2ff-4889-892b-d5005b53614c"
   },
   "outputs": [],
   "source": [
    "albert_test = get_sentiment(sst2_test, \"text\", \"albert\")"
   ]
  },
  {
   "cell_type": "code",
   "execution_count": null,
   "metadata": {
    "colab": {
     "base_uri": "https://localhost:8080/"
    },
    "executionInfo": {
     "elapsed": 479216,
     "status": "ok",
     "timestamp": 1617276524449,
     "user": {
      "displayName": "Brian Kim",
      "photoUrl": "https://lh3.googleusercontent.com/a-/AOh14GheK6fjKCJnJKGaH7uYzy5meG555MjbR-ZMdGLarA=s64",
      "userId": "17231552563920409361"
     },
     "user_tz": 240
    },
    "id": "UAWC7TJRhP5K",
    "outputId": "df0f03db-27bb-4f0d-a407-7b02cee4356e"
   },
   "outputs": [],
   "source": [
    "albert_test.head()"
   ]
  },
  {
   "cell_type": "code",
   "execution_count": null,
   "metadata": {
    "colab": {
     "base_uri": "https://localhost:8080/"
    },
    "executionInfo": {
     "elapsed": 480500,
     "status": "ok",
     "timestamp": 1617276525745,
     "user": {
      "displayName": "Brian Kim",
      "photoUrl": "https://lh3.googleusercontent.com/a-/AOh14GheK6fjKCJnJKGaH7uYzy5meG555MjbR-ZMdGLarA=s64",
      "userId": "17231552563920409361"
     },
     "user_tz": 240
    },
    "id": "wECAKU-4hisd",
    "outputId": "a68e8a73-857a-4c3d-ac4a-a871b83a34d5"
   },
   "outputs": [],
   "source": [
    "prediction_test(albert_test[\"label\"], albert_test[\"label_predict\"])\n",
    "plt.savefig('../../N2FL NLP/output/03a_albert_test.png')"
   ]
  },
  {
   "cell_type": "markdown",
   "metadata": {
    "id": "ovtvQPDeQB0i"
   },
   "source": [
    "### TextAttack XLNet Model"
   ]
  },
  {
   "cell_type": "code",
   "execution_count": null,
   "metadata": {
    "colab": {
     "base_uri": "https://localhost:8080/"
    },
    "executionInfo": {
     "elapsed": 553055,
     "status": "ok",
     "timestamp": 1617276598310,
     "user": {
      "displayName": "Brian Kim",
      "photoUrl": "https://lh3.googleusercontent.com/a-/AOh14GheK6fjKCJnJKGaH7uYzy5meG555MjbR-ZMdGLarA=s64",
      "userId": "17231552563920409361"
     },
     "user_tz": 240
    },
    "id": "vY4YHuiWQO3N",
    "outputId": "8468ed1b-0edb-4383-94e5-36f7755771df"
   },
   "outputs": [],
   "source": [
    "xlnet_test = get_sentiment(sst2_test, \"text\", \"xlnet\")"
   ]
  },
  {
   "cell_type": "code",
   "execution_count": null,
   "metadata": {
    "colab": {
     "base_uri": "https://localhost:8080/"
    },
    "executionInfo": {
     "elapsed": 553047,
     "status": "ok",
     "timestamp": 1617276598312,
     "user": {
      "displayName": "Brian Kim",
      "photoUrl": "https://lh3.googleusercontent.com/a-/AOh14GheK6fjKCJnJKGaH7uYzy5meG555MjbR-ZMdGLarA=s64",
      "userId": "17231552563920409361"
     },
     "user_tz": 240
    },
    "id": "HpsU-zk_QR1T",
    "outputId": "3d2f5073-7ae7-4c20-aa8f-92dc50be274a"
   },
   "outputs": [],
   "source": [
    "xlnet_test.head()"
   ]
  },
  {
   "cell_type": "code",
   "execution_count": null,
   "metadata": {
    "colab": {
     "base_uri": "https://localhost:8080/"
    },
    "executionInfo": {
     "elapsed": 554421,
     "status": "ok",
     "timestamp": 1617276599697,
     "user": {
      "displayName": "Brian Kim",
      "photoUrl": "https://lh3.googleusercontent.com/a-/AOh14GheK6fjKCJnJKGaH7uYzy5meG555MjbR-ZMdGLarA=s64",
      "userId": "17231552563920409361"
     },
     "user_tz": 240
    },
    "id": "Zug0g17QQTA3",
    "outputId": "b0e0ccc6-9202-4da9-88e6-26087c665578"
   },
   "outputs": [],
   "source": [
    "prediction_test(xlnet_test[\"label\"], xlnet_test[\"label_predict\"])\n",
    "plt.savefig('../../N2FL NLP/output/03a_xlnet_test.png')"
   ]
  },
  {
   "cell_type": "markdown",
   "metadata": {
    "id": "jaAUXnHEackP"
   },
   "source": [
    "### Multilingual Bert"
   ]
  },
  {
   "cell_type": "code",
   "execution_count": null,
   "metadata": {
    "colab": {
     "base_uri": "https://localhost:8080/"
    },
    "executionInfo": {
     "elapsed": 620403,
     "status": "ok",
     "timestamp": 1617276665689,
     "user": {
      "displayName": "Brian Kim",
      "photoUrl": "https://lh3.googleusercontent.com/a-/AOh14GheK6fjKCJnJKGaH7uYzy5meG555MjbR-ZMdGLarA=s64",
      "userId": "17231552563920409361"
     },
     "user_tz": 240
    },
    "id": "0QXtO5KvaZZZ",
    "outputId": "8720edf8-a698-47c1-ef90-ace18fcd0703"
   },
   "outputs": [],
   "source": [
    "bert_test = get_sentiment(sst5_test, \"text\", \"bert\")"
   ]
  },
  {
   "cell_type": "code",
   "execution_count": null,
   "metadata": {
    "colab": {
     "base_uri": "https://localhost:8080/"
    },
    "executionInfo": {
     "elapsed": 620396,
     "status": "ok",
     "timestamp": 1617276665691,
     "user": {
      "displayName": "Brian Kim",
      "photoUrl": "https://lh3.googleusercontent.com/a-/AOh14GheK6fjKCJnJKGaH7uYzy5meG555MjbR-ZMdGLarA=s64",
      "userId": "17231552563920409361"
     },
     "user_tz": 240
    },
    "id": "boSNPvHhaZlJ",
    "outputId": "3aaeb19f-3537-4c1d-f9a8-33c1388324a4"
   },
   "outputs": [],
   "source": [
    "bert_test.head()"
   ]
  },
  {
   "cell_type": "code",
   "execution_count": null,
   "metadata": {
    "colab": {
     "base_uri": "https://localhost:8080/"
    },
    "executionInfo": {
     "elapsed": 621691,
     "status": "ok",
     "timestamp": 1617276666997,
     "user": {
      "displayName": "Brian Kim",
      "photoUrl": "https://lh3.googleusercontent.com/a-/AOh14GheK6fjKCJnJKGaH7uYzy5meG555MjbR-ZMdGLarA=s64",
      "userId": "17231552563920409361"
     },
     "user_tz": 240
    },
    "id": "Lvr_lEqxaZsV",
    "outputId": "4d96f4ac-a1cb-410f-c276-0ad44dfcb90e"
   },
   "outputs": [],
   "source": [
    "prediction_test(bert_test[\"label\"], bert_test[\"label_predict\"])\n",
    "plt.savefig('../../N2FL NLP/output/03a_bert_test.png')"
   ]
  },
  {
   "cell_type": "markdown",
   "metadata": {
    "id": "pWYlGqcHainw"
   },
   "source": [
    "### Twitter Roberta"
   ]
  },
  {
   "cell_type": "code",
   "execution_count": null,
   "metadata": {
    "colab": {
     "base_uri": "https://localhost:8080/"
    },
    "executionInfo": {
     "elapsed": 688410,
     "status": "ok",
     "timestamp": 1617276733726,
     "user": {
      "displayName": "Brian Kim",
      "photoUrl": "https://lh3.googleusercontent.com/a-/AOh14GheK6fjKCJnJKGaH7uYzy5meG555MjbR-ZMdGLarA=s64",
      "userId": "17231552563920409361"
     },
     "user_tz": 240
    },
    "id": "gh_togIkapTK",
    "outputId": "7b7517b2-de9e-423f-bde9-752dd094e950"
   },
   "outputs": [],
   "source": [
    "twit_test = get_sentiment(sst3_test, \"text\", \"twit\")"
   ]
  },
  {
   "cell_type": "code",
   "execution_count": null,
   "metadata": {
    "colab": {
     "base_uri": "https://localhost:8080/"
    },
    "executionInfo": {
     "elapsed": 688403,
     "status": "ok",
     "timestamp": 1617276733728,
     "user": {
      "displayName": "Brian Kim",
      "photoUrl": "https://lh3.googleusercontent.com/a-/AOh14GheK6fjKCJnJKGaH7uYzy5meG555MjbR-ZMdGLarA=s64",
      "userId": "17231552563920409361"
     },
     "user_tz": 240
    },
    "id": "sikQioWkapal",
    "outputId": "b56ae2f3-d953-4a67-e22e-2a9743279f84"
   },
   "outputs": [],
   "source": [
    "twit_test.head()"
   ]
  },
  {
   "cell_type": "code",
   "execution_count": null,
   "metadata": {
    "colab": {
     "base_uri": "https://localhost:8080/"
    },
    "executionInfo": {
     "elapsed": 689435,
     "status": "ok",
     "timestamp": 1617276734770,
     "user": {
      "displayName": "Brian Kim",
      "photoUrl": "https://lh3.googleusercontent.com/a-/AOh14GheK6fjKCJnJKGaH7uYzy5meG555MjbR-ZMdGLarA=s64",
      "userId": "17231552563920409361"
     },
     "user_tz": 240
    },
    "id": "SyxRYiZXapgr",
    "outputId": "b3c25dd7-0b95-400d-9d45-cce9a5a6fdc9"
   },
   "outputs": [],
   "source": [
    "prediction_test(twit_test[\"label\"], twit_test[\"label_predict\"])\n",
    "plt.savefig('../../N2FL NLP/output/03a_twit_test.png')"
   ]
  },
  {
   "cell_type": "markdown",
   "metadata": {
    "id": "DaxCOrdiakbR"
   },
   "source": [
    "### T5 IMDB"
   ]
  },
  {
   "cell_type": "code",
   "execution_count": null,
   "metadata": {
    "colab": {
     "base_uri": "https://localhost:8080/"
    },
    "executionInfo": {
     "elapsed": 795759,
     "status": "ok",
     "timestamp": 1617276841107,
     "user": {
      "displayName": "Brian Kim",
      "photoUrl": "https://lh3.googleusercontent.com/a-/AOh14GheK6fjKCJnJKGaH7uYzy5meG555MjbR-ZMdGLarA=s64",
      "userId": "17231552563920409361"
     },
     "user_tz": 240
    },
    "id": "HekZLtWNaZzh",
    "outputId": "84a152ef-1cf6-46ad-dbab-8a0a1ee8c070"
   },
   "outputs": [],
   "source": [
    "imdb_test = get_sentiment(sst2_test, \"text\", \"imdb\")"
   ]
  },
  {
   "cell_type": "code",
   "execution_count": null,
   "metadata": {
    "colab": {
     "base_uri": "https://localhost:8080/"
    },
    "executionInfo": {
     "elapsed": 795751,
     "status": "ok",
     "timestamp": 1617276841108,
     "user": {
      "displayName": "Brian Kim",
      "photoUrl": "https://lh3.googleusercontent.com/a-/AOh14GheK6fjKCJnJKGaH7uYzy5meG555MjbR-ZMdGLarA=s64",
      "userId": "17231552563920409361"
     },
     "user_tz": 240
    },
    "id": "RqBsbF0eaZ5W",
    "outputId": "8bd0f571-b7bd-4e9c-e1d1-5875c78bc405"
   },
   "outputs": [],
   "source": [
    "imdb_test.head()"
   ]
  },
  {
   "cell_type": "code",
   "execution_count": null,
   "metadata": {
    "colab": {
     "base_uri": "https://localhost:8080/"
    },
    "executionInfo": {
     "elapsed": 795741,
     "status": "ok",
     "timestamp": 1617276841109,
     "user": {
      "displayName": "Brian Kim",
      "photoUrl": "https://lh3.googleusercontent.com/a-/AOh14GheK6fjKCJnJKGaH7uYzy5meG555MjbR-ZMdGLarA=s64",
      "userId": "17231552563920409361"
     },
     "user_tz": 240
    },
    "id": "VGx_n57m75JU",
    "outputId": "6248a6a1-4178-4e4a-f335-95e9cd891702"
   },
   "outputs": [],
   "source": [
    "imdb_test[imdb_test[\"label_predict\"]==\"LABEL_2\"]"
   ]
  },
  {
   "cell_type": "code",
   "execution_count": null,
   "metadata": {
    "colab": {
     "base_uri": "https://localhost:8080/"
    },
    "executionInfo": {
     "elapsed": 797006,
     "status": "ok",
     "timestamp": 1617276842385,
     "user": {
      "displayName": "Brian Kim",
      "photoUrl": "https://lh3.googleusercontent.com/a-/AOh14GheK6fjKCJnJKGaH7uYzy5meG555MjbR-ZMdGLarA=s64",
      "userId": "17231552563920409361"
     },
     "user_tz": 240
    },
    "id": "FwigM4V3aZ_N",
    "outputId": "c972dad2-7919-4023-e505-6024805e2df2"
   },
   "outputs": [],
   "source": [
    "prediction_test(imdb_test[\"label\"], imdb_test[\"label_predict\"])\n",
    "plt.savefig('../../N2FL NLP/output/03a_imdb_test.png')"
   ]
  },
  {
   "cell_type": "markdown",
   "metadata": {
    "id": "Ga0uqquFqjhm"
   },
   "source": [
    "# Create datasets for training the ensemble classifier"
   ]
  },
  {
   "cell_type": "markdown",
   "metadata": {
    "id": "A29cBQ85z0z5"
   },
   "source": [
    "### Create training data"
   ]
  },
  {
   "cell_type": "code",
   "execution_count": null,
   "metadata": {
    "colab": {
     "base_uri": "https://localhost:8080/"
    },
    "executionInfo": {
     "elapsed": 1051805,
     "status": "ok",
     "timestamp": 1617277097195,
     "user": {
      "displayName": "Brian Kim",
      "photoUrl": "https://lh3.googleusercontent.com/a-/AOh14GheK6fjKCJnJKGaH7uYzy5meG555MjbR-ZMdGLarA=s64",
      "userId": "17231552563920409361"
     },
     "user_tz": 240
    },
    "id": "D8s4cREfnWnC",
    "outputId": "56cc5793-7409-4aa7-92f3-be873c51c90f"
   },
   "outputs": [],
   "source": [
    "yelp_train = get_sentiment(sst5_train, \"text\", \"yelp\").drop(columns=[\"text\", \"label\"]).add_suffix(\"_yelp\")"
   ]
  },
  {
   "cell_type": "code",
   "execution_count": null,
   "metadata": {
    "colab": {
     "base_uri": "https://localhost:8080/"
    },
    "executionInfo": {
     "elapsed": 1685972,
     "status": "ok",
     "timestamp": 1617277731378,
     "user": {
      "displayName": "Brian Kim",
      "photoUrl": "https://lh3.googleusercontent.com/a-/AOh14GheK6fjKCJnJKGaH7uYzy5meG555MjbR-ZMdGLarA=s64",
      "userId": "17231552563920409361"
     },
     "user_tz": 240
    },
    "id": "6Jh5YDd3ndDf",
    "outputId": "e413b105-8042-4c69-fef0-a44e4041e48f"
   },
   "outputs": [],
   "source": [
    "xlnet_train = get_sentiment(sst5_train, \"text\", \"xlnet\").drop(columns=[\"text\", \"label\"]).add_suffix(\"_xlnet\")"
   ]
  },
  {
   "cell_type": "code",
   "execution_count": null,
   "metadata": {
    "colab": {
     "base_uri": "https://localhost:8080/"
    },
    "executionInfo": {
     "elapsed": 1352077,
     "status": "ok",
     "timestamp": 1617277397475,
     "user": {
      "displayName": "Brian Kim",
      "photoUrl": "https://lh3.googleusercontent.com/a-/AOh14GheK6fjKCJnJKGaH7uYzy5meG555MjbR-ZMdGLarA=s64",
      "userId": "17231552563920409361"
     },
     "user_tz": 240
    },
    "id": "nr2IYLrlnc9S",
    "outputId": "2904b110-a1a5-4abd-cb93-0e3d87818ce2"
   },
   "outputs": [],
   "source": [
    "albert_train = get_sentiment(sst5_train, \"text\", \"albert\").drop(columns=[\"text\", \"label\"]).add_suffix(\"_albert\")"
   ]
  },
  {
   "cell_type": "code",
   "execution_count": null,
   "metadata": {
    "colab": {
     "base_uri": "https://localhost:8080/"
    },
    "executionInfo": {
     "elapsed": 1806104,
     "status": "ok",
     "timestamp": 1617277851518,
     "user": {
      "displayName": "Brian Kim",
      "photoUrl": "https://lh3.googleusercontent.com/a-/AOh14GheK6fjKCJnJKGaH7uYzy5meG555MjbR-ZMdGLarA=s64",
      "userId": "17231552563920409361"
     },
     "user_tz": 240
    },
    "id": "ynnl7uO2ndLc",
    "outputId": "63162135-74b4-4c2c-b249-2cf1cbd152f8"
   },
   "outputs": [],
   "source": [
    "stanza_train = get_sentiment(sst5_train, \"text\", \"stanza\").drop(columns=[\"text\", \"label\"]).add_suffix(\"_stanza\")"
   ]
  },
  {
   "cell_type": "code",
   "execution_count": null,
   "metadata": {
    "colab": {
     "base_uri": "https://localhost:8080/"
    },
    "executionInfo": {
     "elapsed": 2061597,
     "status": "ok",
     "timestamp": 1617278107020,
     "user": {
      "displayName": "Brian Kim",
      "photoUrl": "https://lh3.googleusercontent.com/a-/AOh14GheK6fjKCJnJKGaH7uYzy5meG555MjbR-ZMdGLarA=s64",
      "userId": "17231552563920409361"
     },
     "user_tz": 240
    },
    "id": "k7vJ1_kx8nTc",
    "outputId": "913ef039-9365-472d-ed35-935fe4b221c1"
   },
   "outputs": [],
   "source": [
    "bert_train = get_sentiment(sst5_train, \"text\", \"bert\").drop(columns=[\"text\", \"label\"]).add_suffix(\"_bert\")"
   ]
  },
  {
   "cell_type": "code",
   "execution_count": null,
   "metadata": {
    "colab": {
     "base_uri": "https://localhost:8080/"
    },
    "executionInfo": {
     "elapsed": 2315084,
     "status": "ok",
     "timestamp": 1617278360515,
     "user": {
      "displayName": "Brian Kim",
      "photoUrl": "https://lh3.googleusercontent.com/a-/AOh14GheK6fjKCJnJKGaH7uYzy5meG555MjbR-ZMdGLarA=s64",
      "userId": "17231552563920409361"
     },
     "user_tz": 240
    },
    "id": "PGa18JYf8nY5",
    "outputId": "e7340105-7353-4ff9-cc00-a4d7505a5858"
   },
   "outputs": [],
   "source": [
    "twit_train = get_sentiment(sst5_train, \"text\", \"twit\").drop(columns=[\"text\", \"label\"]).add_suffix(\"_twit\")"
   ]
  },
  {
   "cell_type": "code",
   "execution_count": null,
   "metadata": {
    "colab": {
     "base_uri": "https://localhost:8080/"
    },
    "executionInfo": {
     "elapsed": 2816825,
     "status": "ok",
     "timestamp": 1617278862264,
     "user": {
      "displayName": "Brian Kim",
      "photoUrl": "https://lh3.googleusercontent.com/a-/AOh14GheK6fjKCJnJKGaH7uYzy5meG555MjbR-ZMdGLarA=s64",
      "userId": "17231552563920409361"
     },
     "user_tz": 240
    },
    "id": "ccohhpJe8ndp",
    "outputId": "26c0493c-bd8e-4b9a-e8d2-0ca5f75b449d"
   },
   "outputs": [],
   "source": [
    "imdb_train = get_sentiment(sst5_train, \"text\", \"imdb\").drop(columns=[\"text\", \"label\"]).add_suffix(\"_imdb\")"
   ]
  },
  {
   "cell_type": "markdown",
   "metadata": {
    "id": "y_P4T7QAyQPw"
   },
   "source": [
    "#### Merge datasets together"
   ]
  },
  {
   "cell_type": "code",
   "execution_count": null,
   "metadata": {
    "id": "II09_d5Wn1SF"
   },
   "outputs": [],
   "source": [
    "forest_train = pd.merge(sst5_train, yelp_train, how=\"inner\", left_index=True, right_index=True, validate=\"1:1\")"
   ]
  },
  {
   "cell_type": "code",
   "execution_count": null,
   "metadata": {
    "id": "sT3dGz7vozWJ"
   },
   "outputs": [],
   "source": [
    "forest_train = pd.merge(forest_train, xlnet_train, how=\"inner\", left_index=True, right_index=True, validate=\"1:1\")"
   ]
  },
  {
   "cell_type": "code",
   "execution_count": null,
   "metadata": {
    "id": "gkOz4wH6ozOA"
   },
   "outputs": [],
   "source": [
    "forest_train = pd.merge(forest_train, albert_train, how=\"inner\", left_index=True, right_index=True, validate=\"1:1\")"
   ]
  },
  {
   "cell_type": "code",
   "execution_count": null,
   "metadata": {
    "id": "WYE6NdOdozTg"
   },
   "outputs": [],
   "source": [
    "forest_train = pd.merge(forest_train, stanza_train, how=\"inner\", left_index=True, right_index=True, validate=\"1:1\")"
   ]
  },
  {
   "cell_type": "code",
   "execution_count": null,
   "metadata": {
    "id": "adi-xlvF80SI"
   },
   "outputs": [],
   "source": [
    "forest_train = pd.merge(forest_train, bert_train, how=\"inner\", left_index=True, right_index=True, validate=\"1:1\")"
   ]
  },
  {
   "cell_type": "code",
   "execution_count": null,
   "metadata": {
    "id": "zJcm5zqc80Zq"
   },
   "outputs": [],
   "source": [
    "forest_train = pd.merge(forest_train, twit_train, how=\"inner\", left_index=True, right_index=True, validate=\"1:1\")"
   ]
  },
  {
   "cell_type": "code",
   "execution_count": null,
   "metadata": {
    "id": "GJkXoqlI80fw"
   },
   "outputs": [],
   "source": [
    "forest_train = pd.merge(forest_train, imdb_train, how=\"inner\", left_index=True, right_index=True, validate=\"1:1\")"
   ]
  },
  {
   "cell_type": "code",
   "execution_count": null,
   "metadata": {
    "id": "kTfptQj-t2e7"
   },
   "outputs": [],
   "source": [
    "forest_train.to_csv('../../N2FL NLP/data/03a_sst5_train.csv')"
   ]
  },
  {
   "cell_type": "markdown",
   "metadata": {
    "id": "M1ePPkulz3cP"
   },
   "source": [
    "### Create testing data"
   ]
  },
  {
   "cell_type": "code",
   "execution_count": null,
   "metadata": {
    "colab": {
     "base_uri": "https://localhost:8080/"
    },
    "executionInfo": {
     "elapsed": 2884521,
     "status": "ok",
     "timestamp": 1617278930015,
     "user": {
      "displayName": "Brian Kim",
      "photoUrl": "https://lh3.googleusercontent.com/a-/AOh14GheK6fjKCJnJKGaH7uYzy5meG555MjbR-ZMdGLarA=s64",
      "userId": "17231552563920409361"
     },
     "user_tz": 240
    },
    "id": "1wt4CFWqt-jv",
    "outputId": "e52fa2fc-b291-42ee-ba28-132c2fa1fd0f"
   },
   "outputs": [],
   "source": [
    "yelp_test = get_sentiment(sst5_test, \"text\", \"yelp\").drop(columns=[\"text\", \"label\"]).add_suffix(\"_yelp\")"
   ]
  },
  {
   "cell_type": "code",
   "execution_count": null,
   "metadata": {
    "colab": {
     "base_uri": "https://localhost:8080/"
    },
    "executionInfo": {
     "elapsed": 3049505,
     "status": "ok",
     "timestamp": 1617279095015,
     "user": {
      "displayName": "Brian Kim",
      "photoUrl": "https://lh3.googleusercontent.com/a-/AOh14GheK6fjKCJnJKGaH7uYzy5meG555MjbR-ZMdGLarA=s64",
      "userId": "17231552563920409361"
     },
     "user_tz": 240
    },
    "id": "Zs3VH8zRt-_9",
    "outputId": "cccf9323-a07b-48c1-de2a-cc2ca8681f37"
   },
   "outputs": [],
   "source": [
    "xlnet_test = get_sentiment(sst5_test, \"text\", \"xlnet\").drop(columns=[\"text\", \"label\"]).add_suffix(\"_xlnet\")"
   ]
  },
  {
   "cell_type": "code",
   "execution_count": null,
   "metadata": {
    "colab": {
     "base_uri": "https://localhost:8080/"
    },
    "executionInfo": {
     "elapsed": 2962138,
     "status": "ok",
     "timestamp": 1617279007640,
     "user": {
      "displayName": "Brian Kim",
      "photoUrl": "https://lh3.googleusercontent.com/a-/AOh14GheK6fjKCJnJKGaH7uYzy5meG555MjbR-ZMdGLarA=s64",
      "userId": "17231552563920409361"
     },
     "user_tz": 240
    },
    "id": "oNKn68ALt-4m",
    "outputId": "0e352937-5756-484d-9e0b-74b669c0c566"
   },
   "outputs": [],
   "source": [
    "albert_test = get_sentiment(sst5_test, \"text\", \"albert\").drop(columns=[\"text\", \"label\"]).add_suffix(\"_albert\")"
   ]
  },
  {
   "cell_type": "code",
   "execution_count": null,
   "metadata": {
    "colab": {
     "base_uri": "https://localhost:8080/"
    },
    "executionInfo": {
     "elapsed": 3080564,
     "status": "ok",
     "timestamp": 1617279126082,
     "user": {
      "displayName": "Brian Kim",
      "photoUrl": "https://lh3.googleusercontent.com/a-/AOh14GheK6fjKCJnJKGaH7uYzy5meG555MjbR-ZMdGLarA=s64",
      "userId": "17231552563920409361"
     },
     "user_tz": 240
    },
    "id": "cm2RKEvqt_EB",
    "outputId": "3ba3fd99-a4c6-435e-fb59-70f85632f5e2"
   },
   "outputs": [],
   "source": [
    "stanza_test = get_sentiment(sst5_test, \"text\", \"stanza\").drop(columns=[\"text\", \"label\"]).add_suffix(\"_stanza\")"
   ]
  },
  {
   "cell_type": "code",
   "execution_count": null,
   "metadata": {
    "colab": {
     "base_uri": "https://localhost:8080/"
    },
    "executionInfo": {
     "elapsed": 3147001,
     "status": "ok",
     "timestamp": 1617279192527,
     "user": {
      "displayName": "Brian Kim",
      "photoUrl": "https://lh3.googleusercontent.com/a-/AOh14GheK6fjKCJnJKGaH7uYzy5meG555MjbR-ZMdGLarA=s64",
      "userId": "17231552563920409361"
     },
     "user_tz": 240
    },
    "id": "_8VZWwud85aw",
    "outputId": "e9b39e51-340b-446d-9b7f-90fa45b96ef3"
   },
   "outputs": [],
   "source": [
    "bert_test = get_sentiment(sst5_test, \"text\", \"bert\").drop(columns=[\"text\", \"label\"]).add_suffix(\"_bert\")"
   ]
  },
  {
   "cell_type": "code",
   "execution_count": null,
   "metadata": {
    "colab": {
     "base_uri": "https://localhost:8080/"
    },
    "executionInfo": {
     "elapsed": 3213039,
     "status": "ok",
     "timestamp": 1617279258574,
     "user": {
      "displayName": "Brian Kim",
      "photoUrl": "https://lh3.googleusercontent.com/a-/AOh14GheK6fjKCJnJKGaH7uYzy5meG555MjbR-ZMdGLarA=s64",
      "userId": "17231552563920409361"
     },
     "user_tz": 240
    },
    "id": "39xOa1Kq85eT",
    "outputId": "04e4b74a-dd83-4ec1-fe70-88b9bc1173ed"
   },
   "outputs": [],
   "source": [
    "twit_test = get_sentiment(sst5_test, \"text\", \"twit\").drop(columns=[\"text\", \"label\"]).add_suffix(\"_twit\")"
   ]
  },
  {
   "cell_type": "code",
   "execution_count": null,
   "metadata": {
    "colab": {
     "base_uri": "https://localhost:8080/"
    },
    "executionInfo": {
     "elapsed": 3337967,
     "status": "ok",
     "timestamp": 1617279383510,
     "user": {
      "displayName": "Brian Kim",
      "photoUrl": "https://lh3.googleusercontent.com/a-/AOh14GheK6fjKCJnJKGaH7uYzy5meG555MjbR-ZMdGLarA=s64",
      "userId": "17231552563920409361"
     },
     "user_tz": 240
    },
    "id": "eSZate6M85iU",
    "outputId": "22f4bae9-9990-48b3-e5e5-2d4547826791"
   },
   "outputs": [],
   "source": [
    "imdb_test = get_sentiment(sst5_test, \"text\", \"imdb\").drop(columns=[\"text\", \"label\"]).add_suffix(\"_imdb\")"
   ]
  },
  {
   "cell_type": "markdown",
   "metadata": {
    "id": "dg8s0NIuyWbm"
   },
   "source": [
    "#### Merge datasets together"
   ]
  },
  {
   "cell_type": "code",
   "execution_count": null,
   "metadata": {
    "id": "Z_uwdrVft_HV"
   },
   "outputs": [],
   "source": [
    "forest_test = pd.merge(sst5_test, yelp_test, how=\"inner\", left_index=True, right_index=True, validate=\"1:1\")"
   ]
  },
  {
   "cell_type": "code",
   "execution_count": null,
   "metadata": {
    "id": "H3WSGKKDuJKa"
   },
   "outputs": [],
   "source": [
    "forest_test = pd.merge(forest_test, xlnet_test, how=\"inner\", left_index=True, right_index=True, validate=\"1:1\")"
   ]
  },
  {
   "cell_type": "code",
   "execution_count": null,
   "metadata": {
    "id": "t51B1KmnuJH2"
   },
   "outputs": [],
   "source": [
    "forest_test = pd.merge(forest_test, albert_test, how=\"inner\", left_index=True, right_index=True, validate=\"1:1\")"
   ]
  },
  {
   "cell_type": "code",
   "execution_count": null,
   "metadata": {
    "id": "hImzCn-Rt-9W"
   },
   "outputs": [],
   "source": [
    "forest_test = pd.merge(forest_test, stanza_test, how=\"inner\", left_index=True, right_index=True, validate=\"1:1\")"
   ]
  },
  {
   "cell_type": "code",
   "execution_count": null,
   "metadata": {
    "id": "oUu_yVvV9Bq6"
   },
   "outputs": [],
   "source": [
    "forest_test = pd.merge(forest_test, bert_test, how=\"inner\", left_index=True, right_index=True, validate=\"1:1\")"
   ]
  },
  {
   "cell_type": "code",
   "execution_count": null,
   "metadata": {
    "id": "trUGtppl9Buh"
   },
   "outputs": [],
   "source": [
    "forest_test = pd.merge(forest_test, twit_test, how=\"inner\", left_index=True, right_index=True, validate=\"1:1\")"
   ]
  },
  {
   "cell_type": "code",
   "execution_count": null,
   "metadata": {
    "id": "fi5LUbml9Byb"
   },
   "outputs": [],
   "source": [
    "forest_test = pd.merge(forest_test, imdb_test, how=\"inner\", left_index=True, right_index=True, validate=\"1:1\")"
   ]
  },
  {
   "cell_type": "code",
   "execution_count": null,
   "metadata": {
    "id": "yQrbWnpsuR1_"
   },
   "outputs": [],
   "source": [
    "forest_test.to_csv('../../N2FL NLP/data/03a_sst5_test.csv')"
   ]
  },
  {
   "cell_type": "markdown",
   "metadata": {
    "id": "Hi21p9V3RIru"
   },
   "source": [
    "# Apply to the analytic dataset"
   ]
  },
  {
   "cell_type": "markdown",
   "metadata": {
    "id": "nmJJkov_f4s_"
   },
   "source": [
    "### Load in and organize the analytic data"
   ]
  },
  {
   "cell_type": "code",
   "execution_count": null,
   "metadata": {},
   "outputs": [],
   "source": [
    "data = pd.read_stata('../../N2FL NLP/data/02_advisornames_cleaned_unique.dta')\n",
    "data[\"index\"]=data.index\n",
    "data.shape"
   ]
  },
  {
   "cell_type": "code",
   "execution_count": null,
   "metadata": {},
   "outputs": [],
   "source": [
    "data.head()"
   ]
  },
  {
   "cell_type": "markdown",
   "metadata": {
    "id": "e8gYEEsQf9no"
   },
   "source": [
    "### Apply the Sentiment Analysis algorithms to the analytic data"
   ]
  },
  {
   "cell_type": "code",
   "execution_count": null,
   "metadata": {
    "colab": {
     "base_uri": "https://localhost:8080/"
    },
    "executionInfo": {
     "elapsed": 899330,
     "status": "ok",
     "timestamp": 1617293376075,
     "user": {
      "displayName": "Brian Kim",
      "photoUrl": "https://lh3.googleusercontent.com/a-/AOh14GheK6fjKCJnJKGaH7uYzy5meG555MjbR-ZMdGLarA=s64",
      "userId": "17231552563920409361"
     },
     "user_tz": 240
    },
    "id": "-01Q4xmDemLO",
    "outputId": "ab188619-cf01-4395-d855-3a008ce9b4a4"
   },
   "outputs": [],
   "source": [
    "data_yelp = get_sentiment(data, \"text\", \"yelp\").add_suffix(\"_yelp\")"
   ]
  },
  {
   "cell_type": "code",
   "execution_count": null,
   "metadata": {
    "colab": {
     "base_uri": "https://localhost:8080/"
    },
    "executionInfo": {
     "elapsed": 3118846,
     "status": "ok",
     "timestamp": 1617295596980,
     "user": {
      "displayName": "Brian Kim",
      "photoUrl": "https://lh3.googleusercontent.com/a-/AOh14GheK6fjKCJnJKGaH7uYzy5meG555MjbR-ZMdGLarA=s64",
      "userId": "17231552563920409361"
     },
     "user_tz": 240
    },
    "id": "AgXcYftzT8Sb",
    "outputId": "d251ec7f-beee-4cf4-9c7c-3d852396aca7"
   },
   "outputs": [],
   "source": [
    "data_xlnet = get_sentiment(data, \"text\", \"xlnet\").add_suffix(\"_xlnet\")"
   ]
  },
  {
   "cell_type": "code",
   "execution_count": null,
   "metadata": {
    "colab": {
     "base_uri": "https://localhost:8080/"
    },
    "executionInfo": {
     "elapsed": 1938835,
     "status": "ok",
     "timestamp": 1617294416331,
     "user": {
      "displayName": "Brian Kim",
      "photoUrl": "https://lh3.googleusercontent.com/a-/AOh14GheK6fjKCJnJKGaH7uYzy5meG555MjbR-ZMdGLarA=s64",
      "userId": "17231552563920409361"
     },
     "user_tz": 240
    },
    "id": "3x9BjgEuT8IU",
    "outputId": "4b00ca68-cb33-4f6b-dd5f-2c838b30896d"
   },
   "outputs": [],
   "source": [
    "data_albert = get_sentiment(data, \"text\", \"albert\").add_suffix(\"_albert\")"
   ]
  },
  {
   "cell_type": "code",
   "execution_count": null,
   "metadata": {
    "id": "_Ldx3dxKUxsX"
   },
   "outputs": [],
   "source": [
    "# Minor cleaning steps because Stanza can't take empty rows\n",
    "stanza_prep = data.copy()\n",
    "stanza_prep[\"str_len\"] = stanza_prep[\"text\"].str.len()\n",
    "stanza_prep = stanza_prep[stanza_prep['str_len'] >= 2].drop(columns=[\"str_len\"])"
   ]
  },
  {
   "cell_type": "code",
   "execution_count": null,
   "metadata": {
    "colab": {
     "base_uri": "https://localhost:8080/"
    },
    "executionInfo": {
     "elapsed": 3501089,
     "status": "ok",
     "timestamp": 1617295981379,
     "user": {
      "displayName": "Brian Kim",
      "photoUrl": "https://lh3.googleusercontent.com/a-/AOh14GheK6fjKCJnJKGaH7uYzy5meG555MjbR-ZMdGLarA=s64",
      "userId": "17231552563920409361"
     },
     "user_tz": 240
    },
    "id": "A3hkUhPUT8aJ",
    "outputId": "5cb8b019-87e4-417e-be9c-d0918f2bbf91"
   },
   "outputs": [],
   "source": [
    "data_stanza = get_sentiment(stanza_prep, \"text\", \"stanza\").add_suffix(\"_stanza\")"
   ]
  },
  {
   "cell_type": "code",
   "execution_count": null,
   "metadata": {
    "colab": {
     "base_uri": "https://localhost:8080/"
    },
    "executionInfo": {
     "elapsed": 4395224,
     "status": "ok",
     "timestamp": 1617296876549,
     "user": {
      "displayName": "Brian Kim",
      "photoUrl": "https://lh3.googleusercontent.com/a-/AOh14GheK6fjKCJnJKGaH7uYzy5meG555MjbR-ZMdGLarA=s64",
      "userId": "17231552563920409361"
     },
     "user_tz": 240
    },
    "id": "FO47DRPQ9OPW",
    "outputId": "b7757d23-acb8-42b7-ccdd-9b9eb65a2531"
   },
   "outputs": [],
   "source": [
    "data_bert = get_sentiment(data, \"text\", \"bert\").add_suffix(\"_bert\")"
   ]
  },
  {
   "cell_type": "code",
   "execution_count": null,
   "metadata": {},
   "outputs": [],
   "source": [
    "# Minor cleaning steps because there's a max string length\n",
    "twit_prep = data.copy()\n",
    "twit_prep[\"str_len\"] = twit_prep[\"text\"].str.len()\n",
    "twit_prep = twit_prep[twit_prep['str_len'] <= 400].drop(columns=[\"str_len\"])"
   ]
  },
  {
   "cell_type": "code",
   "execution_count": null,
   "metadata": {
    "colab": {
     "base_uri": "https://localhost:8080/"
    },
    "executionInfo": {
     "elapsed": 5288693,
     "status": "ok",
     "timestamp": 1617297770755,
     "user": {
      "displayName": "Brian Kim",
      "photoUrl": "https://lh3.googleusercontent.com/a-/AOh14GheK6fjKCJnJKGaH7uYzy5meG555MjbR-ZMdGLarA=s64",
      "userId": "17231552563920409361"
     },
     "user_tz": 240
    },
    "id": "oABZdBh69ORx",
    "outputId": "f994cf1a-f01a-4c8c-89a8-37fa7b7d96d6"
   },
   "outputs": [],
   "source": [
    "data_twit = get_sentiment(twit_prep, \"text\", \"twit\").add_suffix(\"_twit\")"
   ]
  },
  {
   "cell_type": "code",
   "execution_count": null,
   "metadata": {
    "id": "ejSKUl8cAgjy"
   },
   "outputs": [],
   "source": [
    "# Minor cleaning steps because imdb can't take non-ascii characters apparently\n",
    "imdb_prep = data.copy()\n",
    "imdb_prep[\"text\"] = imdb_prep[\"text\"].str.encode(\"ascii\", \"ignore\").str.decode(\"ascii\")"
   ]
  },
  {
   "cell_type": "code",
   "execution_count": null,
   "metadata": {
    "colab": {
     "base_uri": "https://localhost:8080/"
    },
    "executionInfo": {
     "elapsed": 1802024,
     "status": "ok",
     "timestamp": 1617292310863,
     "user": {
      "displayName": "Brian Kim",
      "photoUrl": "https://lh3.googleusercontent.com/a-/AOh14GheK6fjKCJnJKGaH7uYzy5meG555MjbR-ZMdGLarA=s64",
      "userId": "17231552563920409361"
     },
     "user_tz": 240
    },
    "id": "bK2UywNn9OW7",
    "outputId": "ebac158f-6ead-4f9f-a986-433411a27e28"
   },
   "outputs": [],
   "source": [
    "data_imdb = get_sentiment(imdb_prep, \"text\", \"imdb\").add_suffix(\"_imdb\")"
   ]
  },
  {
   "cell_type": "markdown",
   "metadata": {
    "id": "om_WHybXgCq1"
   },
   "source": [
    "### Join sentiment scores back into the main dataset"
   ]
  },
  {
   "cell_type": "code",
   "execution_count": null,
   "metadata": {
    "id": "pdcTvgO6gOGa"
   },
   "outputs": [],
   "source": [
    "data_analyze = pd.merge(data, data_yelp, how=\"inner\", left_on=\"index\", right_on=\"index_yelp\", validate=\"1:1\").drop(columns=[\"text_yelp\", \"index_yelp\"])"
   ]
  },
  {
   "cell_type": "code",
   "execution_count": null,
   "metadata": {
    "id": "tQtQp8nGa34Q"
   },
   "outputs": [],
   "source": [
    "data_analyze = pd.merge(data_analyze, data_xlnet, how=\"inner\", left_on=\"index\", right_on=\"index_xlnet\", validate=\"1:1\").drop(columns=[\"text_xlnet\", \"index_xlnet\"])"
   ]
  },
  {
   "cell_type": "code",
   "execution_count": null,
   "metadata": {
    "id": "4Ry7ErBya4AW"
   },
   "outputs": [],
   "source": [
    "data_analyze = pd.merge(data_analyze, data_albert, how=\"inner\", left_on=\"index\", right_on=\"index_albert\", validate=\"1:1\").drop(columns=[\"text_albert\", \"index_albert\"])"
   ]
  },
  {
   "cell_type": "code",
   "execution_count": null,
   "metadata": {
    "id": "TC7AVkdQa4GE"
   },
   "outputs": [],
   "source": [
    "data_analyze = pd.merge(data_analyze, data_stanza, how=\"inner\", left_on=\"index\", right_on=\"index_stanza\", validate=\"1:1\").drop(columns=[\"text_stanza\", \"index_stanza\"])"
   ]
  },
  {
   "cell_type": "code",
   "execution_count": null,
   "metadata": {
    "id": "G6IXi9Yj9X2_"
   },
   "outputs": [],
   "source": [
    "data_analyze = pd.merge(data_analyze, data_bert, how=\"inner\", left_on=\"index\", right_on=\"index_bert\", validate=\"1:1\").drop(columns=[\"text_bert\", \"index_bert\"])"
   ]
  },
  {
   "cell_type": "code",
   "execution_count": null,
   "metadata": {
    "id": "DmJTQvYW9X5s"
   },
   "outputs": [],
   "source": [
    "data_analyze = pd.merge(data_analyze, data_twit, how=\"inner\", left_on=\"index\", right_on=\"index_twit\", validate=\"1:1\").drop(columns=[\"text_twit\", \"index_twit\"])"
   ]
  },
  {
   "cell_type": "code",
   "execution_count": null,
   "metadata": {
    "id": "gsla7bVV9X9-"
   },
   "outputs": [],
   "source": [
    "data_analyze = pd.merge(data_analyze, data_imdb, how=\"inner\", left_on=\"index\", right_on=\"index_imdb\", validate=\"1:1\").drop(columns=[\"text_imdb\", \"index_imdb\"])"
   ]
  },
  {
   "cell_type": "code",
   "execution_count": null,
   "metadata": {
    "colab": {
     "base_uri": "https://localhost:8080/"
    },
    "executionInfo": {
     "elapsed": 375,
     "status": "ok",
     "timestamp": 1617298943927,
     "user": {
      "displayName": "Brian Kim",
      "photoUrl": "https://lh3.googleusercontent.com/a-/AOh14GheK6fjKCJnJKGaH7uYzy5meG555MjbR-ZMdGLarA=s64",
      "userId": "17231552563920409361"
     },
     "user_tz": 240
    },
    "id": "IdLG10av1CPC",
    "outputId": "cceda3ad-321e-4371-c910-12f0d10da555"
   },
   "outputs": [],
   "source": [
    "data_analyze.shape"
   ]
  },
  {
   "cell_type": "code",
   "execution_count": null,
   "metadata": {
    "colab": {
     "base_uri": "https://localhost:8080/",
     "height": 1000
    },
    "executionInfo": {
     "elapsed": 424,
     "status": "ok",
     "timestamp": 1617298934465,
     "user": {
      "displayName": "Brian Kim",
      "photoUrl": "https://lh3.googleusercontent.com/a-/AOh14GheK6fjKCJnJKGaH7uYzy5meG555MjbR-ZMdGLarA=s64",
      "userId": "17231552563920409361"
     },
     "user_tz": 240
    },
    "id": "yEuqywx1iK6b",
    "outputId": "7285590b-93e0-482e-9953-9c54e6c92164"
   },
   "outputs": [],
   "source": [
    "data_analyze.sample(10, random_state=1234)"
   ]
  },
  {
   "cell_type": "markdown",
   "metadata": {
    "id": "ZOiYnW9VgLG8"
   },
   "source": [
    "### Output the dataset"
   ]
  },
  {
   "cell_type": "code",
   "execution_count": null,
   "metadata": {},
   "outputs": [],
   "source": [
    "filepath = '../../N2FL NLP/data/03a_sentiment_prep_masked.csv'"
   ]
  },
  {
   "cell_type": "code",
   "execution_count": null,
   "metadata": {},
   "outputs": [],
   "source": [
    "data_analyze.to_csv(filepath)"
   ]
  }
 ],
 "metadata": {
  "accelerator": "GPU",
  "colab": {
   "authorship_tag": "ABX9TyMAuEB3gWvsNBmtDDWB1XwO",
   "collapsed_sections": [],
   "mount_file_id": "1PoEqjCSL3iefMoqJ81U-W8wQhtyQLU3-",
   "name": "03a_sentiment_analysis.ipynb",
   "provenance": []
  },
  "kernelspec": {
   "display_name": "Python 3",
   "language": "python",
   "name": "python3"
  },
  "language_info": {
   "codemirror_mode": {
    "name": "ipython",
    "version": 3
   },
   "file_extension": ".py",
   "mimetype": "text/x-python",
   "name": "python",
   "nbconvert_exporter": "python",
   "pygments_lexer": "ipython3",
   "version": "3.8.8"
  }
 },
 "nbformat": 4,
 "nbformat_minor": 4
}
